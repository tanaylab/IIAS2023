{
 "cells": [
  {
   "cell_type": "markdown",
   "metadata": {},
   "source": [
    "# Getting started with naryn"
   ]
  },
  {
   "cell_type": "markdown",
   "metadata": {},
   "source": [
    "Naryn is an implementation of a time-series database, for efficient storage, retrieval and analysis of electronic health records (EHR)."
   ]
  },
  {
   "cell_type": "markdown",
   "metadata": {},
   "source": [
    "## Setup"
   ]
  },
  {
   "cell_type": "markdown",
   "metadata": {
    "tags": []
   },
   "source": [
    "### Install packages if needed"
   ]
  },
  {
   "cell_type": "code",
   "execution_count": 1,
   "metadata": {},
   "outputs": [],
   "source": [
    "# utility functions\n",
    "ON_KAGGLE <- dir.exists(\"/kaggle\")\n",
    "package_exists <- function(pkg) pkg %in% rownames(installed.packages())"
   ]
  },
  {
   "cell_type": "code",
   "execution_count": 2,
   "metadata": {},
   "outputs": [],
   "source": [
    "# install naryn if needed\n",
    "if (!package_exists(\"naryn\")) {\n",
    "    if (ON_KAGGLE) {\n",
    "        install.packages(\"/kaggle/input/d/aviezerl/naryn-source-code/naryn_2.6.14_R_x86_64-pc-linux-gnu.savta\", repos = NULL)\n",
    "    } else {\n",
    "        install.packages(\"naryn\")\n",
    "    }\n",
    "}"
   ]
  },
  {
   "cell_type": "code",
   "execution_count": 3,
   "metadata": {
    "vscode": {
     "languageId": "r"
    }
   },
   "outputs": [],
   "source": [
    "# install the rest of the packages\n",
    "required_packages <- c(\"dplyr\", \"purrr\", \"ggplot2\", \"survminer\", \"survival\", \"cmprsk\", \"pROC\", \"xgboost\")\n",
    "for (pkg in required_packages) {\n",
    "    if (!package_exists(pkg)) {\n",
    "        install.packages(pkg)\n",
    "    }\n",
    "}"
   ]
  },
  {
   "cell_type": "markdown",
   "metadata": {
    "tags": []
   },
   "source": [
    "### Load packages"
   ]
  },
  {
   "cell_type": "code",
   "execution_count": 4,
   "metadata": {
    "vscode": {
     "languageId": "r"
    }
   },
   "outputs": [
    {
     "name": "stderr",
     "output_type": "stream",
     "text": [
      "\n",
      "Attaching package: 'naryn'\n",
      "\n",
      "\n",
      "The following object is masked from 'package:base':\n",
      "\n",
      "    months\n",
      "\n",
      "\n",
      "\n",
      "Attaching package: 'dplyr'\n",
      "\n",
      "\n",
      "The following objects are masked from 'package:stats':\n",
      "\n",
      "    filter, lag\n",
      "\n",
      "\n",
      "The following objects are masked from 'package:base':\n",
      "\n",
      "    intersect, setdiff, setequal, union\n",
      "\n",
      "\n"
     ]
    }
   ],
   "source": [
    "library(naryn)\n",
    "library(dplyr)\n",
    "library(ggplot2)\n",
    "theme_set(theme_classic())"
   ]
  },
  {
   "cell_type": "markdown",
   "metadata": {},
   "source": [
    "### Download the example database \n",
    "\n",
    "Towards this vignette we are going to use a small database which was simulated to include an example of a typical EMR database. It can be downloaded from [here](https://naryn.s3.eu-west-1.amazonaws.com/naryn_example_db.tar.gz) or using the following code:"
   ]
  },
  {
   "cell_type": "code",
   "execution_count": 5,
   "metadata": {},
   "outputs": [],
   "source": [
    "if (ON_KAGGLE) {\n",
    "    system(\"cp -r /kaggle/input/simulated-ehr-dataset/sample_db /kaggle/working/\")\n",
    "    db_dir <- \"/kaggle/working/sample_db\"\n",
    "    emr_db.connect(db_dir)\n",
    "    emr_db.reload()\n",
    "} else {\n",
    "    if (!dir.exists(\"sample_db\")) {\n",
    "        emr_download_example_data()\n",
    "    }\n",
    "    db_dir <- \"sample_db\"\n",
    "}"
   ]
  },
  {
   "cell_type": "markdown",
   "metadata": {},
   "source": [
    "Note that although smaller than the real database, this example database is still quite large (~1.2GB) and will take a few minutes to download."
   ]
  },
  {
   "cell_type": "markdown",
   "metadata": {},
   "source": [
    "## Tracks"
   ]
  },
  {
   "cell_type": "markdown",
   "metadata": {},
   "source": [
    "The basic element of Naryn is a `track` - a single numerical data element (e.g. Creatinine lab measurement) that is recorded for many patients at various time points. A track can be thought of as a very sparse two-dimensional matrix with a row for each patient in the database, and a column for each timepoint in the resolution of hours. Another way to think of a track is as a table with triplets of patient, timepoint and value: \n",
    "\n",
    "|id|time   |lab.CREATININE.BLOOD|\n",
    "|--|-------|--------------------|\n",
    "|1 |1228730|1.1803077           |\n",
    "|1 |1229711|1.1490350           |\n",
    "|1 |1230163|1.1682341           |\n",
    "|1 |1239512|1.1314427           |\n",
    "|1 |1248503|1.2582408           |\n",
    "|2 |1274663|0.7628091           |\n",
    "|2 |1288516|0.7240421           |\n",
    "|2 |1321502|0.7352935           |\n",
    "|3 |1222798|0.9173284           |\n",
    "|3 |1286821|0.9149746           |\n",
    "\n",
    "The value can be any numerical value, but it is usually a lab test result, or categorical variable representing a diagnosis. The time is a number representing the number of hours since 1/3/1867 00:00, and the id is a unique identifier for each patient which is defined in a special track called '*patients.dob*', which contains the time of birth for each patient (see below)."
   ]
  },
  {
   "cell_type": "markdown",
   "metadata": {},
   "source": [
    "## Connect to database"
   ]
  },
  {
   "cell_type": "markdown",
   "metadata": {},
   "source": [
    "A naryn database is a folder containing a number of tracks. To connect to a database, use the `emr_db.connect` function:"
   ]
  },
  {
   "cell_type": "code",
   "execution_count": 6,
   "metadata": {
    "vscode": {
     "languageId": "r"
    }
   },
   "outputs": [],
   "source": [
    "emr_db.connect(db_dir)"
   ]
  },
  {
   "cell_type": "markdown",
   "metadata": {},
   "source": [
    "Now we can use `emr_track.ls` to list all the tracks in the database:\n",
    "\n"
   ]
  },
  {
   "cell_type": "code",
   "execution_count": 7,
   "metadata": {
    "vscode": {
     "languageId": "r"
    }
   },
   "outputs": [
    {
     "data": {
      "text/html": [
       "<style>\n",
       ".list-inline {list-style: none; margin:0; padding: 0}\n",
       ".list-inline>li {display: inline-block}\n",
       ".list-inline>li:not(:last-child)::after {content: \"\\00b7\"; padding: 0 .5ex}\n",
       "</style>\n",
       "<ol class=list-inline><li>'dx.icd9_000'</li><li>'dx.icd9_001'</li><li>'dx.icd9_002'</li><li>'dx.icd9_003'</li><li>'dx.icd9_004'</li><li>'dx.icd9_005'</li></ol>\n"
      ],
      "text/latex": [
       "\\begin{enumerate*}\n",
       "\\item 'dx.icd9\\_000'\n",
       "\\item 'dx.icd9\\_001'\n",
       "\\item 'dx.icd9\\_002'\n",
       "\\item 'dx.icd9\\_003'\n",
       "\\item 'dx.icd9\\_004'\n",
       "\\item 'dx.icd9\\_005'\n",
       "\\end{enumerate*}\n"
      ],
      "text/markdown": [
       "1. 'dx.icd9_000'\n",
       "2. 'dx.icd9_001'\n",
       "3. 'dx.icd9_002'\n",
       "4. 'dx.icd9_003'\n",
       "5. 'dx.icd9_004'\n",
       "6. 'dx.icd9_005'\n",
       "\n",
       "\n"
      ],
      "text/plain": [
       "[1] \"dx.icd9_000\" \"dx.icd9_001\" \"dx.icd9_002\" \"dx.icd9_003\" \"dx.icd9_004\"\n",
       "[6] \"dx.icd9_005\""
      ]
     },
     "metadata": {},
     "output_type": "display_data"
    }
   ],
   "source": [
    "head(emr_track.ls())"
   ]
  },
  {
   "cell_type": "markdown",
   "metadata": {},
   "source": [
    "show number of available tracks in database:"
   ]
  },
  {
   "cell_type": "code",
   "execution_count": 8,
   "metadata": {
    "vscode": {
     "languageId": "r"
    }
   },
   "outputs": [
    {
     "data": {
      "text/html": [
       "2998"
      ],
      "text/latex": [
       "2998"
      ],
      "text/markdown": [
       "2998"
      ],
      "text/plain": [
       "[1] 2998"
      ]
     },
     "metadata": {},
     "output_type": "display_data"
    }
   ],
   "source": [
    "length(emr_track.ls())"
   ]
  },
  {
   "cell_type": "markdown",
   "metadata": {},
   "source": [
    "We can also use `emr_track.ls` to list all the tracks that match a certain pattern:\n",
    "\n"
   ]
  },
  {
   "cell_type": "code",
   "execution_count": 9,
   "metadata": {
    "vscode": {
     "languageId": "r"
    }
   },
   "outputs": [
    {
     "data": {
      "text/html": [
       "<style>\n",
       ".list-inline {list-style: none; margin:0; padding: 0}\n",
       ".list-inline>li {display: inline-block}\n",
       ".list-inline>li:not(:last-child)::after {content: \"\\00b7\"; padding: 0 .5ex}\n",
       "</style>\n",
       "<ol class=list-inline><li>'lab.CREATININE.BLOOD'</li><li>'lab.CREATININE.URINE'</li></ol>\n"
      ],
      "text/latex": [
       "\\begin{enumerate*}\n",
       "\\item 'lab.CREATININE.BLOOD'\n",
       "\\item 'lab.CREATININE.URINE'\n",
       "\\end{enumerate*}\n"
      ],
      "text/markdown": [
       "1. 'lab.CREATININE.BLOOD'\n",
       "2. 'lab.CREATININE.URINE'\n",
       "\n",
       "\n"
      ],
      "text/plain": [
       "[1] \"lab.CREATININE.BLOOD\" \"lab.CREATININE.URINE\""
      ]
     },
     "metadata": {},
     "output_type": "display_data"
    }
   ],
   "source": [
    "emr_track.ls(\"CREATININE\")"
   ]
  },
  {
   "cell_type": "markdown",
   "metadata": {},
   "source": [
    "> Note: Naryn supports connecting to multiple databases at the same time, by giving a vector of paths to `emr_db.connect`, see more in the 'Database' section of the [advanced vignette](https://tanaylab.github.io/naryn/articles/advanced.html)."
   ]
  },
  {
   "cell_type": "markdown",
   "metadata": {},
   "source": [
    "_**Exercise:** list all the \"RBC\" tracks in the database_"
   ]
  },
  {
   "cell_type": "markdown",
   "metadata": {},
   "source": [
    "## Extract data from tracks"
   ]
  },
  {
   "cell_type": "markdown",
   "metadata": {},
   "source": [
    "We can now go back to the Creatinine example and extract the data from the track. This can be done using the `emr_extract()` function which is the 'Swiss army knife' of the package. It can be used to extract data from a single track, or from multiple tracks, while applying various filters and transformations, but we will start with the simplest example of extracting the data from a single track:"
   ]
  },
  {
   "cell_type": "code",
   "execution_count": 10,
   "metadata": {
    "vscode": {
     "languageId": "r"
    }
   },
   "outputs": [
    {
     "data": {
      "text/html": [
       "<table class=\"dataframe\">\n",
       "<caption>A data.frame: 6 × 4</caption>\n",
       "<thead>\n",
       "\t<tr><th></th><th scope=col>id</th><th scope=col>time</th><th scope=col>ref</th><th scope=col>lab.CREATININE.BLOOD</th></tr>\n",
       "\t<tr><th></th><th scope=col>&lt;int&gt;</th><th scope=col>&lt;int&gt;</th><th scope=col>&lt;int&gt;</th><th scope=col>&lt;dbl&gt;</th></tr>\n",
       "</thead>\n",
       "<tbody>\n",
       "\t<tr><th scope=row>1</th><td>1</td><td>1228730</td><td>-1</td><td>1.1803077</td></tr>\n",
       "\t<tr><th scope=row>2</th><td>1</td><td>1229711</td><td>-1</td><td>1.1490350</td></tr>\n",
       "\t<tr><th scope=row>3</th><td>1</td><td>1230163</td><td>-1</td><td>1.1682341</td></tr>\n",
       "\t<tr><th scope=row>4</th><td>1</td><td>1239512</td><td>-1</td><td>1.1314427</td></tr>\n",
       "\t<tr><th scope=row>5</th><td>1</td><td>1248503</td><td>-1</td><td>1.2582408</td></tr>\n",
       "\t<tr><th scope=row>6</th><td>2</td><td>1274663</td><td>-1</td><td>0.7628091</td></tr>\n",
       "</tbody>\n",
       "</table>\n"
      ],
      "text/latex": [
       "A data.frame: 6 × 4\n",
       "\\begin{tabular}{r|llll}\n",
       "  & id & time & ref & lab.CREATININE.BLOOD\\\\\n",
       "  & <int> & <int> & <int> & <dbl>\\\\\n",
       "\\hline\n",
       "\t1 & 1 & 1228730 & -1 & 1.1803077\\\\\n",
       "\t2 & 1 & 1229711 & -1 & 1.1490350\\\\\n",
       "\t3 & 1 & 1230163 & -1 & 1.1682341\\\\\n",
       "\t4 & 1 & 1239512 & -1 & 1.1314427\\\\\n",
       "\t5 & 1 & 1248503 & -1 & 1.2582408\\\\\n",
       "\t6 & 2 & 1274663 & -1 & 0.7628091\\\\\n",
       "\\end{tabular}\n"
      ],
      "text/markdown": [
       "\n",
       "A data.frame: 6 × 4\n",
       "\n",
       "| <!--/--> | id &lt;int&gt; | time &lt;int&gt; | ref &lt;int&gt; | lab.CREATININE.BLOOD &lt;dbl&gt; |\n",
       "|---|---|---|---|---|\n",
       "| 1 | 1 | 1228730 | -1 | 1.1803077 |\n",
       "| 2 | 1 | 1229711 | -1 | 1.1490350 |\n",
       "| 3 | 1 | 1230163 | -1 | 1.1682341 |\n",
       "| 4 | 1 | 1239512 | -1 | 1.1314427 |\n",
       "| 5 | 1 | 1248503 | -1 | 1.2582408 |\n",
       "| 6 | 2 | 1274663 | -1 | 0.7628091 |\n",
       "\n"
      ],
      "text/plain": [
       "  id time    ref lab.CREATININE.BLOOD\n",
       "1 1  1228730 -1  1.1803077           \n",
       "2 1  1229711 -1  1.1490350           \n",
       "3 1  1230163 -1  1.1682341           \n",
       "4 1  1239512 -1  1.1314427           \n",
       "5 1  1248503 -1  1.2582408           \n",
       "6 2  1274663 -1  0.7628091           "
      ]
     },
     "metadata": {},
     "output_type": "display_data"
    }
   ],
   "source": [
    "creatinine_df <- emr_extract(\"lab.CREATININE.BLOOD\")\n",
    "head(creatinine_df)"
   ]
  },
  {
   "cell_type": "markdown",
   "metadata": {},
   "source": [
    "We can see that the data is returned as a data frame with four columns: id, time, ref and 'lab.CREATININE.BLOOD' which contains the values. The id column contains the patient id, the time column contains the time of the measurement in hours since 1/3/1867 00:00, and the value column contains the Creatinine measurement of the patient at each timepoint. \n",
    "\n",
    "For information regarding the ref column, see the 'Records and References' section in the [advanced vignette](https://tanaylab.github.io/naryn/articles/advanced.html).\n",
    "\n",
    "The data frame is sorted by id and time, so that the data for each patient is consecutive. \n",
    "\n",
    "You can change the name of the value column using the `names` argument:"
   ]
  },
  {
   "cell_type": "code",
   "execution_count": 11,
   "metadata": {
    "vscode": {
     "languageId": "r"
    }
   },
   "outputs": [
    {
     "data": {
      "text/html": [
       "<table class=\"dataframe\">\n",
       "<caption>A data.frame: 6 × 4</caption>\n",
       "<thead>\n",
       "\t<tr><th></th><th scope=col>id</th><th scope=col>time</th><th scope=col>ref</th><th scope=col>Creatinine</th></tr>\n",
       "\t<tr><th></th><th scope=col>&lt;int&gt;</th><th scope=col>&lt;int&gt;</th><th scope=col>&lt;int&gt;</th><th scope=col>&lt;dbl&gt;</th></tr>\n",
       "</thead>\n",
       "<tbody>\n",
       "\t<tr><th scope=row>1</th><td>1</td><td>1228730</td><td>-1</td><td>1.1803077</td></tr>\n",
       "\t<tr><th scope=row>2</th><td>1</td><td>1229711</td><td>-1</td><td>1.1490350</td></tr>\n",
       "\t<tr><th scope=row>3</th><td>1</td><td>1230163</td><td>-1</td><td>1.1682341</td></tr>\n",
       "\t<tr><th scope=row>4</th><td>1</td><td>1239512</td><td>-1</td><td>1.1314427</td></tr>\n",
       "\t<tr><th scope=row>5</th><td>1</td><td>1248503</td><td>-1</td><td>1.2582408</td></tr>\n",
       "\t<tr><th scope=row>6</th><td>2</td><td>1274663</td><td>-1</td><td>0.7628091</td></tr>\n",
       "</tbody>\n",
       "</table>\n"
      ],
      "text/latex": [
       "A data.frame: 6 × 4\n",
       "\\begin{tabular}{r|llll}\n",
       "  & id & time & ref & Creatinine\\\\\n",
       "  & <int> & <int> & <int> & <dbl>\\\\\n",
       "\\hline\n",
       "\t1 & 1 & 1228730 & -1 & 1.1803077\\\\\n",
       "\t2 & 1 & 1229711 & -1 & 1.1490350\\\\\n",
       "\t3 & 1 & 1230163 & -1 & 1.1682341\\\\\n",
       "\t4 & 1 & 1239512 & -1 & 1.1314427\\\\\n",
       "\t5 & 1 & 1248503 & -1 & 1.2582408\\\\\n",
       "\t6 & 2 & 1274663 & -1 & 0.7628091\\\\\n",
       "\\end{tabular}\n"
      ],
      "text/markdown": [
       "\n",
       "A data.frame: 6 × 4\n",
       "\n",
       "| <!--/--> | id &lt;int&gt; | time &lt;int&gt; | ref &lt;int&gt; | Creatinine &lt;dbl&gt; |\n",
       "|---|---|---|---|---|\n",
       "| 1 | 1 | 1228730 | -1 | 1.1803077 |\n",
       "| 2 | 1 | 1229711 | -1 | 1.1490350 |\n",
       "| 3 | 1 | 1230163 | -1 | 1.1682341 |\n",
       "| 4 | 1 | 1239512 | -1 | 1.1314427 |\n",
       "| 5 | 1 | 1248503 | -1 | 1.2582408 |\n",
       "| 6 | 2 | 1274663 | -1 | 0.7628091 |\n",
       "\n"
      ],
      "text/plain": [
       "  id time    ref Creatinine\n",
       "1 1  1228730 -1  1.1803077 \n",
       "2 1  1229711 -1  1.1490350 \n",
       "3 1  1230163 -1  1.1682341 \n",
       "4 1  1239512 -1  1.1314427 \n",
       "5 1  1248503 -1  1.2582408 \n",
       "6 2  1274663 -1  0.7628091 "
      ]
     },
     "metadata": {},
     "output_type": "display_data"
    }
   ],
   "source": [
    "head(emr_extract(\"lab.CREATININE.BLOOD\", names = \"Creatinine\"))"
   ]
  },
  {
   "cell_type": "markdown",
   "metadata": {},
   "source": [
    "### Track expression "
   ]
  },
  {
   "cell_type": "markdown",
   "metadata": {},
   "source": [
    "The first argument of `emr_extract` was, in the example above, a string representing the name of the track. However, it can also be a *track expression*, which is a string that can contain functions that will be applied to the track after extracting the data. For example, we can extract the lab value multiplied by two:"
   ]
  },
  {
   "cell_type": "code",
   "execution_count": 12,
   "metadata": {
    "vscode": {
     "languageId": "r"
    }
   },
   "outputs": [
    {
     "data": {
      "text/html": [
       "<table class=\"dataframe\">\n",
       "<caption>A data.frame: 6 × 4</caption>\n",
       "<thead>\n",
       "\t<tr><th></th><th scope=col>id</th><th scope=col>time</th><th scope=col>ref</th><th scope=col>Creatinine</th></tr>\n",
       "\t<tr><th></th><th scope=col>&lt;int&gt;</th><th scope=col>&lt;int&gt;</th><th scope=col>&lt;int&gt;</th><th scope=col>&lt;dbl&gt;</th></tr>\n",
       "</thead>\n",
       "<tbody>\n",
       "\t<tr><th scope=row>1</th><td>1</td><td>1228730</td><td>-1</td><td>2.360615</td></tr>\n",
       "\t<tr><th scope=row>2</th><td>1</td><td>1229711</td><td>-1</td><td>2.298070</td></tr>\n",
       "\t<tr><th scope=row>3</th><td>1</td><td>1230163</td><td>-1</td><td>2.336468</td></tr>\n",
       "\t<tr><th scope=row>4</th><td>1</td><td>1239512</td><td>-1</td><td>2.262885</td></tr>\n",
       "\t<tr><th scope=row>5</th><td>1</td><td>1248503</td><td>-1</td><td>2.516482</td></tr>\n",
       "\t<tr><th scope=row>6</th><td>2</td><td>1274663</td><td>-1</td><td>1.525618</td></tr>\n",
       "</tbody>\n",
       "</table>\n"
      ],
      "text/latex": [
       "A data.frame: 6 × 4\n",
       "\\begin{tabular}{r|llll}\n",
       "  & id & time & ref & Creatinine\\\\\n",
       "  & <int> & <int> & <int> & <dbl>\\\\\n",
       "\\hline\n",
       "\t1 & 1 & 1228730 & -1 & 2.360615\\\\\n",
       "\t2 & 1 & 1229711 & -1 & 2.298070\\\\\n",
       "\t3 & 1 & 1230163 & -1 & 2.336468\\\\\n",
       "\t4 & 1 & 1239512 & -1 & 2.262885\\\\\n",
       "\t5 & 1 & 1248503 & -1 & 2.516482\\\\\n",
       "\t6 & 2 & 1274663 & -1 & 1.525618\\\\\n",
       "\\end{tabular}\n"
      ],
      "text/markdown": [
       "\n",
       "A data.frame: 6 × 4\n",
       "\n",
       "| <!--/--> | id &lt;int&gt; | time &lt;int&gt; | ref &lt;int&gt; | Creatinine &lt;dbl&gt; |\n",
       "|---|---|---|---|---|\n",
       "| 1 | 1 | 1228730 | -1 | 2.360615 |\n",
       "| 2 | 1 | 1229711 | -1 | 2.298070 |\n",
       "| 3 | 1 | 1230163 | -1 | 2.336468 |\n",
       "| 4 | 1 | 1239512 | -1 | 2.262885 |\n",
       "| 5 | 1 | 1248503 | -1 | 2.516482 |\n",
       "| 6 | 2 | 1274663 | -1 | 1.525618 |\n",
       "\n"
      ],
      "text/plain": [
       "  id time    ref Creatinine\n",
       "1 1  1228730 -1  2.360615  \n",
       "2 1  1229711 -1  2.298070  \n",
       "3 1  1230163 -1  2.336468  \n",
       "4 1  1239512 -1  2.262885  \n",
       "5 1  1248503 -1  2.516482  \n",
       "6 2  1274663 -1  1.525618  "
      ]
     },
     "metadata": {},
     "output_type": "display_data"
    }
   ],
   "source": [
    "creatinine_df1 <- emr_extract(\"lab.CREATININE.BLOOD * 2\", names = \"Creatinine\")\n",
    "head(creatinine_df1)"
   ]
  },
  {
   "cell_type": "markdown",
   "metadata": {
    "tags": []
   },
   "source": [
    "Note that the functions used in the track expression must be able to be applied to a vector of values and should return a vector of the same length."
   ]
  },
  {
   "cell_type": "markdown",
   "metadata": {},
   "source": [
    "_**Exercise:** Extract BMI values._\n",
    "\n",
    "_The weight and height tracks are \"LAB.WEIGHT\" and \"LAB.HEIGHT\". Reminder: $$BMI = \\frac{weight}{height^2}$$_"
   ]
  },
  {
   "cell_type": "markdown",
   "metadata": {},
   "source": [
    "#### Changing time to date"
   ]
  },
  {
   "cell_type": "markdown",
   "metadata": {},
   "source": [
    "We can transform the `time` field from the internal `naryn` representation to year, month day and hour using the `emr_time2date()` function:"
   ]
  },
  {
   "cell_type": "code",
   "execution_count": 13,
   "metadata": {
    "vscode": {
     "languageId": "r"
    }
   },
   "outputs": [
    {
     "data": {
      "text/html": [
       "<table class=\"dataframe\">\n",
       "<caption>A data.frame: 6 × 8</caption>\n",
       "<thead>\n",
       "\t<tr><th></th><th scope=col>id</th><th scope=col>time</th><th scope=col>ref</th><th scope=col>lab.CREATININE.BLOOD</th><th scope=col>day</th><th scope=col>month</th><th scope=col>year</th><th scope=col>hour</th></tr>\n",
       "\t<tr><th></th><th scope=col>&lt;int&gt;</th><th scope=col>&lt;int&gt;</th><th scope=col>&lt;int&gt;</th><th scope=col>&lt;dbl&gt;</th><th scope=col>&lt;dbl&gt;</th><th scope=col>&lt;dbl&gt;</th><th scope=col>&lt;dbl&gt;</th><th scope=col>&lt;dbl&gt;</th></tr>\n",
       "</thead>\n",
       "<tbody>\n",
       "\t<tr><th scope=row>1</th><td>1</td><td>1228730</td><td>-1</td><td>1.1803077</td><td> 3</td><td>5</td><td>2007</td><td> 2</td></tr>\n",
       "\t<tr><th scope=row>2</th><td>1</td><td>1229711</td><td>-1</td><td>1.1490350</td><td>12</td><td>6</td><td>2007</td><td>23</td></tr>\n",
       "\t<tr><th scope=row>3</th><td>1</td><td>1230163</td><td>-1</td><td>1.1682341</td><td> 1</td><td>7</td><td>2007</td><td>19</td></tr>\n",
       "\t<tr><th scope=row>4</th><td>1</td><td>1239512</td><td>-1</td><td>1.1314427</td><td>25</td><td>7</td><td>2008</td><td> 8</td></tr>\n",
       "\t<tr><th scope=row>5</th><td>1</td><td>1248503</td><td>-1</td><td>1.2582408</td><td> 3</td><td>8</td><td>2009</td><td>23</td></tr>\n",
       "\t<tr><th scope=row>6</th><td>2</td><td>1274663</td><td>-1</td><td>0.7628091</td><td>28</td><td>7</td><td>2012</td><td>23</td></tr>\n",
       "</tbody>\n",
       "</table>\n"
      ],
      "text/latex": [
       "A data.frame: 6 × 8\n",
       "\\begin{tabular}{r|llllllll}\n",
       "  & id & time & ref & lab.CREATININE.BLOOD & day & month & year & hour\\\\\n",
       "  & <int> & <int> & <int> & <dbl> & <dbl> & <dbl> & <dbl> & <dbl>\\\\\n",
       "\\hline\n",
       "\t1 & 1 & 1228730 & -1 & 1.1803077 &  3 & 5 & 2007 &  2\\\\\n",
       "\t2 & 1 & 1229711 & -1 & 1.1490350 & 12 & 6 & 2007 & 23\\\\\n",
       "\t3 & 1 & 1230163 & -1 & 1.1682341 &  1 & 7 & 2007 & 19\\\\\n",
       "\t4 & 1 & 1239512 & -1 & 1.1314427 & 25 & 7 & 2008 &  8\\\\\n",
       "\t5 & 1 & 1248503 & -1 & 1.2582408 &  3 & 8 & 2009 & 23\\\\\n",
       "\t6 & 2 & 1274663 & -1 & 0.7628091 & 28 & 7 & 2012 & 23\\\\\n",
       "\\end{tabular}\n"
      ],
      "text/markdown": [
       "\n",
       "A data.frame: 6 × 8\n",
       "\n",
       "| <!--/--> | id &lt;int&gt; | time &lt;int&gt; | ref &lt;int&gt; | lab.CREATININE.BLOOD &lt;dbl&gt; | day &lt;dbl&gt; | month &lt;dbl&gt; | year &lt;dbl&gt; | hour &lt;dbl&gt; |\n",
       "|---|---|---|---|---|---|---|---|---|\n",
       "| 1 | 1 | 1228730 | -1 | 1.1803077 |  3 | 5 | 2007 |  2 |\n",
       "| 2 | 1 | 1229711 | -1 | 1.1490350 | 12 | 6 | 2007 | 23 |\n",
       "| 3 | 1 | 1230163 | -1 | 1.1682341 |  1 | 7 | 2007 | 19 |\n",
       "| 4 | 1 | 1239512 | -1 | 1.1314427 | 25 | 7 | 2008 |  8 |\n",
       "| 5 | 1 | 1248503 | -1 | 1.2582408 |  3 | 8 | 2009 | 23 |\n",
       "| 6 | 2 | 1274663 | -1 | 0.7628091 | 28 | 7 | 2012 | 23 |\n",
       "\n"
      ],
      "text/plain": [
       "  id time    ref lab.CREATININE.BLOOD day month year hour\n",
       "1 1  1228730 -1  1.1803077             3  5     2007  2  \n",
       "2 1  1229711 -1  1.1490350            12  6     2007 23  \n",
       "3 1  1230163 -1  1.1682341             1  7     2007 19  \n",
       "4 1  1239512 -1  1.1314427            25  7     2008  8  \n",
       "5 1  1248503 -1  1.2582408             3  8     2009 23  \n",
       "6 2  1274663 -1  0.7628091            28  7     2012 23  "
      ]
     },
     "metadata": {},
     "output_type": "display_data"
    }
   ],
   "source": [
    "creatinine_df %>%\n",
    "    mutate(emr_time2date(time)) %>%\n",
    "    head()"
   ]
  },
  {
   "cell_type": "markdown",
   "metadata": {},
   "source": [
    "## Iterators and virtual tracks"
   ]
  },
  {
   "cell_type": "markdown",
   "metadata": {},
   "source": [
    "In the previous example we extracted the data from a single track, what happens if we want to extract data from multiple tracks at once? For example, we want to extract both Creatinine and blood Glucose levels of patients which had Chronic Kidney Disease (CKD), 5 years before their diagnosis. In order to achieve this we need to introduce the concept of *iterators*. \n",
    "\n",
    "An iterator is a set of points in the *patient-time space*[^1] that defines the way in which naryn traverses the database. In the Creatinine example, the iterator was simply the set of all *patient-time* points that were included in the track, but now - we want our point-of-view to be the CKD diagnosis so we set the iterator to the track of ICD9 code 585 `dx.icd9_585`: "
   ]
  },
  {
   "cell_type": "code",
   "execution_count": 14,
   "metadata": {
    "vscode": {
     "languageId": "r"
    }
   },
   "outputs": [
    {
     "data": {
      "text/html": [
       "<table class=\"dataframe\">\n",
       "<caption>A data.frame: 6 × 5</caption>\n",
       "<thead>\n",
       "\t<tr><th></th><th scope=col>id</th><th scope=col>time</th><th scope=col>ref</th><th scope=col>lab.CREATININE.BLOOD</th><th scope=col>lab.GLUCOSE.BLOOD</th></tr>\n",
       "\t<tr><th></th><th scope=col>&lt;int&gt;</th><th scope=col>&lt;int&gt;</th><th scope=col>&lt;int&gt;</th><th scope=col>&lt;dbl&gt;</th><th scope=col>&lt;dbl&gt;</th></tr>\n",
       "</thead>\n",
       "<tbody>\n",
       "\t<tr><th scope=row>1</th><td> 1</td><td>1238196</td><td>-1</td><td>NaN</td><td>NaN</td></tr>\n",
       "\t<tr><th scope=row>2</th><td> 1</td><td>1242854</td><td>-1</td><td>NaN</td><td>NaN</td></tr>\n",
       "\t<tr><th scope=row>3</th><td> 1</td><td>1243714</td><td>-1</td><td>NaN</td><td>NaN</td></tr>\n",
       "\t<tr><th scope=row>4</th><td>22</td><td>1220227</td><td>-1</td><td>NaN</td><td>NaN</td></tr>\n",
       "\t<tr><th scope=row>5</th><td>22</td><td>1224686</td><td>-1</td><td>NaN</td><td>NaN</td></tr>\n",
       "\t<tr><th scope=row>6</th><td>22</td><td>1232399</td><td>-1</td><td>NaN</td><td>NaN</td></tr>\n",
       "</tbody>\n",
       "</table>\n"
      ],
      "text/latex": [
       "A data.frame: 6 × 5\n",
       "\\begin{tabular}{r|lllll}\n",
       "  & id & time & ref & lab.CREATININE.BLOOD & lab.GLUCOSE.BLOOD\\\\\n",
       "  & <int> & <int> & <int> & <dbl> & <dbl>\\\\\n",
       "\\hline\n",
       "\t1 &  1 & 1238196 & -1 & NaN & NaN\\\\\n",
       "\t2 &  1 & 1242854 & -1 & NaN & NaN\\\\\n",
       "\t3 &  1 & 1243714 & -1 & NaN & NaN\\\\\n",
       "\t4 & 22 & 1220227 & -1 & NaN & NaN\\\\\n",
       "\t5 & 22 & 1224686 & -1 & NaN & NaN\\\\\n",
       "\t6 & 22 & 1232399 & -1 & NaN & NaN\\\\\n",
       "\\end{tabular}\n"
      ],
      "text/markdown": [
       "\n",
       "A data.frame: 6 × 5\n",
       "\n",
       "| <!--/--> | id &lt;int&gt; | time &lt;int&gt; | ref &lt;int&gt; | lab.CREATININE.BLOOD &lt;dbl&gt; | lab.GLUCOSE.BLOOD &lt;dbl&gt; |\n",
       "|---|---|---|---|---|---|\n",
       "| 1 |  1 | 1238196 | -1 | NaN | NaN |\n",
       "| 2 |  1 | 1242854 | -1 | NaN | NaN |\n",
       "| 3 |  1 | 1243714 | -1 | NaN | NaN |\n",
       "| 4 | 22 | 1220227 | -1 | NaN | NaN |\n",
       "| 5 | 22 | 1224686 | -1 | NaN | NaN |\n",
       "| 6 | 22 | 1232399 | -1 | NaN | NaN |\n",
       "\n"
      ],
      "text/plain": [
       "  id time    ref lab.CREATININE.BLOOD lab.GLUCOSE.BLOOD\n",
       "1  1 1238196 -1  NaN                  NaN              \n",
       "2  1 1242854 -1  NaN                  NaN              \n",
       "3  1 1243714 -1  NaN                  NaN              \n",
       "4 22 1220227 -1  NaN                  NaN              \n",
       "5 22 1224686 -1  NaN                  NaN              \n",
       "6 22 1232399 -1  NaN                  NaN              "
      ]
     },
     "metadata": {},
     "output_type": "display_data"
    },
    {
     "data": {
      "text/html": [
       "13"
      ],
      "text/latex": [
       "13"
      ],
      "text/markdown": [
       "13"
      ],
      "text/plain": [
       "[1] 13"
      ]
     },
     "metadata": {},
     "output_type": "display_data"
    }
   ],
   "source": [
    "ckd_labs <- emr_extract(c(\"lab.CREATININE.BLOOD\", \"lab.GLUCOSE.BLOOD\"), iterator = \"dx.icd9_585\")\n",
    "head(ckd_labs)\n",
    "nrow(na.omit(ckd_labs))"
   ]
  },
  {
   "cell_type": "markdown",
   "metadata": {},
   "source": [
    "We can see that the \"lab.CREATININE.BLOOD\" and \"lab.GLUCOSE.BLOOD\" are all NA. This is because the iterator is set to the \n",
    "CKD diagnosis, and the Creatinine and RBC tests were not conducted at the exact time the diagnosis was recorded. In order to get the Glucose/Creatinine test that was done 5 years prior to the diagnosis, we would have to: \n",
    "\n",
    "1. Tell naryn to look back 5 years before the diagnosis\n",
    "2. Tell naryn what to do if there is more than one Creatinine test in the 5 years prior to the diagnosis, for example - take the latest test, or more generally - tell naryn which function to apply to values of the track. \n",
    "\n",
    "This can be done using a *virtual track*. A virtual track is a way to tell naryn how to compute the value of a track when at a specific point in the *patient-time space*. It is created using the `emr_virtual_track()` function, which tells naryn how to shift the time for a given track (1, `time.shift`) and which function to apply to the values of the track (2, `func`). \n",
    "\n",
    "Note that the time shift is always in reference to the *iterator*. So for example, in our case we would like to look at Creatinine / Glucose measurement 5 years before the diagnosis. If our iterator is at the time of the CKD diagnosis, we want to look at a time window that starts 5 years before and ends at the time of diagnosis:\n"
   ]
  },
  {
   "cell_type": "code",
   "execution_count": 15,
   "metadata": {
    "vscode": {
     "languageId": "r"
    }
   },
   "outputs": [],
   "source": [
    "emr_vtrack.create(\"creatinine_5y\", \"lab.CREATININE.BLOOD\", time.shift = c(-years(5), 0), func = \"latest\")\n",
    "emr_vtrack.create(\"glucose_5y\", \"lab.GLUCOSE.BLOOD\", time.shift = c(-years(5), 0), func = \"latest\")"
   ]
  },
  {
   "cell_type": "markdown",
   "metadata": {},
   "source": [
    "Now, we can extract the data from the virtual tracks (instead of the tracks themselves):\n",
    "\n"
   ]
  },
  {
   "cell_type": "code",
   "execution_count": 16,
   "metadata": {
    "vscode": {
     "languageId": "r"
    }
   },
   "outputs": [
    {
     "data": {
      "text/html": [
       "<table class=\"dataframe\">\n",
       "<caption>A data.frame: 6 × 5</caption>\n",
       "<thead>\n",
       "\t<tr><th></th><th scope=col>id</th><th scope=col>time</th><th scope=col>ref</th><th scope=col>Creatinine</th><th scope=col>Glucose</th></tr>\n",
       "\t<tr><th></th><th scope=col>&lt;int&gt;</th><th scope=col>&lt;int&gt;</th><th scope=col>&lt;int&gt;</th><th scope=col>&lt;dbl&gt;</th><th scope=col>&lt;dbl&gt;</th></tr>\n",
       "</thead>\n",
       "<tbody>\n",
       "\t<tr><th scope=row>1</th><td> 1</td><td>1238196</td><td>-1</td><td>1.1682341</td><td>187.19873</td></tr>\n",
       "\t<tr><th scope=row>2</th><td> 1</td><td>1242854</td><td>-1</td><td>1.1314427</td><td>120.63850</td></tr>\n",
       "\t<tr><th scope=row>3</th><td> 1</td><td>1243714</td><td>-1</td><td>1.1314427</td><td>120.63850</td></tr>\n",
       "\t<tr><th scope=row>4</th><td>22</td><td>1220227</td><td>-1</td><td>1.3684419</td><td> 99.08260</td></tr>\n",
       "\t<tr><th scope=row>5</th><td>22</td><td>1224686</td><td>-1</td><td>0.6575883</td><td> 86.04514</td></tr>\n",
       "\t<tr><th scope=row>6</th><td>22</td><td>1232399</td><td>-1</td><td>1.1613698</td><td> 94.50937</td></tr>\n",
       "</tbody>\n",
       "</table>\n"
      ],
      "text/latex": [
       "A data.frame: 6 × 5\n",
       "\\begin{tabular}{r|lllll}\n",
       "  & id & time & ref & Creatinine & Glucose\\\\\n",
       "  & <int> & <int> & <int> & <dbl> & <dbl>\\\\\n",
       "\\hline\n",
       "\t1 &  1 & 1238196 & -1 & 1.1682341 & 187.19873\\\\\n",
       "\t2 &  1 & 1242854 & -1 & 1.1314427 & 120.63850\\\\\n",
       "\t3 &  1 & 1243714 & -1 & 1.1314427 & 120.63850\\\\\n",
       "\t4 & 22 & 1220227 & -1 & 1.3684419 &  99.08260\\\\\n",
       "\t5 & 22 & 1224686 & -1 & 0.6575883 &  86.04514\\\\\n",
       "\t6 & 22 & 1232399 & -1 & 1.1613698 &  94.50937\\\\\n",
       "\\end{tabular}\n"
      ],
      "text/markdown": [
       "\n",
       "A data.frame: 6 × 5\n",
       "\n",
       "| <!--/--> | id &lt;int&gt; | time &lt;int&gt; | ref &lt;int&gt; | Creatinine &lt;dbl&gt; | Glucose &lt;dbl&gt; |\n",
       "|---|---|---|---|---|---|\n",
       "| 1 |  1 | 1238196 | -1 | 1.1682341 | 187.19873 |\n",
       "| 2 |  1 | 1242854 | -1 | 1.1314427 | 120.63850 |\n",
       "| 3 |  1 | 1243714 | -1 | 1.1314427 | 120.63850 |\n",
       "| 4 | 22 | 1220227 | -1 | 1.3684419 |  99.08260 |\n",
       "| 5 | 22 | 1224686 | -1 | 0.6575883 |  86.04514 |\n",
       "| 6 | 22 | 1232399 | -1 | 1.1613698 |  94.50937 |\n",
       "\n"
      ],
      "text/plain": [
       "  id time    ref Creatinine Glucose  \n",
       "1  1 1238196 -1  1.1682341  187.19873\n",
       "2  1 1242854 -1  1.1314427  120.63850\n",
       "3  1 1243714 -1  1.1314427  120.63850\n",
       "4 22 1220227 -1  1.3684419   99.08260\n",
       "5 22 1224686 -1  0.6575883   86.04514\n",
       "6 22 1232399 -1  1.1613698   94.50937"
      ]
     },
     "metadata": {},
     "output_type": "display_data"
    }
   ],
   "source": [
    "ckd_labs <- emr_extract(c(\"creatinine_5y\", \"glucose_5y\"), iterator = \"dx.icd9_585\", names = c(\"Creatinine\", \"Glucose\"))\n",
    "head(ckd_labs)"
   ]
  },
  {
   "cell_type": "markdown",
   "metadata": {},
   "source": [
    "The available virtual tracks functions are listed in the `emr_vtrack.create` function documentation:"
   ]
  },
  {
   "cell_type": "code",
   "execution_count": 17,
   "metadata": {},
   "outputs": [
    {
     "data": {
      "text/html": [
       "\n",
       "<table style=\"width: 100%;\"><tr><td>emr_vtrack.create {naryn}</td><td style=\"text-align: right;\">R Documentation</td></tr></table>\n",
       "\n",
       "<h2>Creates a new virtual track</h2>\n",
       "\n",
       "<h3>Description</h3>\n",
       "\n",
       "<p>Creates a new virtual track.\n",
       "</p>\n",
       "\n",
       "\n",
       "<h3>Usage</h3>\n",
       "\n",
       "<pre><code class='language-R'>emr_vtrack.create(\n",
       "  vtrack,\n",
       "  src,\n",
       "  func = NULL,\n",
       "  params = NULL,\n",
       "  keepref = FALSE,\n",
       "  time.shift = NULL,\n",
       "  id.map = NULL,\n",
       "  filter = NULL\n",
       ")\n",
       "</code></pre>\n",
       "\n",
       "\n",
       "<h3>Arguments</h3>\n",
       "\n",
       "<table>\n",
       "<tr style=\"vertical-align: top;\"><td><code>vtrack</code></td>\n",
       "<td>\n",
       "<p>virtual track name.</p>\n",
       "</td></tr>\n",
       "<tr style=\"vertical-align: top;\"><td><code>src</code></td>\n",
       "<td>\n",
       "<p>data source. either a track name or a list of two members: ID-Time Values table (see &quot;User\n",
       "Manual&quot;) and a logical. If the logical is 'TRUE', the data in the table is treated as categorical, otherwise as quantitative.</p>\n",
       "</td></tr>\n",
       "<tr style=\"vertical-align: top;\"><td><code>func, params</code></td>\n",
       "<td>\n",
       "<p>see below.</p>\n",
       "</td></tr>\n",
       "<tr style=\"vertical-align: top;\"><td><code>keepref</code></td>\n",
       "<td>\n",
       "<p>see below.</p>\n",
       "</td></tr>\n",
       "<tr style=\"vertical-align: top;\"><td><code>time.shift</code></td>\n",
       "<td>\n",
       "<p>time shift and expansion for iterator time.</p>\n",
       "</td></tr>\n",
       "<tr style=\"vertical-align: top;\"><td><code>id.map</code></td>\n",
       "<td>\n",
       "<p>id mapping.</p>\n",
       "</td></tr>\n",
       "<tr style=\"vertical-align: top;\"><td><code>filter</code></td>\n",
       "<td>\n",
       "<p>virtual track filter. Note that filters with a source of another virtual track are not allowed in order to avoid loops.</p>\n",
       "</td></tr>\n",
       "</table>\n",
       "\n",
       "\n",
       "<h3>Details</h3>\n",
       "\n",
       "<p>This function creates a new virtual track named 'vtrack'.\n",
       "</p>\n",
       "<p>During the evaluation of track expression that contains a virtual track\n",
       "'vtrack' the iterator point of id-time (ID1, Time, Ref) form is transformed\n",
       "first to an id-time interval: (ID2, Time1, Time2, Ref).\n",
       "</p>\n",
       "<p>If 'id.map' is 'NULL' then ID1 == ID2, otherwise ID2 is derived from the\n",
       "translation table provided in 'id.map'. This table is a data frame with two\n",
       "first columns named 'id1' and 'id2', where 'id1' is mapped to 'id2'. If\n",
       "'id.map' contains also a third optional column named 'time.shift' the value\n",
       "V of this column is used to shift the time accordingly, i.e. Time1 = Time2 =\n",
       "Time + V.\n",
       "</p>\n",
       "<p>'time.shift' parameter (not to be confused with 'time.shift' column of\n",
       "'id.map') can be either a single number X, in which case Time1 = Time2 =\n",
       "Time + X. Alternatively 'time.shift' can be a vector of two numbers, i.e.\n",
       "'c(X1, X2)', which would result in Time1 = Time + X1, Time2 = Time + X2.\n",
       "</p>\n",
       "<p>Both 'time.shift' parameter and 'time.shift' column within 'id.map' may be\n",
       "used simultaneously. In this case the time shifts are applied sequentially.\n",
       "</p>\n",
       "<p>At the next step values from the data source 'src' that fall into the new\n",
       "id-time interval and pass the 'filter' are collected. 'src' may be either a\n",
       "track name or a list of two members: ID-Time Values table (see &quot;User\n",
       "Manual&quot;) and a logical. If the logical is 'TRUE', the data in the table is\n",
       "treated as categorical, otherwise as quantitative.\n",
       "</p>\n",
       "<p>If 'keepref' is 'TRUE' the reference of these values must match 'ref' unless\n",
       "either the reference or 'ref' are '-1'.\n",
       "</p>\n",
       "<p>Function 'func' (with 'params') is applied then on the collected values and\n",
       "produces a single value which is considered to be the value of 'vtrack' for\n",
       "the given iterator point. If 'NULL' is used as a value for 'func', 'func' is\n",
       "set then implicitly to 'value', if the data source is categorical, or 'avg',\n",
       "if the data source is quantitative.\n",
       "</p>\n",
       "<p>Use the following table for a reference of all valid functions and\n",
       "parameters combinations.\n",
       "</p>\n",
       "<p>CATEGORICAL DATA SOURCE\n",
       "</p>\n",
       "\n",
       "<table>\n",
       "<tr>\n",
       " <td style=\"text-align: left;\"> FUNC </td><td style=\"text-align: left;\"> PARAM </td><td style=\"text-align: left;\"> DESCRIPTION </td>\n",
       "</tr>\n",
       "<tr>\n",
       " <td style=\"text-align: left;\"> value </td><td style=\"text-align: left;\"> vals/NULL\n",
       "</td><td style=\"text-align: left;\"> A source value or -1 if there is more than one. </td>\n",
       "</tr>\n",
       "<tr>\n",
       " <td style=\"text-align: left;\"> exists </td><td style=\"text-align: left;\"> vals\n",
       "</td><td style=\"text-align: left;\"> 1 if any of the 'vals' exist otherwise 0. </td>\n",
       "</tr>\n",
       "<tr>\n",
       " <td style=\"text-align: left;\"> sample </td><td style=\"text-align: left;\"> NULL </td><td style=\"text-align: left;\">\n",
       "Uniformly sampled source value. </td>\n",
       "</tr>\n",
       "<tr>\n",
       " <td style=\"text-align: left;\"> sample.time </td><td style=\"text-align: left;\"> NULL </td><td style=\"text-align: left;\"> Time of the\n",
       "uniformly sampled source value. </td>\n",
       "</tr>\n",
       "<tr>\n",
       " <td style=\"text-align: left;\"> frequent </td><td style=\"text-align: left;\"> vals/NULL </td><td style=\"text-align: left;\"> The most\n",
       "frequent source value or -1 if there is more than one value. </td>\n",
       "</tr>\n",
       "<tr>\n",
       " <td style=\"text-align: left;\"> size </td><td style=\"text-align: left;\">\n",
       "vals/NULL </td><td style=\"text-align: left;\"> Number of values. </td>\n",
       "</tr>\n",
       "<tr>\n",
       " <td style=\"text-align: left;\"> earliest </td><td style=\"text-align: left;\"> vals/NULL </td><td style=\"text-align: left;\"> Earliest\n",
       "value or -1 if there is more than one. </td>\n",
       "</tr>\n",
       "<tr>\n",
       " <td style=\"text-align: left;\"> latest </td><td style=\"text-align: left;\"> vals/NULL </td><td style=\"text-align: left;\"> Latest\n",
       "value or -1 if there is more than one. </td>\n",
       "</tr>\n",
       "<tr>\n",
       " <td style=\"text-align: left;\"> closest </td><td style=\"text-align: left;\"> vals/NULL </td><td style=\"text-align: left;\">\n",
       "Values closest to the middle of the interval or -1 if there is more than\n",
       "one. </td>\n",
       "</tr>\n",
       "<tr>\n",
       " <td style=\"text-align: left;\"> earliest.time </td><td style=\"text-align: left;\"> vals/NULL </td><td style=\"text-align: left;\"> Time of the earliest value. </td>\n",
       "</tr>\n",
       "<tr>\n",
       " <td style=\"text-align: left;\">\n",
       "latest.time </td><td style=\"text-align: left;\"> vals/NULL </td><td style=\"text-align: left;\"> Time of the latest value. </td>\n",
       "</tr>\n",
       "<tr>\n",
       " <td style=\"text-align: left;\">\n",
       "closest.earlier.time </td><td style=\"text-align: left;\"> vals/NULL </td><td style=\"text-align: left;\"> Time of the of the earlier of the\n",
       "closest values. </td>\n",
       "</tr>\n",
       "<tr>\n",
       " <td style=\"text-align: left;\"> closest.later.time </td><td style=\"text-align: left;\"> vals/NULL </td><td style=\"text-align: left;\"> Time of the of\n",
       "the later of the closest values. </td>\n",
       "</tr>\n",
       "<tr>\n",
       " <td style=\"text-align: left;\"> dt1.earliest </td><td style=\"text-align: left;\"> vals/NULL </td><td style=\"text-align: left;\"> Time\n",
       "difference between the earliest value and T1 </td>\n",
       "</tr>\n",
       "<tr>\n",
       " <td style=\"text-align: left;\"> dt1.latest </td><td style=\"text-align: left;\"> vals/NULL\n",
       "</td><td style=\"text-align: left;\"> Time difference between the latest value and T1 </td>\n",
       "</tr>\n",
       "<tr>\n",
       " <td style=\"text-align: left;\"> dt2.earliest </td><td style=\"text-align: left;\">\n",
       "vals/NULL </td><td style=\"text-align: left;\"> Time difference between T2 and the earliest value </td>\n",
       "</tr>\n",
       "<tr>\n",
       " <td style=\"text-align: left;\">\n",
       "dt2.latest </td><td style=\"text-align: left;\"> vals/NULL </td><td style=\"text-align: left;\"> Time difference between T2 and the latest\n",
       "value </td>\n",
       "</tr>\n",
       "<tr>\n",
       " <td style=\"text-align: left;\"> </td>\n",
       "</tr>\n",
       "\n",
       "</table>\n",
       "\n",
       "<p>* 'vals' is a vector of values. If not 'NULL' it serves as a filter: the\n",
       "function is applied only to the data source values that appear among 'vals'.\n",
       "'vals' can be a single NA value, in which case all the values of the track\n",
       "would be filtered out.\n",
       "</p>\n",
       "<p>QUANTITATIVE DATA SOURCE\n",
       "</p>\n",
       "\n",
       "<table>\n",
       "<tr>\n",
       " <td style=\"text-align: left;\"> FUNC </td><td style=\"text-align: left;\"> PARAM </td><td style=\"text-align: left;\"> DESCRIPTION </td>\n",
       "</tr>\n",
       "<tr>\n",
       " <td style=\"text-align: left;\"> avg </td><td style=\"text-align: left;\"> NULL </td><td style=\"text-align: left;\">\n",
       "Average of all values. </td>\n",
       "</tr>\n",
       "<tr>\n",
       " <td style=\"text-align: left;\"> min </td><td style=\"text-align: left;\"> NULL </td><td style=\"text-align: left;\"> Minimal value. </td>\n",
       "</tr>\n",
       "<tr>\n",
       " <td style=\"text-align: left;\"> max </td><td style=\"text-align: left;\">\n",
       "NULL </td><td style=\"text-align: left;\"> Maximal value. </td>\n",
       "</tr>\n",
       "<tr>\n",
       " <td style=\"text-align: left;\"> sample </td><td style=\"text-align: left;\"> NULL </td><td style=\"text-align: left;\"> Uniformly sampled source\n",
       "value. </td>\n",
       "</tr>\n",
       "<tr>\n",
       " <td style=\"text-align: left;\"> sample.time </td><td style=\"text-align: left;\"> NULL </td><td style=\"text-align: left;\"> Time of the uniformly sampled source\n",
       "value. </td>\n",
       "</tr>\n",
       "<tr>\n",
       " <td style=\"text-align: left;\"> size </td><td style=\"text-align: left;\"> NULL </td><td style=\"text-align: left;\"> Number of values. </td>\n",
       "</tr>\n",
       "<tr>\n",
       " <td style=\"text-align: left;\"> earliest </td><td style=\"text-align: left;\"> NULL </td><td style=\"text-align: left;\">\n",
       "Average of the earliest values. </td>\n",
       "</tr>\n",
       "<tr>\n",
       " <td style=\"text-align: left;\"> latest </td><td style=\"text-align: left;\"> NULL </td><td style=\"text-align: left;\"> Average of the\n",
       "latest values. </td>\n",
       "</tr>\n",
       "<tr>\n",
       " <td style=\"text-align: left;\"> closest </td><td style=\"text-align: left;\"> NULL </td><td style=\"text-align: left;\"> Average of values closest to the\n",
       "middle of the interval. </td>\n",
       "</tr>\n",
       "<tr>\n",
       " <td style=\"text-align: left;\"> stddev </td><td style=\"text-align: left;\"> NULL </td><td style=\"text-align: left;\"> Unbiased standard\n",
       "deviation of the values. </td>\n",
       "</tr>\n",
       "<tr>\n",
       " <td style=\"text-align: left;\"> sum </td><td style=\"text-align: left;\"> NULL </td><td style=\"text-align: left;\"> Sum of values. </td>\n",
       "</tr>\n",
       "<tr>\n",
       " <td style=\"text-align: left;\"> quantile\n",
       "</td><td style=\"text-align: left;\"> Percentile in the range of [0, 1] </td><td style=\"text-align: left;\"> Quantile of the values. </td>\n",
       "</tr>\n",
       "<tr>\n",
       " <td style=\"text-align: left;\">\n",
       "percentile.upper </td><td style=\"text-align: left;\"> NULL </td><td style=\"text-align: left;\"> Average of upper-bound values percentiles.*\n",
       "</td>\n",
       "</tr>\n",
       "<tr>\n",
       " <td style=\"text-align: left;\"> percentile.upper.min </td><td style=\"text-align: left;\"> NULL </td><td style=\"text-align: left;\"> Minimum of upper-bound values\n",
       "percentiles.* </td>\n",
       "</tr>\n",
       "<tr>\n",
       " <td style=\"text-align: left;\"> percentile.upper.max </td><td style=\"text-align: left;\"> NULL </td><td style=\"text-align: left;\"> Maximum of upper-bound\n",
       "values percentiles.* </td>\n",
       "</tr>\n",
       "<tr>\n",
       " <td style=\"text-align: left;\"> percentile.lower </td><td style=\"text-align: left;\"> NULL </td><td style=\"text-align: left;\"> Average of\n",
       "lower-bound values percentiles.* </td>\n",
       "</tr>\n",
       "<tr>\n",
       " <td style=\"text-align: left;\"> percentile.lower.min </td><td style=\"text-align: left;\"> NULL </td><td style=\"text-align: left;\">\n",
       "Minimum of lower-bound values percentiles.* </td>\n",
       "</tr>\n",
       "<tr>\n",
       " <td style=\"text-align: left;\"> percentile.lower.max </td><td style=\"text-align: left;\">\n",
       "NULL </td><td style=\"text-align: left;\"> Maximum of lower-bound values percentiles.* </td>\n",
       "</tr>\n",
       "<tr>\n",
       " <td style=\"text-align: left;\"> lm.intercept </td><td style=\"text-align: left;\">\n",
       "NULL </td><td style=\"text-align: left;\"> Intercept (aka \"alpha\") of the simple linear regression (X = time,\n",
       "Y = values)</td>\n",
       "</tr>\n",
       "<tr>\n",
       " <td style=\"text-align: left;\"> lm.slope </td><td style=\"text-align: left;\"> NULL </td><td style=\"text-align: left;\"> Slope (aka \"beta\") of the simple\n",
       "linear regression (X = time, Y = values)</td>\n",
       "</tr>\n",
       "<tr>\n",
       " <td style=\"text-align: left;\"> earliest.time </td><td style=\"text-align: left;\"> NULL </td><td style=\"text-align: left;\">\n",
       "Time of the earliest value. </td>\n",
       "</tr>\n",
       "<tr>\n",
       " <td style=\"text-align: left;\"> latest.time </td><td style=\"text-align: left;\"> NULL </td><td style=\"text-align: left;\"> Time of the\n",
       "latest value. </td>\n",
       "</tr>\n",
       "<tr>\n",
       " <td style=\"text-align: left;\"> closest.earlier.time </td><td style=\"text-align: left;\"> NULL </td><td style=\"text-align: left;\"> Time of the of the\n",
       "earlier of the closest values. </td>\n",
       "</tr>\n",
       "<tr>\n",
       " <td style=\"text-align: left;\"> closest.later.time </td><td style=\"text-align: left;\"> NULL </td><td style=\"text-align: left;\"> Time of\n",
       "the of the later of the closest values. </td>\n",
       "</tr>\n",
       "<tr>\n",
       " <td style=\"text-align: left;\"> dt1.earliest </td><td style=\"text-align: left;\"> NULL </td><td style=\"text-align: left;\"> Time\n",
       "difference between the earliest value and T1 </td>\n",
       "</tr>\n",
       "<tr>\n",
       " <td style=\"text-align: left;\"> dt1.latest </td><td style=\"text-align: left;\"> NULL </td><td style=\"text-align: left;\">\n",
       "Time difference between the latest value and T1 </td>\n",
       "</tr>\n",
       "<tr>\n",
       " <td style=\"text-align: left;\"> dt2.earliest </td><td style=\"text-align: left;\"> NULL\n",
       "</td><td style=\"text-align: left;\"> Time difference between T2 and the earliest value </td>\n",
       "</tr>\n",
       "<tr>\n",
       " <td style=\"text-align: left;\"> dt2.latest </td><td style=\"text-align: left;\">\n",
       "NULL </td><td style=\"text-align: left;\"> Time difference between T2 and the latest value </td>\n",
       "</tr>\n",
       "<tr>\n",
       " <td style=\"text-align: left;\"> </td>\n",
       "</tr>\n",
       "\n",
       "</table>\n",
       "\n",
       "<p>* Percentile is calculated based on the values of the whole data source even\n",
       "if a subset or a filter are defined.\n",
       "</p>\n",
       "<p>Note: 'time.shift' can be used only when 'keepref' is 'FALSE'. Also when\n",
       "'keepref' is 'TRUE' only 'avg', 'percentile.upper' and 'percentile.lower'\n",
       "can be used in 'func'.\n",
       "</p>\n",
       "\n",
       "\n",
       "<h3>Value</h3>\n",
       "\n",
       "<p>Name of the virtual track (invisibly)\n",
       "</p>\n",
       "\n",
       "\n",
       "<h3>See Also</h3>\n",
       "\n",
       "<p><code>emr_vtrack.attr.src</code>, <code>emr_vtrack.ls</code>,\n",
       "<code>emr_vtrack.exists</code>, <code>emr_vtrack.rm</code>\n",
       "</p>\n",
       "\n",
       "\n",
       "<h3>Examples</h3>\n",
       "\n",
       "<pre><code class='language-R'>\n",
       "emr_db.init_examples()\n",
       "\n",
       "emr_vtrack.create(\"vtrack1\", \"dense_track\",\n",
       "    time.shift = 1,\n",
       "    func = \"max\"\n",
       ")\n",
       "emr_vtrack.create(\"vtrack2\", \"dense_track\",\n",
       "    time.shift = c(-5, 10), func = \"min\"\n",
       ")\n",
       "res &lt;- emr_extract(\"dense_track\", keepref = TRUE, names = \"value\")\n",
       "emr_vtrack.create(\"vtrack3\", list(res, FALSE),\n",
       "    time.shift = c(-5, 10),\n",
       "    func = \"min\"\n",
       ")\n",
       "emr_extract(c(\"dense_track\", \"vtrack1\", \"vtrack2\", \"vtrack3\"),\n",
       "    keepref = TRUE, iterator = \"dense_track\"\n",
       ")\n",
       "</code></pre>\n",
       "\n",
       "<hr /><div style=\"text-align: center;\">[Package <em>naryn</em> version 2.6.13 ]</div>\n",
       "</div>"
      ],
      "text/latex": [
       "\\inputencoding{utf8}\n",
       "\\HeaderA{emr\\_vtrack.create}{Creates a new virtual track}{emr.Rul.vtrack.create}\n",
       "\\keyword{\\textasciitilde{}virtual}{emr\\_vtrack.create}\n",
       "%\n",
       "\\begin{Description}\\relax\n",
       "Creates a new virtual track.\n",
       "\\end{Description}\n",
       "%\n",
       "\\begin{Usage}\n",
       "\\begin{verbatim}\n",
       "emr_vtrack.create(\n",
       "  vtrack,\n",
       "  src,\n",
       "  func = NULL,\n",
       "  params = NULL,\n",
       "  keepref = FALSE,\n",
       "  time.shift = NULL,\n",
       "  id.map = NULL,\n",
       "  filter = NULL\n",
       ")\n",
       "\\end{verbatim}\n",
       "\\end{Usage}\n",
       "%\n",
       "\\begin{Arguments}\n",
       "\\begin{ldescription}\n",
       "\\item[\\code{vtrack}] virtual track name.\n",
       "\n",
       "\\item[\\code{src}] data source. either a track name or a list of two members: ID-Time Values table (see \"User\n",
       "Manual\") and a logical. If the logical is 'TRUE', the data in the table is treated as categorical, otherwise as quantitative.\n",
       "\n",
       "\\item[\\code{func, params}] see below.\n",
       "\n",
       "\\item[\\code{keepref}] see below.\n",
       "\n",
       "\\item[\\code{time.shift}] time shift and expansion for iterator time.\n",
       "\n",
       "\\item[\\code{id.map}] id mapping.\n",
       "\n",
       "\\item[\\code{filter}] virtual track filter. Note that filters with a source of another virtual track are not allowed in order to avoid loops.\n",
       "\\end{ldescription}\n",
       "\\end{Arguments}\n",
       "%\n",
       "\\begin{Details}\\relax\n",
       "This function creates a new virtual track named 'vtrack'.\n",
       "\n",
       "During the evaluation of track expression that contains a virtual track\n",
       "'vtrack' the iterator point of id-time (ID1, Time, Ref) form is transformed\n",
       "first to an id-time interval: (ID2, Time1, Time2, Ref).\n",
       "\n",
       "If 'id.map' is 'NULL' then ID1 == ID2, otherwise ID2 is derived from the\n",
       "translation table provided in 'id.map'. This table is a data frame with two\n",
       "first columns named 'id1' and 'id2', where 'id1' is mapped to 'id2'. If\n",
       "'id.map' contains also a third optional column named 'time.shift' the value\n",
       "V of this column is used to shift the time accordingly, i.e. Time1 = Time2 =\n",
       "Time + V.\n",
       "\n",
       "'time.shift' parameter (not to be confused with 'time.shift' column of\n",
       "'id.map') can be either a single number X, in which case Time1 = Time2 =\n",
       "Time + X. Alternatively 'time.shift' can be a vector of two numbers, i.e.\n",
       "'c(X1, X2)', which would result in Time1 = Time + X1, Time2 = Time + X2.\n",
       "\n",
       "Both 'time.shift' parameter and 'time.shift' column within 'id.map' may be\n",
       "used simultaneously. In this case the time shifts are applied sequentially.\n",
       "\n",
       "At the next step values from the data source 'src' that fall into the new\n",
       "id-time interval and pass the 'filter' are collected. 'src' may be either a\n",
       "track name or a list of two members: ID-Time Values table (see \"User\n",
       "Manual\") and a logical. If the logical is 'TRUE', the data in the table is\n",
       "treated as categorical, otherwise as quantitative.\n",
       "\n",
       "If 'keepref' is 'TRUE' the reference of these values must match 'ref' unless\n",
       "either the reference or 'ref' are '-1'.\n",
       "\n",
       "Function 'func' (with 'params') is applied then on the collected values and\n",
       "produces a single value which is considered to be the value of 'vtrack' for\n",
       "the given iterator point. If 'NULL' is used as a value for 'func', 'func' is\n",
       "set then implicitly to 'value', if the data source is categorical, or 'avg',\n",
       "if the data source is quantitative.\n",
       "\n",
       "Use the following table for a reference of all valid functions and\n",
       "parameters combinations.\n",
       "\n",
       "CATEGORICAL DATA SOURCE\n",
       "\n",
       "\n",
       "\\Tabular{lll}{ FUNC & PARAM & DESCRIPTION \\\\{} value & vals/NULL\n",
       "& A source value or -1 if there is more than one. \\\\{} exists & vals\n",
       "& 1 if any of the 'vals' exist otherwise 0. \\\\{} sample & NULL &\n",
       "Uniformly sampled source value. \\\\{} sample.time & NULL & Time of the\n",
       "uniformly sampled source value. \\\\{} frequent & vals/NULL & The most\n",
       "frequent source value or -1 if there is more than one value. \\\\{} size &\n",
       "vals/NULL & Number of values. \\\\{} earliest & vals/NULL & Earliest\n",
       "value or -1 if there is more than one. \\\\{} latest & vals/NULL & Latest\n",
       "value or -1 if there is more than one. \\\\{} closest & vals/NULL &\n",
       "Values closest to the middle of the interval or -1 if there is more than\n",
       "one. \\\\{} earliest.time & vals/NULL & Time of the earliest value. \\\\{}\n",
       "latest.time & vals/NULL & Time of the latest value. \\\\{}\n",
       "closest.earlier.time & vals/NULL & Time of the of the earlier of the\n",
       "closest values. \\\\{} closest.later.time & vals/NULL & Time of the of\n",
       "the later of the closest values. \\\\{} dt1.earliest & vals/NULL & Time\n",
       "difference between the earliest value and T1 \\\\{} dt1.latest & vals/NULL\n",
       "& Time difference between the latest value and T1 \\\\{} dt2.earliest &\n",
       "vals/NULL & Time difference between T2 and the earliest value \\\\{}\n",
       "dt2.latest & vals/NULL & Time difference between T2 and the latest\n",
       "value \\\\{} }\n",
       "\n",
       "* 'vals' is a vector of values. If not 'NULL' it serves as a filter: the\n",
       "function is applied only to the data source values that appear among 'vals'.\n",
       "'vals' can be a single NA value, in which case all the values of the track\n",
       "would be filtered out.\n",
       "\n",
       "QUANTITATIVE DATA SOURCE\n",
       "\n",
       "\n",
       "\\Tabular{lll}{ FUNC & PARAM & DESCRIPTION \\\\{} avg & NULL &\n",
       "Average of all values. \\\\{} min & NULL & Minimal value. \\\\{} max &\n",
       "NULL & Maximal value. \\\\{} sample & NULL & Uniformly sampled source\n",
       "value. \\\\{} sample.time & NULL & Time of the uniformly sampled source\n",
       "value. \\\\{} size & NULL & Number of values. \\\\{} earliest & NULL &\n",
       "Average of the earliest values. \\\\{} latest & NULL & Average of the\n",
       "latest values. \\\\{} closest & NULL & Average of values closest to the\n",
       "middle of the interval. \\\\{} stddev & NULL & Unbiased standard\n",
       "deviation of the values. \\\\{} sum & NULL & Sum of values. \\\\{} quantile\n",
       "& Percentile in the range of [0, 1] & Quantile of the values. \\\\{}\n",
       "percentile.upper & NULL & Average of upper-bound values percentiles.*\n",
       "\\\\{} percentile.upper.min & NULL & Minimum of upper-bound values\n",
       "percentiles.* \\\\{} percentile.upper.max & NULL & Maximum of upper-bound\n",
       "values percentiles.* \\\\{} percentile.lower & NULL & Average of\n",
       "lower-bound values percentiles.* \\\\{} percentile.lower.min & NULL &\n",
       "Minimum of lower-bound values percentiles.* \\\\{} percentile.lower.max &\n",
       "NULL & Maximum of lower-bound values percentiles.* \\\\{} lm.intercept &\n",
       "NULL & Intercept (aka \"alpha\") of the simple linear regression (X = time,\n",
       "Y = values)\\\\{} lm.slope & NULL & Slope (aka \"beta\") of the simple\n",
       "linear regression (X = time, Y = values)\\\\{} earliest.time & NULL &\n",
       "Time of the earliest value. \\\\{} latest.time & NULL & Time of the\n",
       "latest value. \\\\{} closest.earlier.time & NULL & Time of the of the\n",
       "earlier of the closest values. \\\\{} closest.later.time & NULL & Time of\n",
       "the of the later of the closest values. \\\\{} dt1.earliest & NULL & Time\n",
       "difference between the earliest value and T1 \\\\{} dt1.latest & NULL &\n",
       "Time difference between the latest value and T1 \\\\{} dt2.earliest & NULL\n",
       "& Time difference between T2 and the earliest value \\\\{} dt2.latest &\n",
       "NULL & Time difference between T2 and the latest value \\\\{} }\n",
       "\n",
       "* Percentile is calculated based on the values of the whole data source even\n",
       "if a subset or a filter are defined.\n",
       "\n",
       "Note: 'time.shift' can be used only when 'keepref' is 'FALSE'. Also when\n",
       "'keepref' is 'TRUE' only 'avg', 'percentile.upper' and 'percentile.lower'\n",
       "can be used in 'func'.\n",
       "\\end{Details}\n",
       "%\n",
       "\\begin{Value}\n",
       "Name of the virtual track (invisibly)\n",
       "\\end{Value}\n",
       "%\n",
       "\\begin{SeeAlso}\\relax\n",
       "\\code{\\LinkA{emr\\_vtrack.attr.src}{emr.Rul.vtrack.attr.src}}, \\code{\\LinkA{emr\\_vtrack.ls}{emr.Rul.vtrack.ls}},\n",
       "\\code{\\LinkA{emr\\_vtrack.exists}{emr.Rul.vtrack.exists}}, \\code{\\LinkA{emr\\_vtrack.rm}{emr.Rul.vtrack.rm}}\n",
       "\\end{SeeAlso}\n",
       "%\n",
       "\\begin{Examples}\n",
       "\\begin{ExampleCode}\n",
       "\n",
       "emr_db.init_examples()\n",
       "\n",
       "emr_vtrack.create(\"vtrack1\", \"dense_track\",\n",
       "    time.shift = 1,\n",
       "    func = \"max\"\n",
       ")\n",
       "emr_vtrack.create(\"vtrack2\", \"dense_track\",\n",
       "    time.shift = c(-5, 10), func = \"min\"\n",
       ")\n",
       "res <- emr_extract(\"dense_track\", keepref = TRUE, names = \"value\")\n",
       "emr_vtrack.create(\"vtrack3\", list(res, FALSE),\n",
       "    time.shift = c(-5, 10),\n",
       "    func = \"min\"\n",
       ")\n",
       "emr_extract(c(\"dense_track\", \"vtrack1\", \"vtrack2\", \"vtrack3\"),\n",
       "    keepref = TRUE, iterator = \"dense_track\"\n",
       ")\n",
       "\\end{ExampleCode}\n",
       "\\end{Examples}"
      ],
      "text/plain": [
       "emr_vtrack.create            package:naryn             R Documentation\n",
       "\n",
       "_\bC_\br_\be_\ba_\bt_\be_\bs _\ba _\bn_\be_\bw _\bv_\bi_\br_\bt_\bu_\ba_\bl _\bt_\br_\ba_\bc_\bk\n",
       "\n",
       "_\bD_\be_\bs_\bc_\br_\bi_\bp_\bt_\bi_\bo_\bn:\n",
       "\n",
       "     Creates a new virtual track.\n",
       "\n",
       "_\bU_\bs_\ba_\bg_\be:\n",
       "\n",
       "     emr_vtrack.create(\n",
       "       vtrack,\n",
       "       src,\n",
       "       func = NULL,\n",
       "       params = NULL,\n",
       "       keepref = FALSE,\n",
       "       time.shift = NULL,\n",
       "       id.map = NULL,\n",
       "       filter = NULL\n",
       "     )\n",
       "     \n",
       "_\bA_\br_\bg_\bu_\bm_\be_\bn_\bt_\bs:\n",
       "\n",
       "  vtrack: virtual track name.\n",
       "\n",
       "     src: data source. either a track name or a list of two members:\n",
       "          ID-Time Values table (see \"User Manual\") and a logical. If\n",
       "          the logical is 'TRUE', the data in the table is treated as\n",
       "          categorical, otherwise as quantitative.\n",
       "\n",
       "func, params: see below.\n",
       "\n",
       " keepref: see below.\n",
       "\n",
       "time.shift: time shift and expansion for iterator time.\n",
       "\n",
       "  id.map: id mapping.\n",
       "\n",
       "  filter: virtual track filter. Note that filters with a source of\n",
       "          another virtual track are not allowed in order to avoid\n",
       "          loops.\n",
       "\n",
       "_\bD_\be_\bt_\ba_\bi_\bl_\bs:\n",
       "\n",
       "     This function creates a new virtual track named 'vtrack'.\n",
       "\n",
       "     During the evaluation of track expression that contains a virtual\n",
       "     track 'vtrack' the iterator point of id-time (ID1, Time, Ref) form\n",
       "     is transformed first to an id-time interval: (ID2, Time1, Time2,\n",
       "     Ref).\n",
       "\n",
       "     If 'id.map' is 'NULL' then ID1 == ID2, otherwise ID2 is derived\n",
       "     from the translation table provided in 'id.map'. This table is a\n",
       "     data frame with two first columns named 'id1' and 'id2', where\n",
       "     'id1' is mapped to 'id2'. If 'id.map' contains also a third\n",
       "     optional column named 'time.shift' the value V of this column is\n",
       "     used to shift the time accordingly, i.e. Time1 = Time2 = Time + V.\n",
       "\n",
       "     'time.shift' parameter (not to be confused with 'time.shift'\n",
       "     column of 'id.map') can be either a single number X, in which case\n",
       "     Time1 = Time2 = Time + X. Alternatively 'time.shift' can be a\n",
       "     vector of two numbers, i.e. 'c(X1, X2)', which would result in\n",
       "     Time1 = Time + X1, Time2 = Time + X2.\n",
       "\n",
       "     Both 'time.shift' parameter and 'time.shift' column within\n",
       "     'id.map' may be used simultaneously. In this case the time shifts\n",
       "     are applied sequentially.\n",
       "\n",
       "     At the next step values from the data source 'src' that fall into\n",
       "     the new id-time interval and pass the 'filter' are collected.\n",
       "     'src' may be either a track name or a list of two members: ID-Time\n",
       "     Values table (see \"User Manual\") and a logical. If the logical is\n",
       "     'TRUE', the data in the table is treated as categorical, otherwise\n",
       "     as quantitative.\n",
       "\n",
       "     If 'keepref' is 'TRUE' the reference of these values must match\n",
       "     'ref' unless either the reference or 'ref' are '-1'.\n",
       "\n",
       "     Function 'func' (with 'params') is applied then on the collected\n",
       "     values and produces a single value which is considered to be the\n",
       "     value of 'vtrack' for the given iterator point. If 'NULL' is used\n",
       "     as a value for 'func', 'func' is set then implicitly to 'value',\n",
       "     if the data source is categorical, or 'avg', if the data source is\n",
       "     quantitative.\n",
       "\n",
       "     Use the following table for a reference of all valid functions and\n",
       "     parameters combinations.\n",
       "\n",
       "     CATEGORICAL DATA SOURCE\n",
       "\n",
       "       FUNC                  PARAM      DESCRIPTION                                                              \n",
       "       value                 vals/NULL  A source value or -1 if there is more than one.                          \n",
       "       exists                vals       1 if any of the 'vals' exist otherwise 0.                                \n",
       "       sample                NULL       Uniformly sampled source value.                                          \n",
       "       sample.time           NULL       Time of theuniformly sampled source value.                               \n",
       "                                                                                                                 \n",
       "       frequent              vals/NULL  The mostfrequent source value or -1 if there is more than one value.     \n",
       "                                                                                                                 \n",
       "       size                  vals/NULL  Number of values.                                                        \n",
       "       earliest              vals/NULL  Earliestvalue or -1 if there is more than one.                           \n",
       "                                                                                                                 \n",
       "       latest                vals/NULL  Latestvalue or -1 if there is more than one.                             \n",
       "                                                                                                                 \n",
       "       closest               vals/NULL  Values closest to the middle of the interval or -1 if there is more than \n",
       "                                        one. \n",
       "       earliest.time         vals/NULL  Time of the earliest value.                                              \n",
       "       latest.time           vals/NULL  Time of the latest value.                                                \n",
       "       closest.earlier.time  vals/NULL  Time of the of the earlier of theclosest values.                         \n",
       "                                                                                                                 \n",
       "       closest.later.time    vals/NULL  Time of the ofthe later of the closest values.                           \n",
       "                                                                                                                 \n",
       "       dt1.earliest          vals/NULL  Timedifference between the earliest value and T1                         \n",
       "                                                                                                                 \n",
       "       dt1.latest            vals/NULL  Time difference between the latest value and T1                          \n",
       "       dt2.earliest          vals/NULL  Time difference between T2 and the earliest value                        \n",
       "       dt2.latest            vals/NULL  Time difference between T2 and the latestvalue                           \n",
       "      \n",
       "     * 'vals' is a vector of values. If not 'NULL' it serves as a\n",
       "     filter: the function is applied only to the data source values\n",
       "     that appear among 'vals'. 'vals' can be a single NA value, in\n",
       "     which case all the values of the track would be filtered out.\n",
       "\n",
       "     QUANTITATIVE DATA SOURCE\n",
       "\n",
       "       FUNC                  PARAM                              DESCRIPTION                                                        \n",
       "       avg                   NULL                               Average of all values.                                             \n",
       "       min                   NULL                               Minimal value.                                                     \n",
       "       max                   NULL                               Maximal value.                                                     \n",
       "       sample                NULL                               Uniformly sampled sourcevalue.                                     \n",
       "                                                                                                                                   \n",
       "       sample.time           NULL                               Time of the uniformly sampled sourcevalue.                         \n",
       "                                                                                                                                   \n",
       "       size                  NULL                               Number of values.                                                  \n",
       "       earliest              NULL                               Average of the earliest values.                                    \n",
       "       latest                NULL                               Average of thelatest values.                                       \n",
       "                                                                                                                                   \n",
       "       closest               NULL                               Average of values closest to themiddle of the interval.            \n",
       "                                                                                                                                   \n",
       "       stddev                NULL                               Unbiased standarddeviation of the values.                          \n",
       "                                                                                                                                   \n",
       "       sum                   NULL                               Sum of values.                                                     \n",
       "       quantile              Percentile in the range of [0, 1]  Quantile of the values.                                            \n",
       "       percentile.upper      NULL                               Average of upper-bound values percentiles.*                        \n",
       "       percentile.upper.min  NULL                               Minimum of upper-bound valuespercentiles.*                         \n",
       "                                                                                                                                   \n",
       "       percentile.upper.max  NULL                               Maximum of upper-boundvalues percentiles.*                         \n",
       "                                                                                                                                   \n",
       "       percentile.lower      NULL                               Average oflower-bound values percentiles.*                         \n",
       "                                                                                                                                   \n",
       "       percentile.lower.min  NULL                               Minimum of lower-bound values percentiles.*                        \n",
       "       percentile.lower.max  NULL                               Maximum of lower-bound values percentiles.*                        \n",
       "       lm.intercept          NULL                               Intercept (aka \"alpha\") of the simple linear regression (X = time, \n",
       "                                                                Y = values) \n",
       "       lm.slope              NULL                               Slope (aka \"beta\") of the simple \n",
       "                                                                linear regression (X = time, Y = values) \n",
       "       earliest.time         NULL                               Time of the earliest value.                                        \n",
       "       latest.time           NULL                               Time of thelatest value.                                           \n",
       "                                                                                                                                   \n",
       "       closest.earlier.time  NULL                               Time of the of theearlier of the closest values.                   \n",
       "                                                                                                                                   \n",
       "       closest.later.time    NULL                               Time ofthe of the later of the closest values.                     \n",
       "                                                                                                                                   \n",
       "       dt1.earliest          NULL                               Timedifference between the earliest value and T1                   \n",
       "                                                                                                                                   \n",
       "       dt1.latest            NULL                               Time difference between the latest value and T1                    \n",
       "       dt2.earliest          NULL                               Time difference between T2 and the earliest value                  \n",
       "       dt2.latest            NULL                               Time difference between T2 and the latest value                    \n",
       "      \n",
       "     * Percentile is calculated based on the values of the whole data\n",
       "     source even if a subset or a filter are defined.\n",
       "\n",
       "     Note: 'time.shift' can be used only when 'keepref' is 'FALSE'.\n",
       "     Also when 'keepref' is 'TRUE' only 'avg', 'percentile.upper' and\n",
       "     'percentile.lower' can be used in 'func'.\n",
       "\n",
       "_\bV_\ba_\bl_\bu_\be:\n",
       "\n",
       "     Name of the virtual track (invisibly)\n",
       "\n",
       "_\bS_\be_\be _\bA_\bl_\bs_\bo:\n",
       "\n",
       "     'emr_vtrack.attr.src', 'emr_vtrack.ls', 'emr_vtrack.exists',\n",
       "     'emr_vtrack.rm'\n",
       "\n",
       "_\bE_\bx_\ba_\bm_\bp_\bl_\be_\bs:\n",
       "\n",
       "     emr_db.init_examples()\n",
       "     \n",
       "     emr_vtrack.create(\"vtrack1\", \"dense_track\",\n",
       "         time.shift = 1,\n",
       "         func = \"max\"\n",
       "     )\n",
       "     emr_vtrack.create(\"vtrack2\", \"dense_track\",\n",
       "         time.shift = c(-5, 10), func = \"min\"\n",
       "     )\n",
       "     res <- emr_extract(\"dense_track\", keepref = TRUE, names = \"value\")\n",
       "     emr_vtrack.create(\"vtrack3\", list(res, FALSE),\n",
       "         time.shift = c(-5, 10),\n",
       "         func = \"min\"\n",
       "     )\n",
       "     emr_extract(c(\"dense_track\", \"vtrack1\", \"vtrack2\", \"vtrack3\"),\n",
       "         keepref = TRUE, iterator = \"dense_track\"\n",
       "     )\n",
       "     "
      ]
     },
     "metadata": {},
     "output_type": "display_data"
    }
   ],
   "source": [
    "?emr_vtrack.create"
   ]
  },
  {
   "cell_type": "markdown",
   "metadata": {},
   "source": [
    "We would also like to know how long before the diagnosis each test was performed, so we will create an additional virtual track, this time with a function that computes the difference in time between the time of the diagnosis and the latest blood test. Also, we would like the time difference to be in the resolution of months, so we will give `emr_extract` a track expression that divides the time difference by 30 * 24 (the number of hours in a month), which is equivalent to the `month` function:"
   ]
  },
  {
   "cell_type": "code",
   "execution_count": 18,
   "metadata": {
    "vscode": {
     "languageId": "r"
    }
   },
   "outputs": [
    {
     "data": {
      "text/html": [
       "<table class=\"dataframe\">\n",
       "<caption>A data.frame: 6 × 7</caption>\n",
       "<thead>\n",
       "\t<tr><th></th><th scope=col>id</th><th scope=col>time</th><th scope=col>ref</th><th scope=col>Creatinine</th><th scope=col>Glucose</th><th scope=col>Creatinine_dt</th><th scope=col>Glucose_dt</th></tr>\n",
       "\t<tr><th></th><th scope=col>&lt;int&gt;</th><th scope=col>&lt;int&gt;</th><th scope=col>&lt;int&gt;</th><th scope=col>&lt;dbl&gt;</th><th scope=col>&lt;dbl&gt;</th><th scope=col>&lt;dbl&gt;</th><th scope=col>&lt;dbl&gt;</th></tr>\n",
       "</thead>\n",
       "<tbody>\n",
       "\t<tr><th scope=row>1</th><td> 1</td><td>1238196</td><td>-1</td><td>1.1682341</td><td>187.19873</td><td>11.156944</td><td>11.156944</td></tr>\n",
       "\t<tr><th scope=row>2</th><td> 1</td><td>1242854</td><td>-1</td><td>1.1314427</td><td>120.63850</td><td> 4.641667</td><td> 4.641667</td></tr>\n",
       "\t<tr><th scope=row>3</th><td> 1</td><td>1243714</td><td>-1</td><td>1.1314427</td><td>120.63850</td><td> 5.836111</td><td> 5.836111</td></tr>\n",
       "\t<tr><th scope=row>4</th><td>22</td><td>1220227</td><td>-1</td><td>1.3684419</td><td> 99.08260</td><td> 3.897222</td><td> 3.897222</td></tr>\n",
       "\t<tr><th scope=row>5</th><td>22</td><td>1224686</td><td>-1</td><td>0.6575883</td><td> 86.04514</td><td> 3.520833</td><td> 3.520833</td></tr>\n",
       "\t<tr><th scope=row>6</th><td>22</td><td>1232399</td><td>-1</td><td>1.1613698</td><td> 94.50937</td><td> 2.381944</td><td> 2.381944</td></tr>\n",
       "</tbody>\n",
       "</table>\n"
      ],
      "text/latex": [
       "A data.frame: 6 × 7\n",
       "\\begin{tabular}{r|lllllll}\n",
       "  & id & time & ref & Creatinine & Glucose & Creatinine\\_dt & Glucose\\_dt\\\\\n",
       "  & <int> & <int> & <int> & <dbl> & <dbl> & <dbl> & <dbl>\\\\\n",
       "\\hline\n",
       "\t1 &  1 & 1238196 & -1 & 1.1682341 & 187.19873 & 11.156944 & 11.156944\\\\\n",
       "\t2 &  1 & 1242854 & -1 & 1.1314427 & 120.63850 &  4.641667 &  4.641667\\\\\n",
       "\t3 &  1 & 1243714 & -1 & 1.1314427 & 120.63850 &  5.836111 &  5.836111\\\\\n",
       "\t4 & 22 & 1220227 & -1 & 1.3684419 &  99.08260 &  3.897222 &  3.897222\\\\\n",
       "\t5 & 22 & 1224686 & -1 & 0.6575883 &  86.04514 &  3.520833 &  3.520833\\\\\n",
       "\t6 & 22 & 1232399 & -1 & 1.1613698 &  94.50937 &  2.381944 &  2.381944\\\\\n",
       "\\end{tabular}\n"
      ],
      "text/markdown": [
       "\n",
       "A data.frame: 6 × 7\n",
       "\n",
       "| <!--/--> | id &lt;int&gt; | time &lt;int&gt; | ref &lt;int&gt; | Creatinine &lt;dbl&gt; | Glucose &lt;dbl&gt; | Creatinine_dt &lt;dbl&gt; | Glucose_dt &lt;dbl&gt; |\n",
       "|---|---|---|---|---|---|---|---|\n",
       "| 1 |  1 | 1238196 | -1 | 1.1682341 | 187.19873 | 11.156944 | 11.156944 |\n",
       "| 2 |  1 | 1242854 | -1 | 1.1314427 | 120.63850 |  4.641667 |  4.641667 |\n",
       "| 3 |  1 | 1243714 | -1 | 1.1314427 | 120.63850 |  5.836111 |  5.836111 |\n",
       "| 4 | 22 | 1220227 | -1 | 1.3684419 |  99.08260 |  3.897222 |  3.897222 |\n",
       "| 5 | 22 | 1224686 | -1 | 0.6575883 |  86.04514 |  3.520833 |  3.520833 |\n",
       "| 6 | 22 | 1232399 | -1 | 1.1613698 |  94.50937 |  2.381944 |  2.381944 |\n",
       "\n"
      ],
      "text/plain": [
       "  id time    ref Creatinine Glucose   Creatinine_dt Glucose_dt\n",
       "1  1 1238196 -1  1.1682341  187.19873 11.156944     11.156944 \n",
       "2  1 1242854 -1  1.1314427  120.63850  4.641667      4.641667 \n",
       "3  1 1243714 -1  1.1314427  120.63850  5.836111      5.836111 \n",
       "4 22 1220227 -1  1.3684419   99.08260  3.897222      3.897222 \n",
       "5 22 1224686 -1  0.6575883   86.04514  3.520833      3.520833 \n",
       "6 22 1232399 -1  1.1613698   94.50937  2.381944      2.381944 "
      ]
     },
     "metadata": {},
     "output_type": "display_data"
    }
   ],
   "source": [
    "emr_vtrack.create(\"creatinine_5y_dt\", \"lab.CREATININE.BLOOD\", time.shift = c(-years(5), 0), func = \"dt2.latest\")\n",
    "emr_vtrack.create(\"glucose_5y_dt\", \"lab.GLUCOSE.BLOOD\", time.shift = c(-years(5), 0), func = \"dt2.latest\")\n",
    "ckd_labs <- emr_extract(\n",
    "    c(\"creatinine_5y\", \"glucose_5y\", \"creatinine_5y_dt/month()\", \"glucose_5y_dt/month()\"),\n",
    "    iterator = \"dx.icd9_585\",\n",
    "    names = c(\"Creatinine\", \"Glucose\", \"Creatinine_dt\", \"Glucose_dt\")\n",
    ")\n",
    "head(ckd_labs)"
   ]
  },
  {
   "cell_type": "markdown",
   "metadata": {},
   "source": [
    "Yay! we got what we wanted, but something is still weird - we can see that some patients (and in this sampled database - most patients) have more than one diagnosis of a CKD. Many times, this is indeed the case - a patient can be diagnosed with a disease multiple times, but more commonly in EMR data - the same diagnosis is recorded multiple times, and what we actually want is the earliest diagnosis. In order to achieve that we would have to use *filters*.\n",
    "\n",
    "[^1]: Actually, *patient-time-reference* space, but this is explained in the advanced vignette."
   ]
  },
  {
   "cell_type": "markdown",
   "metadata": {},
   "source": [
    "_**Exercise:** Extract the earliest WBC values 5 years before the diagnosis of CKD._ "
   ]
  },
  {
   "cell_type": "markdown",
   "metadata": {},
   "source": [
    "## Filters"
   ]
  },
  {
   "cell_type": "markdown",
   "metadata": {},
   "source": [
    "A *filter* is a logical condition that is applied to the *iterator* in order to decide which points to include and which to exclude. In our case we want to include only the earliest diagnosis of CKD, so we use the `emr_filter.create` function to create a filter that excludes all patient-time points that had already have a diagnosis of CKD at an earlier time:"
   ]
  },
  {
   "cell_type": "code",
   "execution_count": 19,
   "metadata": {
    "vscode": {
     "languageId": "r"
    }
   },
   "outputs": [],
   "source": [
    "emr_filter.create(\"ckd_in_past\", \"dx.icd9_585\", time.shift = c(-years(120), -1))"
   ]
  },
  {
   "cell_type": "markdown",
   "metadata": {},
   "source": [
    "We will now apply the filter to our query: \n",
    "\n"
   ]
  },
  {
   "cell_type": "code",
   "execution_count": 20,
   "metadata": {
    "vscode": {
     "languageId": "r"
    }
   },
   "outputs": [
    {
     "data": {
      "text/html": [
       "<table class=\"dataframe\">\n",
       "<caption>A data.frame: 6 × 7</caption>\n",
       "<thead>\n",
       "\t<tr><th></th><th scope=col>id</th><th scope=col>time</th><th scope=col>ref</th><th scope=col>Creatinine</th><th scope=col>Glucose</th><th scope=col>Creatinine_dt</th><th scope=col>Glucose_dt</th></tr>\n",
       "\t<tr><th></th><th scope=col>&lt;int&gt;</th><th scope=col>&lt;int&gt;</th><th scope=col>&lt;int&gt;</th><th scope=col>&lt;dbl&gt;</th><th scope=col>&lt;dbl&gt;</th><th scope=col>&lt;dbl&gt;</th><th scope=col>&lt;dbl&gt;</th></tr>\n",
       "</thead>\n",
       "<tbody>\n",
       "\t<tr><th scope=row>1</th><td> 1</td><td>1238196</td><td>-1</td><td>1.1682341</td><td>187.19873</td><td>11.1569444</td><td>11.1569444</td></tr>\n",
       "\t<tr><th scope=row>2</th><td>22</td><td>1220227</td><td>-1</td><td>1.3684419</td><td> 99.08260</td><td> 3.8972222</td><td> 3.8972222</td></tr>\n",
       "\t<tr><th scope=row>3</th><td>40</td><td>1232253</td><td>-1</td><td>0.6094497</td><td>104.90481</td><td> 0.1375000</td><td> 0.1375000</td></tr>\n",
       "\t<tr><th scope=row>4</th><td>44</td><td>1228184</td><td>-1</td><td>0.8192249</td><td>104.22690</td><td> 0.1958333</td><td> 0.1958333</td></tr>\n",
       "\t<tr><th scope=row>5</th><td>45</td><td>1336104</td><td>-1</td><td>0.6837639</td><td> 91.92958</td><td> 1.9472222</td><td> 1.9472222</td></tr>\n",
       "\t<tr><th scope=row>6</th><td>48</td><td>1346088</td><td>-1</td><td>1.0116725</td><td> 79.19666</td><td> 0.1472222</td><td> 0.1472222</td></tr>\n",
       "</tbody>\n",
       "</table>\n"
      ],
      "text/latex": [
       "A data.frame: 6 × 7\n",
       "\\begin{tabular}{r|lllllll}\n",
       "  & id & time & ref & Creatinine & Glucose & Creatinine\\_dt & Glucose\\_dt\\\\\n",
       "  & <int> & <int> & <int> & <dbl> & <dbl> & <dbl> & <dbl>\\\\\n",
       "\\hline\n",
       "\t1 &  1 & 1238196 & -1 & 1.1682341 & 187.19873 & 11.1569444 & 11.1569444\\\\\n",
       "\t2 & 22 & 1220227 & -1 & 1.3684419 &  99.08260 &  3.8972222 &  3.8972222\\\\\n",
       "\t3 & 40 & 1232253 & -1 & 0.6094497 & 104.90481 &  0.1375000 &  0.1375000\\\\\n",
       "\t4 & 44 & 1228184 & -1 & 0.8192249 & 104.22690 &  0.1958333 &  0.1958333\\\\\n",
       "\t5 & 45 & 1336104 & -1 & 0.6837639 &  91.92958 &  1.9472222 &  1.9472222\\\\\n",
       "\t6 & 48 & 1346088 & -1 & 1.0116725 &  79.19666 &  0.1472222 &  0.1472222\\\\\n",
       "\\end{tabular}\n"
      ],
      "text/markdown": [
       "\n",
       "A data.frame: 6 × 7\n",
       "\n",
       "| <!--/--> | id &lt;int&gt; | time &lt;int&gt; | ref &lt;int&gt; | Creatinine &lt;dbl&gt; | Glucose &lt;dbl&gt; | Creatinine_dt &lt;dbl&gt; | Glucose_dt &lt;dbl&gt; |\n",
       "|---|---|---|---|---|---|---|---|\n",
       "| 1 |  1 | 1238196 | -1 | 1.1682341 | 187.19873 | 11.1569444 | 11.1569444 |\n",
       "| 2 | 22 | 1220227 | -1 | 1.3684419 |  99.08260 |  3.8972222 |  3.8972222 |\n",
       "| 3 | 40 | 1232253 | -1 | 0.6094497 | 104.90481 |  0.1375000 |  0.1375000 |\n",
       "| 4 | 44 | 1228184 | -1 | 0.8192249 | 104.22690 |  0.1958333 |  0.1958333 |\n",
       "| 5 | 45 | 1336104 | -1 | 0.6837639 |  91.92958 |  1.9472222 |  1.9472222 |\n",
       "| 6 | 48 | 1346088 | -1 | 1.0116725 |  79.19666 |  0.1472222 |  0.1472222 |\n",
       "\n"
      ],
      "text/plain": [
       "  id time    ref Creatinine Glucose   Creatinine_dt Glucose_dt\n",
       "1  1 1238196 -1  1.1682341  187.19873 11.1569444    11.1569444\n",
       "2 22 1220227 -1  1.3684419   99.08260  3.8972222     3.8972222\n",
       "3 40 1232253 -1  0.6094497  104.90481  0.1375000     0.1375000\n",
       "4 44 1228184 -1  0.8192249  104.22690  0.1958333     0.1958333\n",
       "5 45 1336104 -1  0.6837639   91.92958  1.9472222     1.9472222\n",
       "6 48 1346088 -1  1.0116725   79.19666  0.1472222     0.1472222"
      ]
     },
     "metadata": {},
     "output_type": "display_data"
    }
   ],
   "source": [
    "ckd_labs <- emr_extract(\n",
    "    c(\"creatinine_5y\", \"glucose_5y\", \"creatinine_5y_dt/month()\", \"glucose_5y_dt/month()\"),\n",
    "    iterator = \"dx.icd9_585\",\n",
    "    names = c(\"Creatinine\", \"Glucose\", \"Creatinine_dt\", \"Glucose_dt\"),\n",
    "    filter = \"!ckd_in_past\"\n",
    ")\n",
    "\n",
    "head(ckd_labs)"
   ]
  },
  {
   "cell_type": "markdown",
   "metadata": {},
   "source": [
    "Voila! every patient now has only the earliest diagnosis of CKD. "
   ]
  },
  {
   "cell_type": "markdown",
   "metadata": {},
   "source": [
    "_**Exercise:** Create a filter that includes only patients that will have CKD in the **future**._ "
   ]
  },
  {
   "cell_type": "markdown",
   "metadata": {},
   "source": [
    "### Value filters "
   ]
  },
  {
   "cell_type": "markdown",
   "metadata": {},
   "source": [
    "In addition to requiring that a data point exists in the *patient-time space* (like the previous example), filters may also be used to require specific value restrictions. For example, we can create a filter that includes only points where the latest 5-year Glucose was abnormal (say, above 100):"
   ]
  },
  {
   "cell_type": "code",
   "execution_count": 21,
   "metadata": {
    "vscode": {
     "languageId": "r"
    }
   },
   "outputs": [
    {
     "data": {
      "text/html": [
       "<table class=\"dataframe\">\n",
       "<caption>A data.frame: 6 × 7</caption>\n",
       "<thead>\n",
       "\t<tr><th></th><th scope=col>id</th><th scope=col>time</th><th scope=col>ref</th><th scope=col>Creatinine</th><th scope=col>Glucose</th><th scope=col>Creatinine_dt</th><th scope=col>Glucose_dt</th></tr>\n",
       "\t<tr><th></th><th scope=col>&lt;int&gt;</th><th scope=col>&lt;int&gt;</th><th scope=col>&lt;int&gt;</th><th scope=col>&lt;dbl&gt;</th><th scope=col>&lt;dbl&gt;</th><th scope=col>&lt;dbl&gt;</th><th scope=col>&lt;dbl&gt;</th></tr>\n",
       "</thead>\n",
       "<tbody>\n",
       "\t<tr><th scope=row>1</th><td> 1</td><td>1238196</td><td>-1</td><td>1.1682341</td><td>187.1987</td><td>11.1569444</td><td>11.1569444</td></tr>\n",
       "\t<tr><th scope=row>2</th><td>40</td><td>1232253</td><td>-1</td><td>0.6094497</td><td>104.9048</td><td> 0.1375000</td><td> 0.1375000</td></tr>\n",
       "\t<tr><th scope=row>3</th><td>44</td><td>1228184</td><td>-1</td><td>0.8192249</td><td>104.2269</td><td> 0.1958333</td><td> 0.1958333</td></tr>\n",
       "\t<tr><th scope=row>4</th><td>49</td><td>1251046</td><td>-1</td><td>0.8509813</td><td>172.4313</td><td> 2.8875000</td><td> 2.8875000</td></tr>\n",
       "\t<tr><th scope=row>5</th><td>54</td><td>1226343</td><td>-1</td><td>0.8735216</td><td>106.0885</td><td> 0.5750000</td><td> 0.5750000</td></tr>\n",
       "\t<tr><th scope=row>6</th><td>66</td><td>1280729</td><td>-1</td><td>1.1531183</td><td>102.9670</td><td> 0.9986111</td><td> 0.9986111</td></tr>\n",
       "</tbody>\n",
       "</table>\n"
      ],
      "text/latex": [
       "A data.frame: 6 × 7\n",
       "\\begin{tabular}{r|lllllll}\n",
       "  & id & time & ref & Creatinine & Glucose & Creatinine\\_dt & Glucose\\_dt\\\\\n",
       "  & <int> & <int> & <int> & <dbl> & <dbl> & <dbl> & <dbl>\\\\\n",
       "\\hline\n",
       "\t1 &  1 & 1238196 & -1 & 1.1682341 & 187.1987 & 11.1569444 & 11.1569444\\\\\n",
       "\t2 & 40 & 1232253 & -1 & 0.6094497 & 104.9048 &  0.1375000 &  0.1375000\\\\\n",
       "\t3 & 44 & 1228184 & -1 & 0.8192249 & 104.2269 &  0.1958333 &  0.1958333\\\\\n",
       "\t4 & 49 & 1251046 & -1 & 0.8509813 & 172.4313 &  2.8875000 &  2.8875000\\\\\n",
       "\t5 & 54 & 1226343 & -1 & 0.8735216 & 106.0885 &  0.5750000 &  0.5750000\\\\\n",
       "\t6 & 66 & 1280729 & -1 & 1.1531183 & 102.9670 &  0.9986111 &  0.9986111\\\\\n",
       "\\end{tabular}\n"
      ],
      "text/markdown": [
       "\n",
       "A data.frame: 6 × 7\n",
       "\n",
       "| <!--/--> | id &lt;int&gt; | time &lt;int&gt; | ref &lt;int&gt; | Creatinine &lt;dbl&gt; | Glucose &lt;dbl&gt; | Creatinine_dt &lt;dbl&gt; | Glucose_dt &lt;dbl&gt; |\n",
       "|---|---|---|---|---|---|---|---|\n",
       "| 1 |  1 | 1238196 | -1 | 1.1682341 | 187.1987 | 11.1569444 | 11.1569444 |\n",
       "| 2 | 40 | 1232253 | -1 | 0.6094497 | 104.9048 |  0.1375000 |  0.1375000 |\n",
       "| 3 | 44 | 1228184 | -1 | 0.8192249 | 104.2269 |  0.1958333 |  0.1958333 |\n",
       "| 4 | 49 | 1251046 | -1 | 0.8509813 | 172.4313 |  2.8875000 |  2.8875000 |\n",
       "| 5 | 54 | 1226343 | -1 | 0.8735216 | 106.0885 |  0.5750000 |  0.5750000 |\n",
       "| 6 | 66 | 1280729 | -1 | 1.1531183 | 102.9670 |  0.9986111 |  0.9986111 |\n",
       "\n"
      ],
      "text/plain": [
       "  id time    ref Creatinine Glucose  Creatinine_dt Glucose_dt\n",
       "1  1 1238196 -1  1.1682341  187.1987 11.1569444    11.1569444\n",
       "2 40 1232253 -1  0.6094497  104.9048  0.1375000     0.1375000\n",
       "3 44 1228184 -1  0.8192249  104.2269  0.1958333     0.1958333\n",
       "4 49 1251046 -1  0.8509813  172.4313  2.8875000     2.8875000\n",
       "5 54 1226343 -1  0.8735216  106.0885  0.5750000     0.5750000\n",
       "6 66 1280729 -1  1.1531183  102.9670  0.9986111     0.9986111"
      ]
     },
     "metadata": {},
     "output_type": "display_data"
    }
   ],
   "source": [
    "emr_filter.create(\"abnormal_glucose\", \"glucose_5y\", val = 100, operator = \">\")\n",
    "ckd_labs_abnormal_glucose <- emr_extract(\n",
    "    c(\"creatinine_5y\", \"glucose_5y\", \"creatinine_5y_dt/month()\", \"glucose_5y_dt/month()\"),\n",
    "    iterator = \"dx.icd9_585\",\n",
    "    filter = \"!ckd_in_past & abnormal_glucose\",\n",
    "    names = c(\"Creatinine\", \"Glucose\", \"Creatinine_dt\", \"Glucose_dt\")\n",
    ")\n",
    "head(ckd_labs_abnormal_glucose)"
   ]
  },
  {
   "cell_type": "markdown",
   "metadata": {},
   "source": [
    "Another example is to include or exclude based on the value of a categorical track. For example, in order to include only patients that were diagnosed with stage iv of CKD (ICD9 code 585.4) we filter \"dx.icd9_585\" to include only points with value of \"14\" (see note below). As the source for this filter is the same as our iterator, the time.shift used is the default c(0,0) which means it interrogates the same *patient-time-reference* data point."
   ]
  },
  {
   "cell_type": "code",
   "execution_count": 22,
   "metadata": {
    "vscode": {
     "languageId": "r"
    }
   },
   "outputs": [
    {
     "data": {
      "text/html": [
       "<table class=\"dataframe\">\n",
       "<caption>A data.frame: 6 × 6</caption>\n",
       "<thead>\n",
       "\t<tr><th></th><th scope=col>id</th><th scope=col>time</th><th scope=col>ref</th><th scope=col>Creatinine</th><th scope=col>Glucose</th><th scope=col>icd9_585</th></tr>\n",
       "\t<tr><th></th><th scope=col>&lt;int&gt;</th><th scope=col>&lt;int&gt;</th><th scope=col>&lt;int&gt;</th><th scope=col>&lt;dbl&gt;</th><th scope=col>&lt;dbl&gt;</th><th scope=col>&lt;dbl&gt;</th></tr>\n",
       "</thead>\n",
       "<tbody>\n",
       "\t<tr><th scope=row>1</th><td>  48</td><td>1346088</td><td>-1</td><td>1.0116725</td><td> 79.19666</td><td>14</td></tr>\n",
       "\t<tr><th scope=row>2</th><td> 248</td><td>1249382</td><td>-1</td><td>0.8124868</td><td> 97.05019</td><td>14</td></tr>\n",
       "\t<tr><th scope=row>3</th><td> 731</td><td>1220842</td><td>-1</td><td>0.7290940</td><td> 95.97245</td><td>14</td></tr>\n",
       "\t<tr><th scope=row>4</th><td> 777</td><td>1356208</td><td>-1</td><td>0.7595837</td><td>119.17236</td><td>14</td></tr>\n",
       "\t<tr><th scope=row>5</th><td> 795</td><td>1223712</td><td>-1</td><td>0.8867609</td><td>134.69302</td><td>14</td></tr>\n",
       "\t<tr><th scope=row>6</th><td>1542</td><td>1336426</td><td>-1</td><td>0.5827906</td><td>101.12039</td><td>14</td></tr>\n",
       "</tbody>\n",
       "</table>\n"
      ],
      "text/latex": [
       "A data.frame: 6 × 6\n",
       "\\begin{tabular}{r|llllll}\n",
       "  & id & time & ref & Creatinine & Glucose & icd9\\_585\\\\\n",
       "  & <int> & <int> & <int> & <dbl> & <dbl> & <dbl>\\\\\n",
       "\\hline\n",
       "\t1 &   48 & 1346088 & -1 & 1.0116725 &  79.19666 & 14\\\\\n",
       "\t2 &  248 & 1249382 & -1 & 0.8124868 &  97.05019 & 14\\\\\n",
       "\t3 &  731 & 1220842 & -1 & 0.7290940 &  95.97245 & 14\\\\\n",
       "\t4 &  777 & 1356208 & -1 & 0.7595837 & 119.17236 & 14\\\\\n",
       "\t5 &  795 & 1223712 & -1 & 0.8867609 & 134.69302 & 14\\\\\n",
       "\t6 & 1542 & 1336426 & -1 & 0.5827906 & 101.12039 & 14\\\\\n",
       "\\end{tabular}\n"
      ],
      "text/markdown": [
       "\n",
       "A data.frame: 6 × 6\n",
       "\n",
       "| <!--/--> | id &lt;int&gt; | time &lt;int&gt; | ref &lt;int&gt; | Creatinine &lt;dbl&gt; | Glucose &lt;dbl&gt; | icd9_585 &lt;dbl&gt; |\n",
       "|---|---|---|---|---|---|---|\n",
       "| 1 |   48 | 1346088 | -1 | 1.0116725 |  79.19666 | 14 |\n",
       "| 2 |  248 | 1249382 | -1 | 0.8124868 |  97.05019 | 14 |\n",
       "| 3 |  731 | 1220842 | -1 | 0.7290940 |  95.97245 | 14 |\n",
       "| 4 |  777 | 1356208 | -1 | 0.7595837 | 119.17236 | 14 |\n",
       "| 5 |  795 | 1223712 | -1 | 0.8867609 | 134.69302 | 14 |\n",
       "| 6 | 1542 | 1336426 | -1 | 0.5827906 | 101.12039 | 14 |\n",
       "\n"
      ],
      "text/plain": [
       "  id   time    ref Creatinine Glucose   icd9_585\n",
       "1   48 1346088 -1  1.0116725   79.19666 14      \n",
       "2  248 1249382 -1  0.8124868   97.05019 14      \n",
       "3  731 1220842 -1  0.7290940   95.97245 14      \n",
       "4  777 1356208 -1  0.7595837  119.17236 14      \n",
       "5  795 1223712 -1  0.8867609  134.69302 14      \n",
       "6 1542 1336426 -1  0.5827906  101.12039 14      "
      ]
     },
     "metadata": {},
     "output_type": "display_data"
    }
   ],
   "source": [
    "emr_filter.create(\"severe\", \"dx.icd9_585\", val = 14)\n",
    "ckd_severe <- emr_extract(\n",
    "    c(\"creatinine_5y\", \"glucose_5y\", \"dx.icd9_585\"),\n",
    "    iterator = \"dx.icd9_585\",\n",
    "    filter = \"!ckd_in_past & severe\",\n",
    "    names = c(\"Creatinine\", \"Glucose\", \"icd9_585\")\n",
    ")\n",
    "head(ckd_severe)"
   ]
  },
  {
   "cell_type": "markdown",
   "metadata": {},
   "source": [
    "> NOTE: since ICD9 diagnosis codes have a tree like structure, and X.0, X.00 are both valid codes and must be distinguishable, the diagnosis tracks all include a prefix of 1 for the minor code, so X.0 will be translated to icd9_X and a value of 10 will be stored instead of 0."
   ]
  },
  {
   "cell_type": "markdown",
   "metadata": {},
   "source": [
    "_**Exercise:** Extract the creatinine and glucose values for patients with severe CKD **and** 5-year latest creatinine above 1.5_"
   ]
  },
  {
   "cell_type": "markdown",
   "metadata": {},
   "source": [
    "## Time range"
   ]
  },
  {
   "cell_type": "markdown",
   "metadata": {},
   "source": [
    "Until now we learned how to use filters to exclude or include datapoints by their value or existence, but what if we want to include only points that are within a certain time range? \n",
    "\n",
    "For example, in many EHR databases the diagnoses in the beginning of the database do not reflect the actual time the diagnosis was given, or we know that there was a change in the standard care at a certain year. In such cases we can use the `stime` and `etime` arguments which limit the query to points that are between the given start and end times: "
   ]
  },
  {
   "cell_type": "code",
   "execution_count": 23,
   "metadata": {},
   "outputs": [
    {
     "data": {
      "text/html": [
       "<table class=\"dataframe\">\n",
       "<caption>A data.frame: 6 × 6</caption>\n",
       "<thead>\n",
       "\t<tr><th></th><th scope=col>id</th><th scope=col>time</th><th scope=col>ref</th><th scope=col>Creatinine</th><th scope=col>Glucose</th><th scope=col>icd9_585</th></tr>\n",
       "\t<tr><th></th><th scope=col>&lt;int&gt;</th><th scope=col>&lt;int&gt;</th><th scope=col>&lt;int&gt;</th><th scope=col>&lt;dbl&gt;</th><th scope=col>&lt;dbl&gt;</th><th scope=col>&lt;dbl&gt;</th></tr>\n",
       "</thead>\n",
       "<tbody>\n",
       "\t<tr><th scope=row>1</th><td> 1</td><td>1238196</td><td>-1</td><td>1.1682341</td><td>187.1987</td><td>19</td></tr>\n",
       "\t<tr><th scope=row>2</th><td> 1</td><td>1242854</td><td>-1</td><td>1.1314427</td><td>120.6385</td><td>19</td></tr>\n",
       "\t<tr><th scope=row>3</th><td> 1</td><td>1243714</td><td>-1</td><td>1.1314427</td><td>120.6385</td><td>19</td></tr>\n",
       "\t<tr><th scope=row>4</th><td>22</td><td>1245888</td><td>-1</td><td>1.1887014</td><td>113.7356</td><td> 1</td></tr>\n",
       "\t<tr><th scope=row>5</th><td>22</td><td>1249244</td><td>-1</td><td>0.8253483</td><td>117.8263</td><td> 1</td></tr>\n",
       "\t<tr><th scope=row>6</th><td>40</td><td>1259205</td><td>-1</td><td>0.9233058</td><td>103.2491</td><td>19</td></tr>\n",
       "</tbody>\n",
       "</table>\n"
      ],
      "text/latex": [
       "A data.frame: 6 × 6\n",
       "\\begin{tabular}{r|llllll}\n",
       "  & id & time & ref & Creatinine & Glucose & icd9\\_585\\\\\n",
       "  & <int> & <int> & <int> & <dbl> & <dbl> & <dbl>\\\\\n",
       "\\hline\n",
       "\t1 &  1 & 1238196 & -1 & 1.1682341 & 187.1987 & 19\\\\\n",
       "\t2 &  1 & 1242854 & -1 & 1.1314427 & 120.6385 & 19\\\\\n",
       "\t3 &  1 & 1243714 & -1 & 1.1314427 & 120.6385 & 19\\\\\n",
       "\t4 & 22 & 1245888 & -1 & 1.1887014 & 113.7356 &  1\\\\\n",
       "\t5 & 22 & 1249244 & -1 & 0.8253483 & 117.8263 &  1\\\\\n",
       "\t6 & 40 & 1259205 & -1 & 0.9233058 & 103.2491 & 19\\\\\n",
       "\\end{tabular}\n"
      ],
      "text/markdown": [
       "\n",
       "A data.frame: 6 × 6\n",
       "\n",
       "| <!--/--> | id &lt;int&gt; | time &lt;int&gt; | ref &lt;int&gt; | Creatinine &lt;dbl&gt; | Glucose &lt;dbl&gt; | icd9_585 &lt;dbl&gt; |\n",
       "|---|---|---|---|---|---|---|\n",
       "| 1 |  1 | 1238196 | -1 | 1.1682341 | 187.1987 | 19 |\n",
       "| 2 |  1 | 1242854 | -1 | 1.1314427 | 120.6385 | 19 |\n",
       "| 3 |  1 | 1243714 | -1 | 1.1314427 | 120.6385 | 19 |\n",
       "| 4 | 22 | 1245888 | -1 | 1.1887014 | 113.7356 |  1 |\n",
       "| 5 | 22 | 1249244 | -1 | 0.8253483 | 117.8263 |  1 |\n",
       "| 6 | 40 | 1259205 | -1 | 0.9233058 | 103.2491 | 19 |\n",
       "\n"
      ],
      "text/plain": [
       "  id time    ref Creatinine Glucose  icd9_585\n",
       "1  1 1238196 -1  1.1682341  187.1987 19      \n",
       "2  1 1242854 -1  1.1314427  120.6385 19      \n",
       "3  1 1243714 -1  1.1314427  120.6385 19      \n",
       "4 22 1245888 -1  1.1887014  113.7356  1      \n",
       "5 22 1249244 -1  0.8253483  117.8263  1      \n",
       "6 40 1259205 -1  0.9233058  103.2491 19      "
      ]
     },
     "metadata": {},
     "output_type": "display_data"
    }
   ],
   "source": [
    "ckd_df <- emr_extract(\n",
    "    c(\"creatinine_5y\", \"glucose_5y\", \"dx.icd9_585\"),\n",
    "    iterator = \"dx.icd9_585\",\n",
    "    names = c(\"Creatinine\", \"Glucose\", \"icd9_585\"),\n",
    "    stime = emr_date2time(1, 1, 2008),\n",
    "    etime = emr_date2time(1, 1, 2022),\n",
    ")\n",
    "head(ckd_df)"
   ]
  },
  {
   "cell_type": "markdown",
   "metadata": {},
   "source": [
    "_**Exercise:** Extract all the RBC test results that were conducted in 2011_"
   ]
  },
  {
   "cell_type": "markdown",
   "metadata": {},
   "source": [
    "## Define virtual tracks for age and sex"
   ]
  },
  {
   "cell_type": "markdown",
   "metadata": {},
   "source": [
    "Patient *age* is an important factor in most settings. For example, say that we want to know the age of a patient at the time of their first diagnosis of CKD. We can do this by creating a virtual track that computes the difference in time between the time of the diagnosis (iterator time) and the time of birth (as defined in track 'patients.dob'). \n",
    "\n",
    "We set the name of the virtual track to 'age' and define the source for the virtual track to 'patients.dob'. At each point of the iterator, we want to look backward in time as much as necessary (say - 120 years) and compute the time difference between the time of birth and the current time, so we set the `time.shift` to `c(-years(120), 0)` and the function to `dt2.earliest` (delta time between the iterator + time.shift[2] and time of earliest appearance of 'patients.dob'):"
   ]
  },
  {
   "cell_type": "code",
   "execution_count": 24,
   "metadata": {
    "vscode": {
     "languageId": "r"
    }
   },
   "outputs": [],
   "source": [
    "emr_vtrack.create(\"age\", \"patients.dob\", time.shift = c(-years(120), 0), func = \"dt2.earliest\")"
   ]
  },
  {
   "cell_type": "markdown",
   "metadata": {},
   "source": [
    "We can now extract the age of the patient at the time of their first diagnosis of CKD in the resolution of years: "
   ]
  },
  {
   "cell_type": "code",
   "execution_count": 25,
   "metadata": {
    "vscode": {
     "languageId": "r"
    }
   },
   "outputs": [
    {
     "data": {
      "text/html": [
       "<table class=\"dataframe\">\n",
       "<caption>A data.frame: 6 × 4</caption>\n",
       "<thead>\n",
       "\t<tr><th></th><th scope=col>id</th><th scope=col>time</th><th scope=col>ref</th><th scope=col>age</th></tr>\n",
       "\t<tr><th></th><th scope=col>&lt;int&gt;</th><th scope=col>&lt;int&gt;</th><th scope=col>&lt;int&gt;</th><th scope=col>&lt;dbl&gt;</th></tr>\n",
       "</thead>\n",
       "<tbody>\n",
       "\t<tr><th scope=row>1</th><td> 1</td><td>1238196</td><td>-1</td><td>80.15959</td></tr>\n",
       "\t<tr><th scope=row>2</th><td>22</td><td>1220227</td><td>-1</td><td>85.69441</td></tr>\n",
       "\t<tr><th scope=row>3</th><td>40</td><td>1232253</td><td>-1</td><td>47.95297</td></tr>\n",
       "\t<tr><th scope=row>4</th><td>44</td><td>1228184</td><td>-1</td><td>78.52557</td></tr>\n",
       "\t<tr><th scope=row>5</th><td>45</td><td>1336104</td><td>-1</td><td>62.29361</td></tr>\n",
       "\t<tr><th scope=row>6</th><td>48</td><td>1346088</td><td>-1</td><td>87.84555</td></tr>\n",
       "</tbody>\n",
       "</table>\n"
      ],
      "text/latex": [
       "A data.frame: 6 × 4\n",
       "\\begin{tabular}{r|llll}\n",
       "  & id & time & ref & age\\\\\n",
       "  & <int> & <int> & <int> & <dbl>\\\\\n",
       "\\hline\n",
       "\t1 &  1 & 1238196 & -1 & 80.15959\\\\\n",
       "\t2 & 22 & 1220227 & -1 & 85.69441\\\\\n",
       "\t3 & 40 & 1232253 & -1 & 47.95297\\\\\n",
       "\t4 & 44 & 1228184 & -1 & 78.52557\\\\\n",
       "\t5 & 45 & 1336104 & -1 & 62.29361\\\\\n",
       "\t6 & 48 & 1346088 & -1 & 87.84555\\\\\n",
       "\\end{tabular}\n"
      ],
      "text/markdown": [
       "\n",
       "A data.frame: 6 × 4\n",
       "\n",
       "| <!--/--> | id &lt;int&gt; | time &lt;int&gt; | ref &lt;int&gt; | age &lt;dbl&gt; |\n",
       "|---|---|---|---|---|\n",
       "| 1 |  1 | 1238196 | -1 | 80.15959 |\n",
       "| 2 | 22 | 1220227 | -1 | 85.69441 |\n",
       "| 3 | 40 | 1232253 | -1 | 47.95297 |\n",
       "| 4 | 44 | 1228184 | -1 | 78.52557 |\n",
       "| 5 | 45 | 1336104 | -1 | 62.29361 |\n",
       "| 6 | 48 | 1346088 | -1 | 87.84555 |\n",
       "\n"
      ],
      "text/plain": [
       "  id time    ref age     \n",
       "1  1 1238196 -1  80.15959\n",
       "2 22 1220227 -1  85.69441\n",
       "3 40 1232253 -1  47.95297\n",
       "4 44 1228184 -1  78.52557\n",
       "5 45 1336104 -1  62.29361\n",
       "6 48 1346088 -1  87.84555"
      ]
     },
     "metadata": {},
     "output_type": "display_data"
    }
   ],
   "source": [
    "age_at_ckd_diag <- emr_extract(\"age/year()\", iterator = \"dx.icd9_585\", filter = \"!ckd_in_past\", name = \"age\")\n",
    "head(age_at_ckd_diag)"
   ]
  },
  {
   "cell_type": "markdown",
   "metadata": {},
   "source": [
    "Sex can be defined in a similar way going backward in time and taking the earliest **value** at the \"patients.dob\" track:\n",
    "\n"
   ]
  },
  {
   "cell_type": "code",
   "execution_count": 26,
   "metadata": {
    "vscode": {
     "languageId": "r"
    }
   },
   "outputs": [],
   "source": [
    "emr_vtrack.create(\"sex\", \"patients.dob\", time.shift = c(-years(120), 0), func = \"earliest\")"
   ]
  },
  {
   "cell_type": "code",
   "execution_count": 27,
   "metadata": {},
   "outputs": [
    {
     "data": {
      "image/png": "[encoded data removed]",
      "text/plain": [
       "plot without title"
      ]
     },
     "metadata": {
      "image/png": {
       "height": 420,
       "width": 420
      }
     },
     "output_type": "display_data"
    }
   ],
   "source": [
    "emr_extract(c(\"age/year()\", \"sex\"), iterator = \"dx.icd9_585\", name = c(\"age\", \"sex\")) %>%\n",
    "    mutate(sex = c(\"male\", \"female\")[sex]) %>%\n",
    "    ggplot(aes(x = age, color = sex, group = sex)) +\n",
    "    geom_density()"
   ]
  },
  {
   "cell_type": "markdown",
   "metadata": {},
   "source": [
    "In a similar way we can define filters for patient status, including the fact that patient was born, has died, has registered to the EMR or has left for good: "
   ]
  },
  {
   "cell_type": "code",
   "execution_count": 28,
   "metadata": {},
   "outputs": [],
   "source": [
    "emr_filter.create(\"born\", \"patients.dob\", time.shift = c(-120, 0) * year())\n",
    "emr_filter.create(\"dead\", \"patients.dod\", time.shift = c(-120, 0) * year())\n",
    "emr_filter.create(\"registered\", \"patients.status.register\", time.shift = c(-120, 0) * year())\n",
    "emr_filter.create(\"left_for_good\", \"patients.status.lfg\", time.shift = c(-120, 0) * year())"
   ]
  },
  {
   "cell_type": "markdown",
   "metadata": {},
   "source": [
    "We can use the same approach to define a virtual track for the onset of CKD instead of using the filter we defined above: "
   ]
  },
  {
   "cell_type": "code",
   "execution_count": 29,
   "metadata": {},
   "outputs": [],
   "source": [
    "emr_vtrack.create(\"disease_onset\", \"dx.icd9_585\", time.shift = c(0, 120) * year(), func = \"earliest.time\")"
   ]
  },
  {
   "cell_type": "markdown",
   "metadata": {},
   "source": [
    "And finally, we can define a filter for the fact that the patient will have the disease in the future:"
   ]
  },
  {
   "cell_type": "code",
   "execution_count": 30,
   "metadata": {},
   "outputs": [],
   "source": [
    "emr_filter.create(\"will_have_disease\", \"dx.icd9_585\", time.shift = c(0, 120) * year())"
   ]
  },
  {
   "cell_type": "markdown",
   "metadata": {},
   "source": [
    "## Incidence rate"
   ]
  },
  {
   "cell_type": "markdown",
   "metadata": {},
   "source": [
    "Next, we want to compute the incidence rate of CKD, for each age and sex. The formula for incidence rate is: \n",
    "\n",
    "$$ (New Cases_{a,s}) / (Population_{a,s} x Timeframe) $$\n",
    "\n",
    "$$a = age, s = sex$$"
   ]
  },
  {
   "cell_type": "markdown",
   "metadata": {},
   "source": [
    "The formula may appear straightforward, but it can be challenging to implement in traditional databases, particularly when computing the denominator, which requires counting the age and sex of all patients in the system across time. An alternative approach, known as the \"index-date\" method, is often used, in which the calculation is performed only for patients at a specific point in time, rather than the entire database. This approach can result in a small number of cases, making it difficult to stratify the computation based on age and sex.\n",
    "\n",
    "So how can we use `naryn` to compute this?"
   ]
  },
  {
   "cell_type": "markdown",
   "metadata": {
    "tags": []
   },
   "source": [
    "#### The enumerator "
   ]
  },
  {
   "cell_type": "markdown",
   "metadata": {},
   "source": [
    "We need to count the new cases of CKD in each age group and sex. To do that we will use the function `emr_dist` which can compute the distributions of values of a track. \n",
    "\n",
    "`emr_dist` accepts pairs of track expression and breaks, and counts the number of values in each strata, so we can ask it to count the numbers of disease onsets in each age and sex. "
   ]
  },
  {
   "cell_type": "code",
   "execution_count": 31,
   "metadata": {},
   "outputs": [
    {
     "data": {
      "text/html": [
       "<table class=\"dataframe\">\n",
       "<caption>A data.frame: 6 × 3</caption>\n",
       "<thead>\n",
       "\t<tr><th></th><th scope=col>age</th><th scope=col>sex</th><th scope=col>n_sick</th></tr>\n",
       "\t<tr><th></th><th scope=col>&lt;fct&gt;</th><th scope=col>&lt;fct&gt;</th><th scope=col>&lt;dbl&gt;</th></tr>\n",
       "</thead>\n",
       "<tbody>\n",
       "\t<tr><th scope=row>15</th><td>[55,60)</td><td>2</td><td>166</td></tr>\n",
       "\t<tr><th scope=row>16</th><td>[60,65)</td><td>2</td><td>225</td></tr>\n",
       "\t<tr><th scope=row>17</th><td>[65,70)</td><td>2</td><td>302</td></tr>\n",
       "\t<tr><th scope=row>18</th><td>[70,75)</td><td>2</td><td>307</td></tr>\n",
       "\t<tr><th scope=row>19</th><td>[75,80)</td><td>2</td><td>317</td></tr>\n",
       "\t<tr><th scope=row>20</th><td>[80,85)</td><td>2</td><td>193</td></tr>\n",
       "</tbody>\n",
       "</table>\n"
      ],
      "text/latex": [
       "A data.frame: 6 × 3\n",
       "\\begin{tabular}{r|lll}\n",
       "  & age & sex & n\\_sick\\\\\n",
       "  & <fct> & <fct> & <dbl>\\\\\n",
       "\\hline\n",
       "\t15 & {[}55,60) & 2 & 166\\\\\n",
       "\t16 & {[}60,65) & 2 & 225\\\\\n",
       "\t17 & {[}65,70) & 2 & 302\\\\\n",
       "\t18 & {[}70,75) & 2 & 307\\\\\n",
       "\t19 & {[}75,80) & 2 & 317\\\\\n",
       "\t20 & {[}80,85) & 2 & 193\\\\\n",
       "\\end{tabular}\n"
      ],
      "text/markdown": [
       "\n",
       "A data.frame: 6 × 3\n",
       "\n",
       "| <!--/--> | age &lt;fct&gt; | sex &lt;fct&gt; | n_sick &lt;dbl&gt; |\n",
       "|---|---|---|---|\n",
       "| 15 | [55,60) | 2 | 166 |\n",
       "| 16 | [60,65) | 2 | 225 |\n",
       "| 17 | [65,70) | 2 | 302 |\n",
       "| 18 | [70,75) | 2 | 307 |\n",
       "| 19 | [75,80) | 2 | 317 |\n",
       "| 20 | [80,85) | 2 | 193 |\n",
       "\n"
      ],
      "text/plain": [
       "   age     sex n_sick\n",
       "15 [55,60) 2   166   \n",
       "16 [60,65) 2   225   \n",
       "17 [65,70) 2   302   \n",
       "18 [70,75) 2   307   \n",
       "19 [75,80) 2   317   \n",
       "20 [80,85) 2   193   "
      ]
     },
     "metadata": {},
     "output_type": "display_data"
    }
   ],
   "source": [
    "age_breaks <- seq(35, 85, by = 5)\n",
    "stime <- emr_date2time(1, 1, 2008) # taking 3 years of history\n",
    "etime <- emr_date2time(1, 1, 2022) # end of db\n",
    "\n",
    "disease_count <- emr_dist(\n",
    "    \"age/year()\",\n",
    "    age_breaks,\n",
    "    \"sex\",\n",
    "    NULL,\n",
    "    iterator = \"dx.icd9_585\",\n",
    "    filter = \"!ckd_in_past\",\n",
    "    right = FALSE,\n",
    "    dataframe = TRUE,\n",
    "    names = c(\"age\", \"sex\"),\n",
    "    stime = stime,\n",
    "    etime = etime\n",
    ") %>% rename(n_sick = n)\n",
    "tail(disease_count)"
   ]
  },
  {
   "cell_type": "markdown",
   "metadata": {},
   "source": [
    "- Note again that we used the `\"!ckd_in_past\"` filter in order to make sure that we are going over the *onset* of CKD and not only diagnosis. \n",
    "\n",
    "- For sex, we set the breaks to \"NULL\" in order to implicitly use the possible values of the track. "
   ]
  },
  {
   "cell_type": "markdown",
   "metadata": {
    "tags": []
   },
   "source": [
    "#### The denominator "
   ]
  },
  {
   "cell_type": "markdown",
   "metadata": {},
   "source": [
    "In order to calculate the denominator, we have to sum the 'man-months' we have in the system. To do that we  use another type of iterator called `beat iterator`. A beat iterator goes over all the patient in the system every \"time beat\", for example, in our case, every month. \n",
    "\n",
    "We have to count only patients that did not have the disease yet (but may to get it in the future):"
   ]
  },
  {
   "cell_type": "code",
   "execution_count": 32,
   "metadata": {},
   "outputs": [],
   "source": [
    "emr_filter.create(\"has_disease\", \"dx.icd9_585\", time.shift = c(-120, 0) * year())"
   ]
  },
  {
   "cell_type": "markdown",
   "metadata": {},
   "source": [
    "In addition, we count only patients that were born, didn't die yet and are currently registered to the system. This would be enforced using filter parameter. "
   ]
  },
  {
   "cell_type": "code",
   "execution_count": 33,
   "metadata": {},
   "outputs": [
    {
     "data": {
      "text/html": [
       "<table class=\"dataframe\">\n",
       "<caption>A data.frame: 6 × 3</caption>\n",
       "<thead>\n",
       "\t<tr><th></th><th scope=col>age</th><th scope=col>sex</th><th scope=col>man_months</th></tr>\n",
       "\t<tr><th></th><th scope=col>&lt;fct&gt;</th><th scope=col>&lt;fct&gt;</th><th scope=col>&lt;dbl&gt;</th></tr>\n",
       "</thead>\n",
       "<tbody>\n",
       "\t<tr><th scope=row>1</th><td>[35,40)</td><td>1</td><td>905124</td></tr>\n",
       "\t<tr><th scope=row>2</th><td>[40,45)</td><td>1</td><td>723567</td></tr>\n",
       "\t<tr><th scope=row>3</th><td>[45,50)</td><td>1</td><td>602136</td></tr>\n",
       "\t<tr><th scope=row>4</th><td>[50,55)</td><td>1</td><td>545987</td></tr>\n",
       "\t<tr><th scope=row>5</th><td>[55,60)</td><td>1</td><td>502793</td></tr>\n",
       "\t<tr><th scope=row>6</th><td>[60,65)</td><td>1</td><td>409923</td></tr>\n",
       "</tbody>\n",
       "</table>\n"
      ],
      "text/latex": [
       "A data.frame: 6 × 3\n",
       "\\begin{tabular}{r|lll}\n",
       "  & age & sex & man\\_months\\\\\n",
       "  & <fct> & <fct> & <dbl>\\\\\n",
       "\\hline\n",
       "\t1 & {[}35,40) & 1 & 905124\\\\\n",
       "\t2 & {[}40,45) & 1 & 723567\\\\\n",
       "\t3 & {[}45,50) & 1 & 602136\\\\\n",
       "\t4 & {[}50,55) & 1 & 545987\\\\\n",
       "\t5 & {[}55,60) & 1 & 502793\\\\\n",
       "\t6 & {[}60,65) & 1 & 409923\\\\\n",
       "\\end{tabular}\n"
      ],
      "text/markdown": [
       "\n",
       "A data.frame: 6 × 3\n",
       "\n",
       "| <!--/--> | age &lt;fct&gt; | sex &lt;fct&gt; | man_months &lt;dbl&gt; |\n",
       "|---|---|---|---|\n",
       "| 1 | [35,40) | 1 | 905124 |\n",
       "| 2 | [40,45) | 1 | 723567 |\n",
       "| 3 | [45,50) | 1 | 602136 |\n",
       "| 4 | [50,55) | 1 | 545987 |\n",
       "| 5 | [55,60) | 1 | 502793 |\n",
       "| 6 | [60,65) | 1 | 409923 |\n",
       "\n"
      ],
      "text/plain": [
       "  age     sex man_months\n",
       "1 [35,40) 1   905124    \n",
       "2 [40,45) 1   723567    \n",
       "3 [45,50) 1   602136    \n",
       "4 [50,55) 1   545987    \n",
       "5 [55,60) 1   502793    \n",
       "6 [60,65) 1   409923    "
      ]
     },
     "metadata": {},
     "output_type": "display_data"
    }
   ],
   "source": [
    "full_pop <- emr_dist(\n",
    "    \"age/year()\",\n",
    "    age_breaks,\n",
    "    \"sex\",\n",
    "    NULL,\n",
    "    iterator = month(),\n",
    "    filter = \"born & !dead & registered & !left_for_good & !has_disease\",\n",
    "    right = FALSE,\n",
    "    dataframe = TRUE,\n",
    "    names = c(\"age\", \"sex\"),\n",
    "    stime = stime,\n",
    "    etime = etime\n",
    ") %>%\n",
    "    rename(man_months = n)\n",
    "head(full_pop)"
   ]
  },
  {
   "cell_type": "markdown",
   "metadata": {},
   "source": [
    "#### Computing incidence rate"
   ]
  },
  {
   "cell_type": "markdown",
   "metadata": {},
   "source": [
    "Now that we have both the enumerator and the denominator we can compute the incidence rate per 100k:"
   ]
  },
  {
   "cell_type": "code",
   "execution_count": 34,
   "metadata": {},
   "outputs": [
    {
     "data": {
      "text/html": [
       "<table class=\"dataframe\">\n",
       "<caption>A data.frame: 6 × 8</caption>\n",
       "<thead>\n",
       "\t<tr><th></th><th scope=col>age</th><th scope=col>sex</th><th scope=col>n_sick</th><th scope=col>man_months</th><th scope=col>p</th><th scope=col>incidence</th><th scope=col>lower_ci</th><th scope=col>upper_ci</th></tr>\n",
       "\t<tr><th></th><th scope=col>&lt;fct&gt;</th><th scope=col>&lt;fct&gt;</th><th scope=col>&lt;dbl&gt;</th><th scope=col>&lt;dbl&gt;</th><th scope=col>&lt;dbl&gt;</th><th scope=col>&lt;dbl&gt;</th><th scope=col>&lt;dbl&gt;</th><th scope=col>&lt;dbl&gt;</th></tr>\n",
       "</thead>\n",
       "<tbody>\n",
       "\t<tr><th scope=row>1</th><td>[35,40)</td><td>male</td><td> 42</td><td>905124</td><td>0.00004640248</td><td>  55.68298</td><td>  38.843</td><td>  72.522</td></tr>\n",
       "\t<tr><th scope=row>2</th><td>[40,45)</td><td>male</td><td> 59</td><td>723567</td><td>0.00008154048</td><td>  97.84858</td><td>  72.882</td><td> 122.815</td></tr>\n",
       "\t<tr><th scope=row>3</th><td>[45,50)</td><td>male</td><td>121</td><td>602136</td><td>0.00020095128</td><td> 241.14154</td><td> 198.179</td><td> 284.103</td></tr>\n",
       "\t<tr><th scope=row>4</th><td>[50,55)</td><td>male</td><td>191</td><td>545987</td><td>0.00034982518</td><td> 419.79021</td><td> 360.266</td><td> 479.313</td></tr>\n",
       "\t<tr><th scope=row>5</th><td>[55,60)</td><td>male</td><td>270</td><td>502793</td><td>0.00053700032</td><td> 644.40038</td><td> 567.557</td><td> 721.243</td></tr>\n",
       "\t<tr><th scope=row>6</th><td>[60,65)</td><td>male</td><td>416</td><td>409923</td><td>0.00101482474</td><td>1217.78968</td><td>1100.825</td><td>1334.753</td></tr>\n",
       "</tbody>\n",
       "</table>\n"
      ],
      "text/latex": [
       "A data.frame: 6 × 8\n",
       "\\begin{tabular}{r|llllllll}\n",
       "  & age & sex & n\\_sick & man\\_months & p & incidence & lower\\_ci & upper\\_ci\\\\\n",
       "  & <fct> & <fct> & <dbl> & <dbl> & <dbl> & <dbl> & <dbl> & <dbl>\\\\\n",
       "\\hline\n",
       "\t1 & {[}35,40) & male &  42 & 905124 & 0.00004640248 &   55.68298 &   38.843 &   72.522\\\\\n",
       "\t2 & {[}40,45) & male &  59 & 723567 & 0.00008154048 &   97.84858 &   72.882 &  122.815\\\\\n",
       "\t3 & {[}45,50) & male & 121 & 602136 & 0.00020095128 &  241.14154 &  198.179 &  284.103\\\\\n",
       "\t4 & {[}50,55) & male & 191 & 545987 & 0.00034982518 &  419.79021 &  360.266 &  479.313\\\\\n",
       "\t5 & {[}55,60) & male & 270 & 502793 & 0.00053700032 &  644.40038 &  567.557 &  721.243\\\\\n",
       "\t6 & {[}60,65) & male & 416 & 409923 & 0.00101482474 & 1217.78968 & 1100.825 & 1334.753\\\\\n",
       "\\end{tabular}\n"
      ],
      "text/markdown": [
       "\n",
       "A data.frame: 6 × 8\n",
       "\n",
       "| <!--/--> | age &lt;fct&gt; | sex &lt;fct&gt; | n_sick &lt;dbl&gt; | man_months &lt;dbl&gt; | p &lt;dbl&gt; | incidence &lt;dbl&gt; | lower_ci &lt;dbl&gt; | upper_ci &lt;dbl&gt; |\n",
       "|---|---|---|---|---|---|---|---|---|\n",
       "| 1 | [35,40) | male |  42 | 905124 | 0.00004640248 |   55.68298 |   38.843 |   72.522 |\n",
       "| 2 | [40,45) | male |  59 | 723567 | 0.00008154048 |   97.84858 |   72.882 |  122.815 |\n",
       "| 3 | [45,50) | male | 121 | 602136 | 0.00020095128 |  241.14154 |  198.179 |  284.103 |\n",
       "| 4 | [50,55) | male | 191 | 545987 | 0.00034982518 |  419.79021 |  360.266 |  479.313 |\n",
       "| 5 | [55,60) | male | 270 | 502793 | 0.00053700032 |  644.40038 |  567.557 |  721.243 |\n",
       "| 6 | [60,65) | male | 416 | 409923 | 0.00101482474 | 1217.78968 | 1100.825 | 1334.753 |\n",
       "\n"
      ],
      "text/plain": [
       "  age     sex  n_sick man_months p             incidence  lower_ci upper_ci\n",
       "1 [35,40) male  42    905124     0.00004640248   55.68298   38.843   72.522\n",
       "2 [40,45) male  59    723567     0.00008154048   97.84858   72.882  122.815\n",
       "3 [45,50) male 121    602136     0.00020095128  241.14154  198.179  284.103\n",
       "4 [50,55) male 191    545987     0.00034982518  419.79021  360.266  479.313\n",
       "5 [55,60) male 270    502793     0.00053700032  644.40038  567.557  721.243\n",
       "6 [60,65) male 416    409923     0.00101482474 1217.78968 1100.825 1334.753"
      ]
     },
     "metadata": {},
     "output_type": "display_data"
    }
   ],
   "source": [
    "incidence <- disease_count %>%\n",
    "    full_join(full_pop, by = c(\"age\", \"sex\")) %>%\n",
    "    mutate(\n",
    "        p = n_sick / man_months,\n",
    "        incidence = p * 12 * 1e5,\n",
    "        lower_ci = floor(1000 * (p - qnorm(0.975) * sqrt(p * (1 - p) / man_months)) * 12 * 1e5) / 1000,\n",
    "        upper_ci = floor(1000 * (p + qnorm(0.975) * sqrt(p * (1 - p) / man_months)) * 12 * 1e5) / 1000,\n",
    "        sex = factor(c(\"male\", \"female\")[sex])\n",
    "    )\n",
    "\n",
    "head(incidence)"
   ]
  },
  {
   "cell_type": "code",
   "execution_count": 35,
   "metadata": {},
   "outputs": [
    {
     "data": {
      "image/png": "[encoded data removed]",
      "text/plain": [
       "plot without title"
      ]
     },
     "metadata": {
      "image/png": {
       "height": 420,
       "width": 420
      }
     },
     "output_type": "display_data"
    }
   ],
   "source": [
    "incidence %>%\n",
    "    ggplot(aes(x = age, y = incidence, ymin = lower_ci, ymax = upper_ci, group = sex, color = sex)) +\n",
    "    geom_line() +\n",
    "    ylab(\"Incidence per 100k\") +\n",
    "    xlab(\"Age\") +\n",
    "    geom_errorbar(width = 0.3)"
   ]
  },
  {
   "cell_type": "markdown",
   "metadata": {},
   "source": [
    "_**Exercise:** Compute the incidence rate of diabetes (\"dx.250\")_"
   ]
  },
  {
   "cell_type": "markdown",
   "metadata": {},
   "source": [
    "## Survival analysis"
   ]
  },
  {
   "cell_type": "markdown",
   "metadata": {},
   "source": [
    "Next, we want to estimate the survival of CKD patients between the ages of 60 and 65 (not inclusive). We have a track called \"patients.dod\" which indicates the death of patients. We will start by computing the time from the disease diagnosis to death:"
   ]
  },
  {
   "cell_type": "code",
   "execution_count": 36,
   "metadata": {},
   "outputs": [],
   "source": [
    "# create a filter for male patients (val=1) between ages 60 to 65 (time.shift=c(-65, -60))\n",
    "emr_filter.create(\"male_60_65\", \"patients.dob\", time.shift = c(-65, -60) * year(), val = 1)"
   ]
  },
  {
   "cell_type": "code",
   "execution_count": 37,
   "metadata": {},
   "outputs": [
    {
     "data": {
      "text/html": [
       "<table class=\"dataframe\">\n",
       "<caption>A data.frame: 6 × 6</caption>\n",
       "<thead>\n",
       "\t<tr><th></th><th scope=col>id</th><th scope=col>time</th><th scope=col>ref</th><th scope=col>age</th><th scope=col>sex</th><th scope=col>survival</th></tr>\n",
       "\t<tr><th></th><th scope=col>&lt;int&gt;</th><th scope=col>&lt;int&gt;</th><th scope=col>&lt;int&gt;</th><th scope=col>&lt;dbl&gt;</th><th scope=col>&lt;dbl&gt;</th><th scope=col>&lt;dbl&gt;</th></tr>\n",
       "</thead>\n",
       "<tbody>\n",
       "\t<tr><th scope=row>1</th><td> 829</td><td>1237761</td><td>-1</td><td>62.57123</td><td>1</td><td>32535</td></tr>\n",
       "\t<tr><th scope=row>2</th><td> 905</td><td>1351491</td><td>-1</td><td>60.31564</td><td>1</td><td>  NaN</td></tr>\n",
       "\t<tr><th scope=row>3</th><td> 909</td><td>1355931</td><td>-1</td><td>63.82740</td><td>1</td><td>  NaN</td></tr>\n",
       "\t<tr><th scope=row>4</th><td> 918</td><td>1313958</td><td>-1</td><td>62.82637</td><td>1</td><td>  NaN</td></tr>\n",
       "\t<tr><th scope=row>5</th><td>1063</td><td>1238104</td><td>-1</td><td>64.44532</td><td>1</td><td>52352</td></tr>\n",
       "\t<tr><th scope=row>6</th><td>1064</td><td>1324502</td><td>-1</td><td>61.09795</td><td>1</td><td>  NaN</td></tr>\n",
       "</tbody>\n",
       "</table>\n"
      ],
      "text/latex": [
       "A data.frame: 6 × 6\n",
       "\\begin{tabular}{r|llllll}\n",
       "  & id & time & ref & age & sex & survival\\\\\n",
       "  & <int> & <int> & <int> & <dbl> & <dbl> & <dbl>\\\\\n",
       "\\hline\n",
       "\t1 &  829 & 1237761 & -1 & 62.57123 & 1 & 32535\\\\\n",
       "\t2 &  905 & 1351491 & -1 & 60.31564 & 1 &   NaN\\\\\n",
       "\t3 &  909 & 1355931 & -1 & 63.82740 & 1 &   NaN\\\\\n",
       "\t4 &  918 & 1313958 & -1 & 62.82637 & 1 &   NaN\\\\\n",
       "\t5 & 1063 & 1238104 & -1 & 64.44532 & 1 & 52352\\\\\n",
       "\t6 & 1064 & 1324502 & -1 & 61.09795 & 1 &   NaN\\\\\n",
       "\\end{tabular}\n"
      ],
      "text/markdown": [
       "\n",
       "A data.frame: 6 × 6\n",
       "\n",
       "| <!--/--> | id &lt;int&gt; | time &lt;int&gt; | ref &lt;int&gt; | age &lt;dbl&gt; | sex &lt;dbl&gt; | survival &lt;dbl&gt; |\n",
       "|---|---|---|---|---|---|---|\n",
       "| 1 |  829 | 1237761 | -1 | 62.57123 | 1 | 32535 |\n",
       "| 2 |  905 | 1351491 | -1 | 60.31564 | 1 |   NaN |\n",
       "| 3 |  909 | 1355931 | -1 | 63.82740 | 1 |   NaN |\n",
       "| 4 |  918 | 1313958 | -1 | 62.82637 | 1 |   NaN |\n",
       "| 5 | 1063 | 1238104 | -1 | 64.44532 | 1 | 52352 |\n",
       "| 6 | 1064 | 1324502 | -1 | 61.09795 | 1 |   NaN |\n",
       "\n"
      ],
      "text/plain": [
       "  id   time    ref age      sex survival\n",
       "1  829 1237761 -1  62.57123 1   32535   \n",
       "2  905 1351491 -1  60.31564 1     NaN   \n",
       "3  909 1355931 -1  63.82740 1     NaN   \n",
       "4  918 1313958 -1  62.82637 1     NaN   \n",
       "5 1063 1238104 -1  64.44532 1   52352   \n",
       "6 1064 1324502 -1  61.09795 1     NaN   "
      ]
     },
     "metadata": {},
     "output_type": "display_data"
    }
   ],
   "source": [
    "emr_vtrack.create(\"survival\", \"patients.dod\", time.shift = c(0, 120) * 365 * 24, func = \"dt1.earliest\")\n",
    "disease_survival <- emr_extract(c(\"age/year()\", \"sex\", \"survival\"),\n",
    "    iterator = \"dx.icd9_585\",\n",
    "    stime = stime, etime = etime,\n",
    "    filter = \"!ckd_in_past & male_60_65\",\n",
    "    names = c(\"age\", \"sex\", \"survival\")\n",
    ")\n",
    "head(disease_survival)"
   ]
  },
  {
   "cell_type": "markdown",
   "metadata": {},
   "source": [
    "> NOTE: Survival analysis is very sensitive to patient age and sex. This is why for this example we focus on males age 60-65."
   ]
  },
  {
   "cell_type": "markdown",
   "metadata": {},
   "source": [
    "The `NA` values indicate that the patient did not die yet. \n",
    "\n",
    "We now need to compute the survival of the \"background\" patients. We want to go over all the patients at ages 60-65, and compute their time until death (\"survival\" virtual track). To do that we can use an `extended beat iterator`, which, as its name suggests, is a variation on the beat iterator which aligns the beat to a set of points. In our case we will align the points on their time of birth (\"patients.dob\") and add the number of years for each patient (e.g. 60) to extract the data at each patient's birthday. \n",
    "\n",
    "We will use the same filters we used in the incidence rate analysis above."
   ]
  },
  {
   "cell_type": "code",
   "execution_count": 38,
   "metadata": {},
   "outputs": [],
   "source": [
    "gen_pop_survival <- purrr::map_df(60:64, ~\n",
    "    emr_extract(\n",
    "        c(\"age/year()\", \"sex\", \"survival\"),\n",
    "        iterator = list(.x * year(), \"patients.dob\"),\n",
    "        stime = stime, etime = etime,\n",
    "        filter = \"!has_disease & born & !dead & registered & !left_for_good & male_60_65\",\n",
    "        names = c(\"age\", \"sex\", \"survival\")\n",
    "    ))"
   ]
  },
  {
   "cell_type": "markdown",
   "metadata": {},
   "source": [
    "We prefer not to use a patient twice (in different ages):"
   ]
  },
  {
   "cell_type": "code",
   "execution_count": 39,
   "metadata": {},
   "outputs": [
    {
     "data": {
      "text/html": [
       "<table class=\"dataframe\">\n",
       "<caption>A data.frame: 6 × 6</caption>\n",
       "<thead>\n",
       "\t<tr><th></th><th scope=col>id</th><th scope=col>time</th><th scope=col>ref</th><th scope=col>age</th><th scope=col>sex</th><th scope=col>survival</th></tr>\n",
       "\t<tr><th></th><th scope=col>&lt;int&gt;</th><th scope=col>&lt;int&gt;</th><th scope=col>&lt;int&gt;</th><th scope=col>&lt;dbl&gt;</th><th scope=col>&lt;dbl&gt;</th><th scope=col>&lt;dbl&gt;</th></tr>\n",
       "</thead>\n",
       "<tbody>\n",
       "\t<tr><th scope=row>1</th><td>77859</td><td>1297753</td><td>-1</td><td>63</td><td>1</td><td>  NaN</td></tr>\n",
       "\t<tr><th scope=row>2</th><td>99055</td><td>1288478</td><td>-1</td><td>62</td><td>1</td><td>  NaN</td></tr>\n",
       "\t<tr><th scope=row>3</th><td>77661</td><td>1331320</td><td>-1</td><td>62</td><td>1</td><td>  NaN</td></tr>\n",
       "\t<tr><th scope=row>4</th><td> 3628</td><td>1279684</td><td>-1</td><td>63</td><td>1</td><td>17972</td></tr>\n",
       "\t<tr><th scope=row>5</th><td> 6932</td><td>1312206</td><td>-1</td><td>64</td><td>1</td><td>  NaN</td></tr>\n",
       "\t<tr><th scope=row>6</th><td>30695</td><td>1345150</td><td>-1</td><td>63</td><td>1</td><td>  NaN</td></tr>\n",
       "</tbody>\n",
       "</table>\n"
      ],
      "text/latex": [
       "A data.frame: 6 × 6\n",
       "\\begin{tabular}{r|llllll}\n",
       "  & id & time & ref & age & sex & survival\\\\\n",
       "  & <int> & <int> & <int> & <dbl> & <dbl> & <dbl>\\\\\n",
       "\\hline\n",
       "\t1 & 77859 & 1297753 & -1 & 63 & 1 &   NaN\\\\\n",
       "\t2 & 99055 & 1288478 & -1 & 62 & 1 &   NaN\\\\\n",
       "\t3 & 77661 & 1331320 & -1 & 62 & 1 &   NaN\\\\\n",
       "\t4 &  3628 & 1279684 & -1 & 63 & 1 & 17972\\\\\n",
       "\t5 &  6932 & 1312206 & -1 & 64 & 1 &   NaN\\\\\n",
       "\t6 & 30695 & 1345150 & -1 & 63 & 1 &   NaN\\\\\n",
       "\\end{tabular}\n"
      ],
      "text/markdown": [
       "\n",
       "A data.frame: 6 × 6\n",
       "\n",
       "| <!--/--> | id &lt;int&gt; | time &lt;int&gt; | ref &lt;int&gt; | age &lt;dbl&gt; | sex &lt;dbl&gt; | survival &lt;dbl&gt; |\n",
       "|---|---|---|---|---|---|---|\n",
       "| 1 | 77859 | 1297753 | -1 | 63 | 1 |   NaN |\n",
       "| 2 | 99055 | 1288478 | -1 | 62 | 1 |   NaN |\n",
       "| 3 | 77661 | 1331320 | -1 | 62 | 1 |   NaN |\n",
       "| 4 |  3628 | 1279684 | -1 | 63 | 1 | 17972 |\n",
       "| 5 |  6932 | 1312206 | -1 | 64 | 1 |   NaN |\n",
       "| 6 | 30695 | 1345150 | -1 | 63 | 1 |   NaN |\n",
       "\n"
      ],
      "text/plain": [
       "  id    time    ref age sex survival\n",
       "1 77859 1297753 -1  63  1     NaN   \n",
       "2 99055 1288478 -1  62  1     NaN   \n",
       "3 77661 1331320 -1  62  1     NaN   \n",
       "4  3628 1279684 -1  63  1   17972   \n",
       "5  6932 1312206 -1  64  1     NaN   \n",
       "6 30695 1345150 -1  63  1     NaN   "
      ]
     },
     "metadata": {},
     "output_type": "display_data"
    }
   ],
   "source": [
    "gen_pop_survival <- gen_pop_survival %>%\n",
    "    sample_n(n()) %>%\n",
    "    distinct(id, .keep_all = T)\n",
    "head(gen_pop_survival)"
   ]
  },
  {
   "cell_type": "markdown",
   "metadata": {},
   "source": [
    "We can now compute the Kaplan-Meier survival curve. \n",
    "\n",
    "We will start by combining the two data frames and reshape it to the format of the survival function. Note that we apply censoring to reflect the latest update of the database which was at Jan 1, 2021:"
   ]
  },
  {
   "cell_type": "code",
   "execution_count": 40,
   "metadata": {},
   "outputs": [
    {
     "data": {
      "text/html": [
       "<table class=\"dataframe\">\n",
       "<caption>A data.frame: 6 × 9</caption>\n",
       "<thead>\n",
       "\t<tr><th></th><th scope=col>id</th><th scope=col>time</th><th scope=col>ref</th><th scope=col>age</th><th scope=col>sex</th><th scope=col>survival</th><th scope=col>cohort</th><th scope=col>follow_time</th><th scope=col>status</th></tr>\n",
       "\t<tr><th></th><th scope=col>&lt;int&gt;</th><th scope=col>&lt;int&gt;</th><th scope=col>&lt;int&gt;</th><th scope=col>&lt;dbl&gt;</th><th scope=col>&lt;dbl&gt;</th><th scope=col>&lt;dbl&gt;</th><th scope=col>&lt;chr&gt;</th><th scope=col>&lt;dbl&gt;</th><th scope=col>&lt;dbl&gt;</th></tr>\n",
       "</thead>\n",
       "<tbody>\n",
       "\t<tr><th scope=row>1</th><td> 829</td><td>1237761</td><td>-1</td><td>62.57123</td><td>1</td><td>32535</td><td>disease</td><td> 3.7140411</td><td>1</td></tr>\n",
       "\t<tr><th scope=row>2</th><td> 905</td><td>1351491</td><td>-1</td><td>60.31564</td><td>1</td><td>  NaN</td><td>disease</td><td>-0.3373288</td><td>0</td></tr>\n",
       "\t<tr><th scope=row>3</th><td> 909</td><td>1355931</td><td>-1</td><td>63.82740</td><td>1</td><td>  NaN</td><td>disease</td><td>-0.8441781</td><td>0</td></tr>\n",
       "\t<tr><th scope=row>4</th><td> 918</td><td>1313958</td><td>-1</td><td>62.82637</td><td>1</td><td>  NaN</td><td>disease</td><td> 3.9472603</td><td>0</td></tr>\n",
       "\t<tr><th scope=row>5</th><td>1063</td><td>1238104</td><td>-1</td><td>64.44532</td><td>1</td><td>52352</td><td>disease</td><td> 5.9762557</td><td>1</td></tr>\n",
       "\t<tr><th scope=row>6</th><td>1064</td><td>1324502</td><td>-1</td><td>61.09795</td><td>1</td><td>  NaN</td><td>disease</td><td> 2.7436073</td><td>0</td></tr>\n",
       "</tbody>\n",
       "</table>\n"
      ],
      "text/latex": [
       "A data.frame: 6 × 9\n",
       "\\begin{tabular}{r|lllllllll}\n",
       "  & id & time & ref & age & sex & survival & cohort & follow\\_time & status\\\\\n",
       "  & <int> & <int> & <int> & <dbl> & <dbl> & <dbl> & <chr> & <dbl> & <dbl>\\\\\n",
       "\\hline\n",
       "\t1 &  829 & 1237761 & -1 & 62.57123 & 1 & 32535 & disease &  3.7140411 & 1\\\\\n",
       "\t2 &  905 & 1351491 & -1 & 60.31564 & 1 &   NaN & disease & -0.3373288 & 0\\\\\n",
       "\t3 &  909 & 1355931 & -1 & 63.82740 & 1 &   NaN & disease & -0.8441781 & 0\\\\\n",
       "\t4 &  918 & 1313958 & -1 & 62.82637 & 1 &   NaN & disease &  3.9472603 & 0\\\\\n",
       "\t5 & 1063 & 1238104 & -1 & 64.44532 & 1 & 52352 & disease &  5.9762557 & 1\\\\\n",
       "\t6 & 1064 & 1324502 & -1 & 61.09795 & 1 &   NaN & disease &  2.7436073 & 0\\\\\n",
       "\\end{tabular}\n"
      ],
      "text/markdown": [
       "\n",
       "A data.frame: 6 × 9\n",
       "\n",
       "| <!--/--> | id &lt;int&gt; | time &lt;int&gt; | ref &lt;int&gt; | age &lt;dbl&gt; | sex &lt;dbl&gt; | survival &lt;dbl&gt; | cohort &lt;chr&gt; | follow_time &lt;dbl&gt; | status &lt;dbl&gt; |\n",
       "|---|---|---|---|---|---|---|---|---|---|\n",
       "| 1 |  829 | 1237761 | -1 | 62.57123 | 1 | 32535 | disease |  3.7140411 | 1 |\n",
       "| 2 |  905 | 1351491 | -1 | 60.31564 | 1 |   NaN | disease | -0.3373288 | 0 |\n",
       "| 3 |  909 | 1355931 | -1 | 63.82740 | 1 |   NaN | disease | -0.8441781 | 0 |\n",
       "| 4 |  918 | 1313958 | -1 | 62.82637 | 1 |   NaN | disease |  3.9472603 | 0 |\n",
       "| 5 | 1063 | 1238104 | -1 | 64.44532 | 1 | 52352 | disease |  5.9762557 | 1 |\n",
       "| 6 | 1064 | 1324502 | -1 | 61.09795 | 1 |   NaN | disease |  2.7436073 | 0 |\n",
       "\n"
      ],
      "text/plain": [
       "  id   time    ref age      sex survival cohort  follow_time status\n",
       "1  829 1237761 -1  62.57123 1   32535    disease  3.7140411  1     \n",
       "2  905 1351491 -1  60.31564 1     NaN    disease -0.3373288  0     \n",
       "3  909 1355931 -1  63.82740 1     NaN    disease -0.8441781  0     \n",
       "4  918 1313958 -1  62.82637 1     NaN    disease  3.9472603  0     \n",
       "5 1063 1238104 -1  64.44532 1   52352    disease  5.9762557  1     \n",
       "6 1064 1324502 -1  61.09795 1     NaN    disease  2.7436073  0     "
      ]
     },
     "metadata": {},
     "output_type": "display_data"
    }
   ],
   "source": [
    "survival <- disease_survival %>%\n",
    "    mutate(cohort = \"disease\") %>%\n",
    "    bind_rows(gen_pop_survival %>% mutate(cohort = \"general pop\")) %>%\n",
    "    mutate(\n",
    "        follow_time = ifelse(!is.na(survival), survival, (emr_date2time(1, 1, 2021) - time)),\n",
    "        status = ifelse(is.na(survival), 0, 1)\n",
    "    ) %>%\n",
    "    mutate(follow_time = follow_time / year())\n",
    "head(survival)"
   ]
  },
  {
   "cell_type": "markdown",
   "metadata": {},
   "source": [
    "We can now use `survminer` and `survival` packages to compute and plot the Kaplan-Meier curves:"
   ]
  },
  {
   "cell_type": "code",
   "execution_count": 41,
   "metadata": {},
   "outputs": [
    {
     "data": {
      "image/png": "[encoded data removed]",
      "text/plain": [
       "plot without title"
      ]
     },
     "metadata": {
      "image/png": {
       "height": 420,
       "width": 420
      }
     },
     "output_type": "display_data"
    }
   ],
   "source": [
    "fit <- survminer::surv_fit(survival::Surv(follow_time, status) ~ cohort, data = survival)\n",
    "survminer::ggsurvplot(fit, data = survival, xlab = \"Time (years)\", xlim = c(0, 10))"
   ]
  },
  {
   "cell_type": "markdown",
   "metadata": {},
   "source": [
    "_**Exercise:** Plot the Kaplan-Meier of diabetes survival in age 55-60 (\"dx.250\")_"
   ]
  },
  {
   "cell_type": "markdown",
   "metadata": {},
   "source": [
    "## Time to outcome"
   ]
  },
  {
   "cell_type": "markdown",
   "metadata": {},
   "source": [
    "Another type of analysis we can do is to compute the distribution of time to outcome. Say, for example, that we want to check if patients with high Creatinine levels are more likely to be diagnosed with CKD. We will again focus our analysis on ages 60-65, taking into account the change in incidence rate of CKD as a function of age. "
   ]
  },
  {
   "cell_type": "markdown",
   "metadata": {},
   "source": [
    "We will start by extracting the high and low creatinine tests. We will do it using `emr_screen` which instead of extracting the information from a track expression, returns the patient+time points that satisfy a condition:"
   ]
  },
  {
   "cell_type": "code",
   "execution_count": 42,
   "metadata": {},
   "outputs": [
    {
     "data": {
      "text/html": [
       "<table class=\"dataframe\">\n",
       "<caption>A data.frame: 6 × 3</caption>\n",
       "<thead>\n",
       "\t<tr><th></th><th scope=col>id</th><th scope=col>time</th><th scope=col>ref</th></tr>\n",
       "\t<tr><th></th><th scope=col>&lt;int&gt;</th><th scope=col>&lt;int&gt;</th><th scope=col>&lt;int&gt;</th></tr>\n",
       "</thead>\n",
       "<tbody>\n",
       "\t<tr><th scope=row>1</th><td> 3</td><td>1289599</td><td>-1</td></tr>\n",
       "\t<tr><th scope=row>2</th><td>44</td><td>1220005</td><td>-1</td></tr>\n",
       "\t<tr><th scope=row>3</th><td>48</td><td>1308254</td><td>-1</td></tr>\n",
       "\t<tr><th scope=row>4</th><td>67</td><td>1303339</td><td>-1</td></tr>\n",
       "\t<tr><th scope=row>5</th><td>85</td><td>1224583</td><td>-1</td></tr>\n",
       "\t<tr><th scope=row>6</th><td>88</td><td>1280548</td><td>-1</td></tr>\n",
       "</tbody>\n",
       "</table>\n"
      ],
      "text/latex": [
       "A data.frame: 6 × 3\n",
       "\\begin{tabular}{r|lll}\n",
       "  & id & time & ref\\\\\n",
       "  & <int> & <int> & <int>\\\\\n",
       "\\hline\n",
       "\t1 &  3 & 1289599 & -1\\\\\n",
       "\t2 & 44 & 1220005 & -1\\\\\n",
       "\t3 & 48 & 1308254 & -1\\\\\n",
       "\t4 & 67 & 1303339 & -1\\\\\n",
       "\t5 & 85 & 1224583 & -1\\\\\n",
       "\t6 & 88 & 1280548 & -1\\\\\n",
       "\\end{tabular}\n"
      ],
      "text/markdown": [
       "\n",
       "A data.frame: 6 × 3\n",
       "\n",
       "| <!--/--> | id &lt;int&gt; | time &lt;int&gt; | ref &lt;int&gt; |\n",
       "|---|---|---|---|\n",
       "| 1 |  3 | 1289599 | -1 |\n",
       "| 2 | 44 | 1220005 | -1 |\n",
       "| 3 | 48 | 1308254 | -1 |\n",
       "| 4 | 67 | 1303339 | -1 |\n",
       "| 5 | 85 | 1224583 | -1 |\n",
       "| 6 | 88 | 1280548 | -1 |\n",
       "\n"
      ],
      "text/plain": [
       "  id time    ref\n",
       "1  3 1289599 -1 \n",
       "2 44 1220005 -1 \n",
       "3 48 1308254 -1 \n",
       "4 67 1303339 -1 \n",
       "5 85 1224583 -1 \n",
       "6 88 1280548 -1 "
      ]
     },
     "metadata": {},
     "output_type": "display_data"
    },
    {
     "data": {
      "text/html": [
       "<table class=\"dataframe\">\n",
       "<caption>A data.frame: 6 × 3</caption>\n",
       "<thead>\n",
       "\t<tr><th></th><th scope=col>id</th><th scope=col>time</th><th scope=col>ref</th></tr>\n",
       "\t<tr><th></th><th scope=col>&lt;int&gt;</th><th scope=col>&lt;int&gt;</th><th scope=col>&lt;int&gt;</th></tr>\n",
       "</thead>\n",
       "<tbody>\n",
       "\t<tr><th scope=row>1</th><td>2</td><td>1274663</td><td>-1</td></tr>\n",
       "\t<tr><th scope=row>2</th><td>3</td><td>1222798</td><td>-1</td></tr>\n",
       "\t<tr><th scope=row>3</th><td>4</td><td>1227786</td><td>-1</td></tr>\n",
       "\t<tr><th scope=row>4</th><td>5</td><td>1241062</td><td>-1</td></tr>\n",
       "\t<tr><th scope=row>5</th><td>6</td><td>1231928</td><td>-1</td></tr>\n",
       "\t<tr><th scope=row>6</th><td>7</td><td>1321047</td><td>-1</td></tr>\n",
       "</tbody>\n",
       "</table>\n"
      ],
      "text/latex": [
       "A data.frame: 6 × 3\n",
       "\\begin{tabular}{r|lll}\n",
       "  & id & time & ref\\\\\n",
       "  & <int> & <int> & <int>\\\\\n",
       "\\hline\n",
       "\t1 & 2 & 1274663 & -1\\\\\n",
       "\t2 & 3 & 1222798 & -1\\\\\n",
       "\t3 & 4 & 1227786 & -1\\\\\n",
       "\t4 & 5 & 1241062 & -1\\\\\n",
       "\t5 & 6 & 1231928 & -1\\\\\n",
       "\t6 & 7 & 1321047 & -1\\\\\n",
       "\\end{tabular}\n"
      ],
      "text/markdown": [
       "\n",
       "A data.frame: 6 × 3\n",
       "\n",
       "| <!--/--> | id &lt;int&gt; | time &lt;int&gt; | ref &lt;int&gt; |\n",
       "|---|---|---|---|\n",
       "| 1 | 2 | 1274663 | -1 |\n",
       "| 2 | 3 | 1222798 | -1 |\n",
       "| 3 | 4 | 1227786 | -1 |\n",
       "| 4 | 5 | 1241062 | -1 |\n",
       "| 5 | 6 | 1231928 | -1 |\n",
       "| 6 | 7 | 1321047 | -1 |\n",
       "\n"
      ],
      "text/plain": [
       "  id time    ref\n",
       "1 2  1274663 -1 \n",
       "2 3  1222798 -1 \n",
       "3 4  1227786 -1 \n",
       "4 5  1241062 -1 \n",
       "5 6  1231928 -1 \n",
       "6 7  1321047 -1 "
      ]
     },
     "metadata": {},
     "output_type": "display_data"
    }
   ],
   "source": [
    "creat_high <- emr_screen(\"lab.CREATININE.BLOOD > 1.5\", filter = \"!has_disease\") %>% distinct(id, .keep_all = TRUE)\n",
    "creat_low <- emr_screen(\"lab.CREATININE.BLOOD < 1\", filter = \"!has_disease\") %>% distinct(id, .keep_all = TRUE)\n",
    "head(creat_high)\n",
    "head(creat_low)"
   ]
  },
  {
   "cell_type": "code",
   "execution_count": 43,
   "metadata": {},
   "outputs": [
    {
     "data": {
      "text/html": [
       "<table class=\"dataframe\">\n",
       "<caption>A data.frame: 6 × 4</caption>\n",
       "<thead>\n",
       "\t<tr><th></th><th scope=col>id</th><th scope=col>time</th><th scope=col>ref</th><th scope=col>cohort</th></tr>\n",
       "\t<tr><th></th><th scope=col>&lt;int&gt;</th><th scope=col>&lt;int&gt;</th><th scope=col>&lt;int&gt;</th><th scope=col>&lt;chr&gt;</th></tr>\n",
       "</thead>\n",
       "<tbody>\n",
       "\t<tr><th scope=row>1</th><td> 3</td><td>1289599</td><td>-1</td><td>creatinine_high</td></tr>\n",
       "\t<tr><th scope=row>2</th><td>44</td><td>1220005</td><td>-1</td><td>creatinine_high</td></tr>\n",
       "\t<tr><th scope=row>3</th><td>48</td><td>1308254</td><td>-1</td><td>creatinine_high</td></tr>\n",
       "\t<tr><th scope=row>4</th><td>67</td><td>1303339</td><td>-1</td><td>creatinine_high</td></tr>\n",
       "\t<tr><th scope=row>5</th><td>85</td><td>1224583</td><td>-1</td><td>creatinine_high</td></tr>\n",
       "\t<tr><th scope=row>6</th><td>88</td><td>1280548</td><td>-1</td><td>creatinine_high</td></tr>\n",
       "</tbody>\n",
       "</table>\n"
      ],
      "text/latex": [
       "A data.frame: 6 × 4\n",
       "\\begin{tabular}{r|llll}\n",
       "  & id & time & ref & cohort\\\\\n",
       "  & <int> & <int> & <int> & <chr>\\\\\n",
       "\\hline\n",
       "\t1 &  3 & 1289599 & -1 & creatinine\\_high\\\\\n",
       "\t2 & 44 & 1220005 & -1 & creatinine\\_high\\\\\n",
       "\t3 & 48 & 1308254 & -1 & creatinine\\_high\\\\\n",
       "\t4 & 67 & 1303339 & -1 & creatinine\\_high\\\\\n",
       "\t5 & 85 & 1224583 & -1 & creatinine\\_high\\\\\n",
       "\t6 & 88 & 1280548 & -1 & creatinine\\_high\\\\\n",
       "\\end{tabular}\n"
      ],
      "text/markdown": [
       "\n",
       "A data.frame: 6 × 4\n",
       "\n",
       "| <!--/--> | id &lt;int&gt; | time &lt;int&gt; | ref &lt;int&gt; | cohort &lt;chr&gt; |\n",
       "|---|---|---|---|---|\n",
       "| 1 |  3 | 1289599 | -1 | creatinine_high |\n",
       "| 2 | 44 | 1220005 | -1 | creatinine_high |\n",
       "| 3 | 48 | 1308254 | -1 | creatinine_high |\n",
       "| 4 | 67 | 1303339 | -1 | creatinine_high |\n",
       "| 5 | 85 | 1224583 | -1 | creatinine_high |\n",
       "| 6 | 88 | 1280548 | -1 | creatinine_high |\n",
       "\n"
      ],
      "text/plain": [
       "  id time    ref cohort         \n",
       "1  3 1289599 -1  creatinine_high\n",
       "2 44 1220005 -1  creatinine_high\n",
       "3 48 1308254 -1  creatinine_high\n",
       "4 67 1303339 -1  creatinine_high\n",
       "5 85 1224583 -1  creatinine_high\n",
       "6 88 1280548 -1  creatinine_high"
      ]
     },
     "metadata": {},
     "output_type": "display_data"
    }
   ],
   "source": [
    "cohort <- creat_high %>%\n",
    "    mutate(cohort = \"creatinine_high\") %>%\n",
    "    bind_rows(creat_low %>% mutate(cohort = \"creatinine_low\"))\n",
    "head(cohort)"
   ]
  },
  {
   "cell_type": "markdown",
   "metadata": {},
   "source": [
    "We will now define a virtual track which will compute the time from the current iterator to the onset of the disease and extract it for every Creatinine lab test:"
   ]
  },
  {
   "cell_type": "code",
   "execution_count": 44,
   "metadata": {},
   "outputs": [
    {
     "data": {
      "text/html": [
       "<table class=\"dataframe\">\n",
       "<caption>A data.frame: 6 × 7</caption>\n",
       "<thead>\n",
       "\t<tr><th></th><th scope=col>id</th><th scope=col>time</th><th scope=col>ref</th><th scope=col>age</th><th scope=col>sex</th><th scope=col>survival</th><th scope=col>time_to_disease</th></tr>\n",
       "\t<tr><th></th><th scope=col>&lt;int&gt;</th><th scope=col>&lt;int&gt;</th><th scope=col>&lt;int&gt;</th><th scope=col>&lt;dbl&gt;</th><th scope=col>&lt;dbl&gt;</th><th scope=col>&lt;dbl&gt;</th><th scope=col>&lt;dbl&gt;</th></tr>\n",
       "</thead>\n",
       "<tbody>\n",
       "\t<tr><th scope=row>1</th><td>108</td><td>1301176</td><td>-1</td><td>64.73927</td><td>1</td><td>   NaN</td><td>  NaN</td></tr>\n",
       "\t<tr><th scope=row>2</th><td>147</td><td>1256784</td><td>-1</td><td>61.31598</td><td>2</td><td>   NaN</td><td>  NaN</td></tr>\n",
       "\t<tr><th scope=row>3</th><td>241</td><td>1288244</td><td>-1</td><td>62.48208</td><td>1</td><td> 66292</td><td>  NaN</td></tr>\n",
       "\t<tr><th scope=row>4</th><td>270</td><td>1237191</td><td>-1</td><td>63.57169</td><td>1</td><td> 64065</td><td>52042</td></tr>\n",
       "\t<tr><th scope=row>5</th><td>343</td><td>1234633</td><td>-1</td><td>63.85514</td><td>2</td><td>   NaN</td><td>  NaN</td></tr>\n",
       "\t<tr><th scope=row>6</th><td>480</td><td>1243402</td><td>-1</td><td>61.02443</td><td>1</td><td>103934</td><td>64839</td></tr>\n",
       "</tbody>\n",
       "</table>\n"
      ],
      "text/latex": [
       "A data.frame: 6 × 7\n",
       "\\begin{tabular}{r|lllllll}\n",
       "  & id & time & ref & age & sex & survival & time\\_to\\_disease\\\\\n",
       "  & <int> & <int> & <int> & <dbl> & <dbl> & <dbl> & <dbl>\\\\\n",
       "\\hline\n",
       "\t1 & 108 & 1301176 & -1 & 64.73927 & 1 &    NaN &   NaN\\\\\n",
       "\t2 & 147 & 1256784 & -1 & 61.31598 & 2 &    NaN &   NaN\\\\\n",
       "\t3 & 241 & 1288244 & -1 & 62.48208 & 1 &  66292 &   NaN\\\\\n",
       "\t4 & 270 & 1237191 & -1 & 63.57169 & 1 &  64065 & 52042\\\\\n",
       "\t5 & 343 & 1234633 & -1 & 63.85514 & 2 &    NaN &   NaN\\\\\n",
       "\t6 & 480 & 1243402 & -1 & 61.02443 & 1 & 103934 & 64839\\\\\n",
       "\\end{tabular}\n"
      ],
      "text/markdown": [
       "\n",
       "A data.frame: 6 × 7\n",
       "\n",
       "| <!--/--> | id &lt;int&gt; | time &lt;int&gt; | ref &lt;int&gt; | age &lt;dbl&gt; | sex &lt;dbl&gt; | survival &lt;dbl&gt; | time_to_disease &lt;dbl&gt; |\n",
       "|---|---|---|---|---|---|---|---|\n",
       "| 1 | 108 | 1301176 | -1 | 64.73927 | 1 |    NaN |   NaN |\n",
       "| 2 | 147 | 1256784 | -1 | 61.31598 | 2 |    NaN |   NaN |\n",
       "| 3 | 241 | 1288244 | -1 | 62.48208 | 1 |  66292 |   NaN |\n",
       "| 4 | 270 | 1237191 | -1 | 63.57169 | 1 |  64065 | 52042 |\n",
       "| 5 | 343 | 1234633 | -1 | 63.85514 | 2 |    NaN |   NaN |\n",
       "| 6 | 480 | 1243402 | -1 | 61.02443 | 1 | 103934 | 64839 |\n",
       "\n"
      ],
      "text/plain": [
       "  id  time    ref age      sex survival time_to_disease\n",
       "1 108 1301176 -1  64.73927 1      NaN     NaN          \n",
       "2 147 1256784 -1  61.31598 2      NaN     NaN          \n",
       "3 241 1288244 -1  62.48208 1    66292     NaN          \n",
       "4 270 1237191 -1  63.57169 1    64065   52042          \n",
       "5 343 1234633 -1  63.85514 2      NaN     NaN          \n",
       "6 480 1243402 -1  61.02443 1   103934   64839          "
      ]
     },
     "metadata": {},
     "output_type": "display_data"
    }
   ],
   "source": [
    "emr_filter.create(\"age_60_65\", \"patients.dob\", time.shift = c(-65, -60) * year())\n",
    "emr_vtrack.create(\n",
    "    \"time_to_disease\",\n",
    "    \"dx.icd9_585\",\n",
    "    time.shift = c(0, 120) * year(),\n",
    "    func = \"dt1.earliest\",\n",
    "    filter = \"!ckd_in_past\"\n",
    ")\n",
    "time_to_outcome <- emr_extract(\n",
    "    c(\"age/year()\", \"sex\", \"survival\", \"time_to_disease\"),\n",
    "    iterator = cohort,\n",
    "    stime = stime, etime = etime,\n",
    "    filter = \"age_60_65\",\n",
    "    names = c(\"age\", \"sex\", \"survival\", \"time_to_disease\")\n",
    ")\n",
    "head(time_to_outcome)"
   ]
  },
  {
   "cell_type": "markdown",
   "metadata": {},
   "source": [
    "We will encode the event of CKD as `1` and the event of death as `2`:"
   ]
  },
  {
   "cell_type": "code",
   "execution_count": 45,
   "metadata": {},
   "outputs": [
    {
     "data": {
      "text/html": [
       "<table class=\"dataframe\">\n",
       "<caption>A data.frame: 6 × 10</caption>\n",
       "<thead>\n",
       "\t<tr><th></th><th scope=col>id</th><th scope=col>time</th><th scope=col>ref</th><th scope=col>age</th><th scope=col>sex</th><th scope=col>survival</th><th scope=col>time_to_disease</th><th scope=col>follow_time</th><th scope=col>status</th><th scope=col>cohort</th></tr>\n",
       "\t<tr><th></th><th scope=col>&lt;int&gt;</th><th scope=col>&lt;int&gt;</th><th scope=col>&lt;int&gt;</th><th scope=col>&lt;dbl&gt;</th><th scope=col>&lt;dbl&gt;</th><th scope=col>&lt;dbl&gt;</th><th scope=col>&lt;dbl&gt;</th><th scope=col>&lt;dbl&gt;</th><th scope=col>&lt;dbl&gt;</th><th scope=col>&lt;chr&gt;</th></tr>\n",
       "</thead>\n",
       "<tbody>\n",
       "\t<tr><th scope=row>1</th><td>108</td><td>1301176</td><td>-1</td><td>64.73927</td><td>1</td><td>   NaN</td><td>  NaN</td><td> 5.406393</td><td>0</td><td>creatinine_high</td></tr>\n",
       "\t<tr><th scope=row>2</th><td>147</td><td>1256784</td><td>-1</td><td>61.31598</td><td>2</td><td>   NaN</td><td>  NaN</td><td>10.473973</td><td>0</td><td>creatinine_low </td></tr>\n",
       "\t<tr><th scope=row>3</th><td>241</td><td>1288244</td><td>-1</td><td>62.48208</td><td>1</td><td> 66292</td><td>  NaN</td><td> 7.567580</td><td>2</td><td>creatinine_high</td></tr>\n",
       "\t<tr><th scope=row>4</th><td>270</td><td>1237191</td><td>-1</td><td>63.57169</td><td>1</td><td> 64065</td><td>52042</td><td> 5.940868</td><td>1</td><td>creatinine_high</td></tr>\n",
       "\t<tr><th scope=row>5</th><td>343</td><td>1234633</td><td>-1</td><td>63.85514</td><td>2</td><td>   NaN</td><td>  NaN</td><td>13.002626</td><td>0</td><td>creatinine_low </td></tr>\n",
       "\t<tr><th scope=row>6</th><td>480</td><td>1243402</td><td>-1</td><td>61.02443</td><td>1</td><td>103934</td><td>64839</td><td> 7.401712</td><td>1</td><td>creatinine_low </td></tr>\n",
       "</tbody>\n",
       "</table>\n"
      ],
      "text/latex": [
       "A data.frame: 6 × 10\n",
       "\\begin{tabular}{r|llllllllll}\n",
       "  & id & time & ref & age & sex & survival & time\\_to\\_disease & follow\\_time & status & cohort\\\\\n",
       "  & <int> & <int> & <int> & <dbl> & <dbl> & <dbl> & <dbl> & <dbl> & <dbl> & <chr>\\\\\n",
       "\\hline\n",
       "\t1 & 108 & 1301176 & -1 & 64.73927 & 1 &    NaN &   NaN &  5.406393 & 0 & creatinine\\_high\\\\\n",
       "\t2 & 147 & 1256784 & -1 & 61.31598 & 2 &    NaN &   NaN & 10.473973 & 0 & creatinine\\_low \\\\\n",
       "\t3 & 241 & 1288244 & -1 & 62.48208 & 1 &  66292 &   NaN &  7.567580 & 2 & creatinine\\_high\\\\\n",
       "\t4 & 270 & 1237191 & -1 & 63.57169 & 1 &  64065 & 52042 &  5.940868 & 1 & creatinine\\_high\\\\\n",
       "\t5 & 343 & 1234633 & -1 & 63.85514 & 2 &    NaN &   NaN & 13.002626 & 0 & creatinine\\_low \\\\\n",
       "\t6 & 480 & 1243402 & -1 & 61.02443 & 1 & 103934 & 64839 &  7.401712 & 1 & creatinine\\_low \\\\\n",
       "\\end{tabular}\n"
      ],
      "text/markdown": [
       "\n",
       "A data.frame: 6 × 10\n",
       "\n",
       "| <!--/--> | id &lt;int&gt; | time &lt;int&gt; | ref &lt;int&gt; | age &lt;dbl&gt; | sex &lt;dbl&gt; | survival &lt;dbl&gt; | time_to_disease &lt;dbl&gt; | follow_time &lt;dbl&gt; | status &lt;dbl&gt; | cohort &lt;chr&gt; |\n",
       "|---|---|---|---|---|---|---|---|---|---|---|\n",
       "| 1 | 108 | 1301176 | -1 | 64.73927 | 1 |    NaN |   NaN |  5.406393 | 0 | creatinine_high |\n",
       "| 2 | 147 | 1256784 | -1 | 61.31598 | 2 |    NaN |   NaN | 10.473973 | 0 | creatinine_low  |\n",
       "| 3 | 241 | 1288244 | -1 | 62.48208 | 1 |  66292 |   NaN |  7.567580 | 2 | creatinine_high |\n",
       "| 4 | 270 | 1237191 | -1 | 63.57169 | 1 |  64065 | 52042 |  5.940868 | 1 | creatinine_high |\n",
       "| 5 | 343 | 1234633 | -1 | 63.85514 | 2 |    NaN |   NaN | 13.002626 | 0 | creatinine_low  |\n",
       "| 6 | 480 | 1243402 | -1 | 61.02443 | 1 | 103934 | 64839 |  7.401712 | 1 | creatinine_low  |\n",
       "\n"
      ],
      "text/plain": [
       "  id  time    ref age      sex survival time_to_disease follow_time status\n",
       "1 108 1301176 -1  64.73927 1      NaN     NaN            5.406393   0     \n",
       "2 147 1256784 -1  61.31598 2      NaN     NaN           10.473973   0     \n",
       "3 241 1288244 -1  62.48208 1    66292     NaN            7.567580   2     \n",
       "4 270 1237191 -1  63.57169 1    64065   52042            5.940868   1     \n",
       "5 343 1234633 -1  63.85514 2      NaN     NaN           13.002626   0     \n",
       "6 480 1243402 -1  61.02443 1   103934   64839            7.401712   1     \n",
       "  cohort         \n",
       "1 creatinine_high\n",
       "2 creatinine_low \n",
       "3 creatinine_high\n",
       "4 creatinine_high\n",
       "5 creatinine_low \n",
       "6 creatinine_low "
      ]
     },
     "metadata": {},
     "output_type": "display_data"
    }
   ],
   "source": [
    "time_to_outcome <- time_to_outcome %>%\n",
    "    mutate(\n",
    "        follow_time = ifelse(!is.na(survival), survival, (emr_date2time(1, 1, 2021) - time)),\n",
    "        follow_time = ifelse(!is.na(time_to_disease), time_to_disease, follow_time),\n",
    "        status = ifelse(!is.na(time_to_disease), 1, ifelse(!is.na(survival), 2, 0))\n",
    "    ) %>%\n",
    "    mutate(follow_time = follow_time / year()) %>%\n",
    "    inner_join(cohort %>% select(id, time, cohort), by = c(\"id\", \"time\"))\n",
    "head(time_to_outcome)"
   ]
  },
  {
   "cell_type": "markdown",
   "metadata": {},
   "source": [
    "We can now fit and plot a model with a competing risk of death which compares the probability for CKD for high and low Creatinine values:"
   ]
  },
  {
   "cell_type": "code",
   "execution_count": 46,
   "metadata": {
    "tags": []
   },
   "outputs": [
    {
     "data": {
      "image/png": "[encoded data removed]",
      "text/plain": [
       "plot without title"
      ]
     },
     "metadata": {
      "image/png": {
       "height": 420,
       "width": 420
      }
     },
     "output_type": "display_data"
    }
   ],
   "source": [
    "fit <- cmprsk::cuminc(time_to_outcome$follow_time, time_to_outcome$status, group = time_to_outcome$cohort)\n",
    "survminer::ggcompetingrisks(\n",
    "    fit = fit,\n",
    "    multiple_panels = FALSE,\n",
    "    main = \"\",\n",
    "    xlab = \"Time (years)\",\n",
    "    ylab = \"Cumulative incidence (%)\",\n",
    "    xlim = c(0, 5),\n",
    "    ylim = c(0, 0.2)\n",
    ")"
   ]
  },
  {
   "cell_type": "markdown",
   "metadata": {},
   "source": [
    "_**Exercise:** Repeat the above analysis to check if patients with high glucose values (>100) have a higher chance to be diagnosed with CKD_"
   ]
  },
  {
   "cell_type": "markdown",
   "metadata": {},
   "source": [
    "## Building a CKD predictor"
   ]
  },
  {
   "cell_type": "markdown",
   "metadata": {},
   "source": [
    "Now that we looked at the data a bit, we would like to create a 1-year prediction model for CKD. The model will take into account the age and sex of the patient along with lab test measurements sampled between 5 years and 1 years prior to diagnosis."
   ]
  },
  {
   "cell_type": "markdown",
   "metadata": {},
   "source": [
    "#### Sample controls"
   ]
  },
  {
   "cell_type": "markdown",
   "metadata": {},
   "source": [
    "One of the important decisions when building a predictor is defining the control. Minimally, we probably need to sample patients that are similar on age and sex, but many times we might want to enforce other covariates such as the lack of a disease or number of available tests. \n",
    "\n",
    "For this example, we sample control based on age, sex, and the calendaric year. The calendaric year is important in many cases as standard care / distribution of the population changes over time.\n",
    "\n",
    "We will compute the distribution of age, sex and calendaric year for the patients who had the disease, and then sample control using this distribution:"
   ]
  },
  {
   "cell_type": "code",
   "execution_count": 47,
   "metadata": {},
   "outputs": [
    {
     "data": {
      "text/html": [
       "<table class=\"dataframe\">\n",
       "<caption>A data.frame: 6 × 4</caption>\n",
       "<thead>\n",
       "\t<tr><th></th><th scope=col>age</th><th scope=col>sex</th><th scope=col>year</th><th scope=col>n</th></tr>\n",
       "\t<tr><th></th><th scope=col>&lt;int&gt;</th><th scope=col>&lt;fct&gt;</th><th scope=col>&lt;int&gt;</th><th scope=col>&lt;dbl&gt;</th></tr>\n",
       "</thead>\n",
       "<tbody>\n",
       "\t<tr><th scope=row>1</th><td>20</td><td>1</td><td>2008</td><td>1</td></tr>\n",
       "\t<tr><th scope=row>2</th><td>23</td><td>1</td><td>2008</td><td>1</td></tr>\n",
       "\t<tr><th scope=row>3</th><td>25</td><td>1</td><td>2008</td><td>1</td></tr>\n",
       "\t<tr><th scope=row>4</th><td>26</td><td>1</td><td>2008</td><td>1</td></tr>\n",
       "\t<tr><th scope=row>5</th><td>31</td><td>1</td><td>2008</td><td>1</td></tr>\n",
       "\t<tr><th scope=row>6</th><td>32</td><td>1</td><td>2008</td><td>2</td></tr>\n",
       "</tbody>\n",
       "</table>\n"
      ],
      "text/latex": [
       "A data.frame: 6 × 4\n",
       "\\begin{tabular}{r|llll}\n",
       "  & age & sex & year & n\\\\\n",
       "  & <int> & <fct> & <int> & <dbl>\\\\\n",
       "\\hline\n",
       "\t1 & 20 & 1 & 2008 & 1\\\\\n",
       "\t2 & 23 & 1 & 2008 & 1\\\\\n",
       "\t3 & 25 & 1 & 2008 & 1\\\\\n",
       "\t4 & 26 & 1 & 2008 & 1\\\\\n",
       "\t5 & 31 & 1 & 2008 & 1\\\\\n",
       "\t6 & 32 & 1 & 2008 & 2\\\\\n",
       "\\end{tabular}\n"
      ],
      "text/markdown": [
       "\n",
       "A data.frame: 6 × 4\n",
       "\n",
       "| <!--/--> | age &lt;int&gt; | sex &lt;fct&gt; | year &lt;int&gt; | n &lt;dbl&gt; |\n",
       "|---|---|---|---|---|\n",
       "| 1 | 20 | 1 | 2008 | 1 |\n",
       "| 2 | 23 | 1 | 2008 | 1 |\n",
       "| 3 | 25 | 1 | 2008 | 1 |\n",
       "| 4 | 26 | 1 | 2008 | 1 |\n",
       "| 5 | 31 | 1 | 2008 | 1 |\n",
       "| 6 | 32 | 1 | 2008 | 2 |\n",
       "\n"
      ],
      "text/plain": [
       "  age sex year n\n",
       "1 20  1   2008 1\n",
       "2 23  1   2008 1\n",
       "3 25  1   2008 1\n",
       "4 26  1   2008 1\n",
       "5 31  1   2008 1\n",
       "6 32  1   2008 2"
      ]
     },
     "metadata": {},
     "output_type": "display_data"
    }
   ],
   "source": [
    "disease <- emr_extract(\"dx.icd9_585\", filter = \"!ckd_in_past\")\n",
    "cohort_dist <- emr_dist(\n",
    "    \"age/year()\",\n",
    "    20:90,\n",
    "    \"sex\",\n",
    "    NULL,\n",
    "    \"emr_time2year(EMR_TIME)\",\n",
    "    2008:2022,\n",
    "    iterator = disease,\n",
    "    names = c(\"age\", \"sex\", \"year\"),\n",
    "    dataframe = TRUE,\n",
    "    right = FALSE\n",
    ") %>%\n",
    "    mutate(\n",
    "        age = (20:90)[as.numeric(age)], # convert age and year from factor to numeric\n",
    "        year = (2008:2022)[as.numeric(year)]\n",
    "    ) %>%\n",
    "    filter(n > 0)\n",
    "head(cohort_dist)"
   ]
  },
  {
   "cell_type": "markdown",
   "metadata": {},
   "source": [
    "Go over each each combination of age, sex and calendaric year and sample patients:"
   ]
  },
  {
   "cell_type": "code",
   "execution_count": 48,
   "metadata": {},
   "outputs": [],
   "source": [
    "exclude_patients <- disease$id\n",
    "cf <- 1\n",
    "control <- data.frame(id = c(), time = c())\n",
    "\n",
    "# go over each combination of age, sex and calendaric year\n",
    "for (i in 1:nrow(cohort_dist)) {\n",
    "    # exclude the patients with the disease and those that we already selected\n",
    "    emr_filter.create(\"fexclude_patients\", data.frame(id = exclude_patients, time = emr_date2time(1, 1, 2002)), time.shift = c(-120, 120) * year())\n",
    "\n",
    "    # create a filter for the current sex and age\n",
    "    emr_filter.create(\"fsex_age\", \"patients.dob\", time.shift = c(-cohort_dist$age[i] - 1, -cohort_dist$age[i]) * year(), val = as.numeric(cohort_dist$sex[i]))\n",
    "\n",
    "    # extract patients at the given age and sex\n",
    "    pool <- emr_extract(\"sex\",\n",
    "        iterator = cohort_dist$age[i] * year(), # this basically says - take only a single point at the current age\n",
    "        filter = \"fsex_age & !fexclude_patients\",\n",
    "        stime = emr_date2time(1, 1, cohort_dist$year[i]),\n",
    "        etime = emr_date2time(1, 1, cohort_dist$year[i] + 1)\n",
    "    )\n",
    "\n",
    "    # sample patients+time and add to the control\n",
    "    control <- rbind(control, pool %>% sample_n(cohort_dist$n[i] * cf))\n",
    "\n",
    "    exclude_patients <- c(disease$id, control$id)\n",
    "    emr_filter.rm(\"fexclude_patients\")\n",
    "    emr_filter.rm(\"fsex_age\")\n",
    "}"
   ]
  },
  {
   "cell_type": "code",
   "execution_count": 49,
   "metadata": {},
   "outputs": [
    {
     "data": {
      "text/html": [
       "<table class=\"dataframe\">\n",
       "<caption>A data.frame: 6 × 4</caption>\n",
       "<thead>\n",
       "\t<tr><th></th><th scope=col>id</th><th scope=col>time</th><th scope=col>ref</th><th scope=col>sex</th></tr>\n",
       "\t<tr><th></th><th scope=col>&lt;int&gt;</th><th scope=col>&lt;int&gt;</th><th scope=col>&lt;int&gt;</th><th scope=col>&lt;dbl&gt;</th></tr>\n",
       "</thead>\n",
       "<tbody>\n",
       "\t<tr><th scope=row>1</th><td>42919</td><td>1234560</td><td>-1</td><td>1</td></tr>\n",
       "\t<tr><th scope=row>2</th><td>39738</td><td>1234560</td><td>-1</td><td>1</td></tr>\n",
       "\t<tr><th scope=row>3</th><td>58252</td><td>1234560</td><td>-1</td><td>1</td></tr>\n",
       "\t<tr><th scope=row>4</th><td>56329</td><td>1234560</td><td>-1</td><td>1</td></tr>\n",
       "\t<tr><th scope=row>5</th><td>80419</td><td>1234560</td><td>-1</td><td>1</td></tr>\n",
       "\t<tr><th scope=row>6</th><td>34696</td><td>1234560</td><td>-1</td><td>1</td></tr>\n",
       "</tbody>\n",
       "</table>\n"
      ],
      "text/latex": [
       "A data.frame: 6 × 4\n",
       "\\begin{tabular}{r|llll}\n",
       "  & id & time & ref & sex\\\\\n",
       "  & <int> & <int> & <int> & <dbl>\\\\\n",
       "\\hline\n",
       "\t1 & 42919 & 1234560 & -1 & 1\\\\\n",
       "\t2 & 39738 & 1234560 & -1 & 1\\\\\n",
       "\t3 & 58252 & 1234560 & -1 & 1\\\\\n",
       "\t4 & 56329 & 1234560 & -1 & 1\\\\\n",
       "\t5 & 80419 & 1234560 & -1 & 1\\\\\n",
       "\t6 & 34696 & 1234560 & -1 & 1\\\\\n",
       "\\end{tabular}\n"
      ],
      "text/markdown": [
       "\n",
       "A data.frame: 6 × 4\n",
       "\n",
       "| <!--/--> | id &lt;int&gt; | time &lt;int&gt; | ref &lt;int&gt; | sex &lt;dbl&gt; |\n",
       "|---|---|---|---|---|\n",
       "| 1 | 42919 | 1234560 | -1 | 1 |\n",
       "| 2 | 39738 | 1234560 | -1 | 1 |\n",
       "| 3 | 58252 | 1234560 | -1 | 1 |\n",
       "| 4 | 56329 | 1234560 | -1 | 1 |\n",
       "| 5 | 80419 | 1234560 | -1 | 1 |\n",
       "| 6 | 34696 | 1234560 | -1 | 1 |\n",
       "\n"
      ],
      "text/plain": [
       "  id    time    ref sex\n",
       "1 42919 1234560 -1  1  \n",
       "2 39738 1234560 -1  1  \n",
       "3 58252 1234560 -1  1  \n",
       "4 56329 1234560 -1  1  \n",
       "5 80419 1234560 -1  1  \n",
       "6 34696 1234560 -1  1  "
      ]
     },
     "metadata": {},
     "output_type": "display_data"
    }
   ],
   "source": [
    "head(control)"
   ]
  },
  {
   "cell_type": "markdown",
   "metadata": {},
   "source": [
    "#### Extract the data"
   ]
  },
  {
   "cell_type": "markdown",
   "metadata": {},
   "source": [
    "Now we can extract the features for the disease and control patient+time points. We would extract all the labs in the sampled database:"
   ]
  },
  {
   "cell_type": "code",
   "execution_count": 50,
   "metadata": {},
   "outputs": [
    {
     "data": {
      "text/html": [
       "96"
      ],
      "text/latex": [
       "96"
      ],
      "text/markdown": [
       "96"
      ],
      "text/plain": [
       "[1] 96"
      ]
     },
     "metadata": {},
     "output_type": "display_data"
    },
    {
     "data": {
      "text/html": [
       "<style>\n",
       ".list-inline {list-style: none; margin:0; padding: 0}\n",
       ".list-inline>li {display: inline-block}\n",
       ".list-inline>li:not(:last-child)::after {content: \"\\00b7\"; padding: 0 .5ex}\n",
       "</style>\n",
       "<ol class=list-inline><li>'lab.ALBUMIN'</li><li>'lab.ALBUM_CREAT.RATIO'</li><li>'lab.ALT'</li><li>'lab.AMYLASE.BLOOD'</li><li>'lab.APTT.sec'</li><li>'lab.APTTR'</li></ol>\n"
      ],
      "text/latex": [
       "\\begin{enumerate*}\n",
       "\\item 'lab.ALBUMIN'\n",
       "\\item 'lab.ALBUM\\_CREAT.RATIO'\n",
       "\\item 'lab.ALT'\n",
       "\\item 'lab.AMYLASE.BLOOD'\n",
       "\\item 'lab.APTT.sec'\n",
       "\\item 'lab.APTTR'\n",
       "\\end{enumerate*}\n"
      ],
      "text/markdown": [
       "1. 'lab.ALBUMIN'\n",
       "2. 'lab.ALBUM_CREAT.RATIO'\n",
       "3. 'lab.ALT'\n",
       "4. 'lab.AMYLASE.BLOOD'\n",
       "5. 'lab.APTT.sec'\n",
       "6. 'lab.APTTR'\n",
       "\n",
       "\n"
      ],
      "text/plain": [
       "[1] \"lab.ALBUMIN\"           \"lab.ALBUM_CREAT.RATIO\" \"lab.ALT\"              \n",
       "[4] \"lab.AMYLASE.BLOOD\"     \"lab.APTT.sec\"          \"lab.APTTR\"            "
      ]
     },
     "metadata": {},
     "output_type": "display_data"
    }
   ],
   "source": [
    "labs <- emr_track.ls(\"^lab.\")\n",
    "length(labs)\n",
    "head(labs)"
   ]
  },
  {
   "cell_type": "markdown",
   "metadata": {},
   "source": [
    "Create for every lab a virtual track which would sample a value (if exists) 5 years prior to the current iterator:"
   ]
  },
  {
   "cell_type": "code",
   "execution_count": 51,
   "metadata": {},
   "outputs": [],
   "source": [
    "purrr::walk(labs, ~ emr_vtrack.create(paste0(\"v_\", .x), .x, time.shift = c(-5, -1) * year(), func = \"sample\"))"
   ]
  },
  {
   "cell_type": "markdown",
   "metadata": {},
   "source": [
    "Combine the disease and control to a single data frame:"
   ]
  },
  {
   "cell_type": "code",
   "execution_count": 52,
   "metadata": {},
   "outputs": [
    {
     "data": {
      "text/html": [
       "<table class=\"dataframe\">\n",
       "<caption>A data.frame: 6 × 3</caption>\n",
       "<thead>\n",
       "\t<tr><th></th><th scope=col>id</th><th scope=col>time</th><th scope=col>class</th></tr>\n",
       "\t<tr><th></th><th scope=col>&lt;int&gt;</th><th scope=col>&lt;int&gt;</th><th scope=col>&lt;dbl&gt;</th></tr>\n",
       "</thead>\n",
       "<tbody>\n",
       "\t<tr><th scope=row>1</th><td> 1</td><td>1238196</td><td>1</td></tr>\n",
       "\t<tr><th scope=row>2</th><td>22</td><td>1220227</td><td>1</td></tr>\n",
       "\t<tr><th scope=row>3</th><td>40</td><td>1232253</td><td>1</td></tr>\n",
       "\t<tr><th scope=row>4</th><td>44</td><td>1228184</td><td>1</td></tr>\n",
       "\t<tr><th scope=row>5</th><td>45</td><td>1336104</td><td>1</td></tr>\n",
       "\t<tr><th scope=row>6</th><td>48</td><td>1346088</td><td>1</td></tr>\n",
       "</tbody>\n",
       "</table>\n"
      ],
      "text/latex": [
       "A data.frame: 6 × 3\n",
       "\\begin{tabular}{r|lll}\n",
       "  & id & time & class\\\\\n",
       "  & <int> & <int> & <dbl>\\\\\n",
       "\\hline\n",
       "\t1 &  1 & 1238196 & 1\\\\\n",
       "\t2 & 22 & 1220227 & 1\\\\\n",
       "\t3 & 40 & 1232253 & 1\\\\\n",
       "\t4 & 44 & 1228184 & 1\\\\\n",
       "\t5 & 45 & 1336104 & 1\\\\\n",
       "\t6 & 48 & 1346088 & 1\\\\\n",
       "\\end{tabular}\n"
      ],
      "text/markdown": [
       "\n",
       "A data.frame: 6 × 3\n",
       "\n",
       "| <!--/--> | id &lt;int&gt; | time &lt;int&gt; | class &lt;dbl&gt; |\n",
       "|---|---|---|---|\n",
       "| 1 |  1 | 1238196 | 1 |\n",
       "| 2 | 22 | 1220227 | 1 |\n",
       "| 3 | 40 | 1232253 | 1 |\n",
       "| 4 | 44 | 1228184 | 1 |\n",
       "| 5 | 45 | 1336104 | 1 |\n",
       "| 6 | 48 | 1346088 | 1 |\n",
       "\n"
      ],
      "text/plain": [
       "  id time    class\n",
       "1  1 1238196 1    \n",
       "2 22 1220227 1    \n",
       "3 40 1232253 1    \n",
       "4 44 1228184 1    \n",
       "5 45 1336104 1    \n",
       "6 48 1346088 1    "
      ]
     },
     "metadata": {},
     "output_type": "display_data"
    }
   ],
   "source": [
    "options(emr_max.data.size = 1e09)\n",
    "target <- disease %>%\n",
    "    select(id, time) %>%\n",
    "    mutate(class = 1) %>%\n",
    "    bind_rows(control %>% select(id, time) %>% mutate(class = 0))\n",
    "head(target)"
   ]
  },
  {
   "cell_type": "markdown",
   "metadata": {},
   "source": [
    "Extract the labs data + age and sex:"
   ]
  },
  {
   "cell_type": "code",
   "execution_count": 53,
   "metadata": {},
   "outputs": [
    {
     "data": {
      "text/html": [
       "<table class=\"dataframe\">\n",
       "<caption>A data.frame: 6 × 101</caption>\n",
       "<thead>\n",
       "\t<tr><th></th><th scope=col>id</th><th scope=col>time</th><th scope=col>ref</th><th scope=col>age</th><th scope=col>sex</th><th scope=col>lab.ALBUMIN</th><th scope=col>lab.ALBUM_CREAT.RATIO</th><th scope=col>lab.ALT</th><th scope=col>lab.AMYLASE.BLOOD</th><th scope=col>lab.APTT.sec</th><th scope=col>⋯</th><th scope=col>lab.SPECIFIC_GRAVITY</th><th scope=col>lab.T3</th><th scope=col>lab.T4</th><th scope=col>lab.TRANSFERRIN</th><th scope=col>lab.TRIGLYCERIDES</th><th scope=col>lab.TSH</th><th scope=col>lab.UREA.BLOOD</th><th scope=col>lab.URIC_ACID.BLOOD</th><th scope=col>lab.WBC</th><th scope=col>lab.WEIGHT</th></tr>\n",
       "\t<tr><th></th><th scope=col>&lt;int&gt;</th><th scope=col>&lt;int&gt;</th><th scope=col>&lt;int&gt;</th><th scope=col>&lt;dbl&gt;</th><th scope=col>&lt;dbl&gt;</th><th scope=col>&lt;dbl&gt;</th><th scope=col>&lt;dbl&gt;</th><th scope=col>&lt;dbl&gt;</th><th scope=col>&lt;dbl&gt;</th><th scope=col>&lt;dbl&gt;</th><th scope=col>⋯</th><th scope=col>&lt;dbl&gt;</th><th scope=col>&lt;dbl&gt;</th><th scope=col>&lt;dbl&gt;</th><th scope=col>&lt;dbl&gt;</th><th scope=col>&lt;dbl&gt;</th><th scope=col>&lt;dbl&gt;</th><th scope=col>&lt;dbl&gt;</th><th scope=col>&lt;dbl&gt;</th><th scope=col>&lt;dbl&gt;</th><th scope=col>&lt;dbl&gt;</th></tr>\n",
       "</thead>\n",
       "<tbody>\n",
       "\t<tr><th scope=row>1</th><td> 1</td><td>1238196</td><td>-1</td><td>80.15959</td><td>1</td><td>4.605492</td><td>18.90564</td><td>19.31131</td><td> 93.61308</td><td>35.44086</td><td>⋯</td><td>1.024822</td><td>4.223889</td><td>     NaN</td><td>236.9867</td><td>105.1252</td><td>3.005530</td><td>43.00790</td><td>6.096089</td><td>9.600314</td><td>40.59161</td></tr>\n",
       "\t<tr><th scope=row>2</th><td>22</td><td>1220227</td><td>-1</td><td>85.69441</td><td>1</td><td>     NaN</td><td>     NaN</td><td>     NaN</td><td>      NaN</td><td>     NaN</td><td>⋯</td><td>     NaN</td><td>     NaN</td><td>     NaN</td><td>     NaN</td><td>     NaN</td><td>     NaN</td><td>     NaN</td><td>     NaN</td><td>     NaN</td><td>     NaN</td></tr>\n",
       "\t<tr><th scope=row>3</th><td>40</td><td>1232253</td><td>-1</td><td>47.95297</td><td>2</td><td>4.106202</td><td>21.46503</td><td>10.02673</td><td> 27.10096</td><td>30.61352</td><td>⋯</td><td>1.024999</td><td>3.523762</td><td>14.69115</td><td>265.9865</td><td>108.7473</td><td>3.672915</td><td>32.98265</td><td>4.400000</td><td>7.571088</td><td>34.62907</td></tr>\n",
       "\t<tr><th scope=row>4</th><td>44</td><td>1228184</td><td>-1</td><td>78.52557</td><td>1</td><td>     NaN</td><td>     NaN</td><td>     NaN</td><td>      NaN</td><td>     NaN</td><td>⋯</td><td>1.025021</td><td>     NaN</td><td>14.99849</td><td>     NaN</td><td>     NaN</td><td>5.034045</td><td>     NaN</td><td>     NaN</td><td>     NaN</td><td>     NaN</td></tr>\n",
       "\t<tr><th scope=row>5</th><td>45</td><td>1336104</td><td>-1</td><td>62.29361</td><td>2</td><td>4.095174</td><td>     NaN</td><td>13.91433</td><td>106.54393</td><td>32.72647</td><td>⋯</td><td>     NaN</td><td>     NaN</td><td>14.69523</td><td>     NaN</td><td>129.2534</td><td>3.113750</td><td>33.75704</td><td>5.224836</td><td>7.800000</td><td>40.63680</td></tr>\n",
       "\t<tr><th scope=row>6</th><td>48</td><td>1346088</td><td>-1</td><td>87.84555</td><td>2</td><td>3.576982</td><td>18.02866</td><td>10.01721</td><td> 91.83642</td><td>34.44077</td><td>⋯</td><td>1.013204</td><td>4.300000</td><td>13.42368</td><td>153.2631</td><td>183.6200</td><td>4.412379</td><td>38.00212</td><td>6.909094</td><td>6.200532</td><td>31.87110</td></tr>\n",
       "</tbody>\n",
       "</table>\n"
      ],
      "text/latex": [
       "A data.frame: 6 × 101\n",
       "\\begin{tabular}{r|lllllllllllllllllllll}\n",
       "  & id & time & ref & age & sex & lab.ALBUMIN & lab.ALBUM\\_CREAT.RATIO & lab.ALT & lab.AMYLASE.BLOOD & lab.APTT.sec & ⋯ & lab.SPECIFIC\\_GRAVITY & lab.T3 & lab.T4 & lab.TRANSFERRIN & lab.TRIGLYCERIDES & lab.TSH & lab.UREA.BLOOD & lab.URIC\\_ACID.BLOOD & lab.WBC & lab.WEIGHT\\\\\n",
       "  & <int> & <int> & <int> & <dbl> & <dbl> & <dbl> & <dbl> & <dbl> & <dbl> & <dbl> & ⋯ & <dbl> & <dbl> & <dbl> & <dbl> & <dbl> & <dbl> & <dbl> & <dbl> & <dbl> & <dbl>\\\\\n",
       "\\hline\n",
       "\t1 &  1 & 1238196 & -1 & 80.15959 & 1 & 4.605492 & 18.90564 & 19.31131 &  93.61308 & 35.44086 & ⋯ & 1.024822 & 4.223889 &      NaN & 236.9867 & 105.1252 & 3.005530 & 43.00790 & 6.096089 & 9.600314 & 40.59161\\\\\n",
       "\t2 & 22 & 1220227 & -1 & 85.69441 & 1 &      NaN &      NaN &      NaN &       NaN &      NaN & ⋯ &      NaN &      NaN &      NaN &      NaN &      NaN &      NaN &      NaN &      NaN &      NaN &      NaN\\\\\n",
       "\t3 & 40 & 1232253 & -1 & 47.95297 & 2 & 4.106202 & 21.46503 & 10.02673 &  27.10096 & 30.61352 & ⋯ & 1.024999 & 3.523762 & 14.69115 & 265.9865 & 108.7473 & 3.672915 & 32.98265 & 4.400000 & 7.571088 & 34.62907\\\\\n",
       "\t4 & 44 & 1228184 & -1 & 78.52557 & 1 &      NaN &      NaN &      NaN &       NaN &      NaN & ⋯ & 1.025021 &      NaN & 14.99849 &      NaN &      NaN & 5.034045 &      NaN &      NaN &      NaN &      NaN\\\\\n",
       "\t5 & 45 & 1336104 & -1 & 62.29361 & 2 & 4.095174 &      NaN & 13.91433 & 106.54393 & 32.72647 & ⋯ &      NaN &      NaN & 14.69523 &      NaN & 129.2534 & 3.113750 & 33.75704 & 5.224836 & 7.800000 & 40.63680\\\\\n",
       "\t6 & 48 & 1346088 & -1 & 87.84555 & 2 & 3.576982 & 18.02866 & 10.01721 &  91.83642 & 34.44077 & ⋯ & 1.013204 & 4.300000 & 13.42368 & 153.2631 & 183.6200 & 4.412379 & 38.00212 & 6.909094 & 6.200532 & 31.87110\\\\\n",
       "\\end{tabular}\n"
      ],
      "text/markdown": [
       "\n",
       "A data.frame: 6 × 101\n",
       "\n",
       "| <!--/--> | id &lt;int&gt; | time &lt;int&gt; | ref &lt;int&gt; | age &lt;dbl&gt; | sex &lt;dbl&gt; | lab.ALBUMIN &lt;dbl&gt; | lab.ALBUM_CREAT.RATIO &lt;dbl&gt; | lab.ALT &lt;dbl&gt; | lab.AMYLASE.BLOOD &lt;dbl&gt; | lab.APTT.sec &lt;dbl&gt; | ⋯ ⋯ | lab.SPECIFIC_GRAVITY &lt;dbl&gt; | lab.T3 &lt;dbl&gt; | lab.T4 &lt;dbl&gt; | lab.TRANSFERRIN &lt;dbl&gt; | lab.TRIGLYCERIDES &lt;dbl&gt; | lab.TSH &lt;dbl&gt; | lab.UREA.BLOOD &lt;dbl&gt; | lab.URIC_ACID.BLOOD &lt;dbl&gt; | lab.WBC &lt;dbl&gt; | lab.WEIGHT &lt;dbl&gt; |\n",
       "|---|---|---|---|---|---|---|---|---|---|---|---|---|---|---|---|---|---|---|---|---|---|\n",
       "| 1 |  1 | 1238196 | -1 | 80.15959 | 1 | 4.605492 | 18.90564 | 19.31131 |  93.61308 | 35.44086 | ⋯ | 1.024822 | 4.223889 |      NaN | 236.9867 | 105.1252 | 3.005530 | 43.00790 | 6.096089 | 9.600314 | 40.59161 |\n",
       "| 2 | 22 | 1220227 | -1 | 85.69441 | 1 |      NaN |      NaN |      NaN |       NaN |      NaN | ⋯ |      NaN |      NaN |      NaN |      NaN |      NaN |      NaN |      NaN |      NaN |      NaN |      NaN |\n",
       "| 3 | 40 | 1232253 | -1 | 47.95297 | 2 | 4.106202 | 21.46503 | 10.02673 |  27.10096 | 30.61352 | ⋯ | 1.024999 | 3.523762 | 14.69115 | 265.9865 | 108.7473 | 3.672915 | 32.98265 | 4.400000 | 7.571088 | 34.62907 |\n",
       "| 4 | 44 | 1228184 | -1 | 78.52557 | 1 |      NaN |      NaN |      NaN |       NaN |      NaN | ⋯ | 1.025021 |      NaN | 14.99849 |      NaN |      NaN | 5.034045 |      NaN |      NaN |      NaN |      NaN |\n",
       "| 5 | 45 | 1336104 | -1 | 62.29361 | 2 | 4.095174 |      NaN | 13.91433 | 106.54393 | 32.72647 | ⋯ |      NaN |      NaN | 14.69523 |      NaN | 129.2534 | 3.113750 | 33.75704 | 5.224836 | 7.800000 | 40.63680 |\n",
       "| 6 | 48 | 1346088 | -1 | 87.84555 | 2 | 3.576982 | 18.02866 | 10.01721 |  91.83642 | 34.44077 | ⋯ | 1.013204 | 4.300000 | 13.42368 | 153.2631 | 183.6200 | 4.412379 | 38.00212 | 6.909094 | 6.200532 | 31.87110 |\n",
       "\n"
      ],
      "text/plain": [
       "  id time    ref age      sex lab.ALBUMIN lab.ALBUM_CREAT.RATIO lab.ALT \n",
       "1  1 1238196 -1  80.15959 1   4.605492    18.90564              19.31131\n",
       "2 22 1220227 -1  85.69441 1        NaN         NaN                   NaN\n",
       "3 40 1232253 -1  47.95297 2   4.106202    21.46503              10.02673\n",
       "4 44 1228184 -1  78.52557 1        NaN         NaN                   NaN\n",
       "5 45 1336104 -1  62.29361 2   4.095174         NaN              13.91433\n",
       "6 48 1346088 -1  87.84555 2   3.576982    18.02866              10.01721\n",
       "  lab.AMYLASE.BLOOD lab.APTT.sec <U+22EF>   lab.SPECIFIC_GRAVITY lab.T3  \n",
       "1  93.61308         35.44086     <U+22EF> 1.024822             4.223889\n",
       "2       NaN              NaN     <U+22EF>      NaN                  NaN\n",
       "3  27.10096         30.61352     <U+22EF> 1.024999             3.523762\n",
       "4       NaN              NaN     <U+22EF> 1.025021                  NaN\n",
       "5 106.54393         32.72647     <U+22EF>      NaN                  NaN\n",
       "6  91.83642         34.44077     <U+22EF> 1.013204             4.300000\n",
       "  lab.T4   lab.TRANSFERRIN lab.TRIGLYCERIDES lab.TSH  lab.UREA.BLOOD\n",
       "1      NaN 236.9867        105.1252          3.005530 43.00790      \n",
       "2      NaN      NaN             NaN               NaN      NaN      \n",
       "3 14.69115 265.9865        108.7473          3.672915 32.98265      \n",
       "4 14.99849      NaN             NaN          5.034045      NaN      \n",
       "5 14.69523      NaN        129.2534          3.113750 33.75704      \n",
       "6 13.42368 153.2631        183.6200          4.412379 38.00212      \n",
       "  lab.URIC_ACID.BLOOD lab.WBC  lab.WEIGHT\n",
       "1 6.096089            9.600314 40.59161  \n",
       "2      NaN                 NaN      NaN  \n",
       "3 4.400000            7.571088 34.62907  \n",
       "4      NaN                 NaN      NaN  \n",
       "5 5.224836            7.800000 40.63680  \n",
       "6 6.909094            6.200532 31.87110  "
      ]
     },
     "metadata": {},
     "output_type": "display_data"
    }
   ],
   "source": [
    "data <- emr_extract(c(\"age/year()\", \"sex\", paste0(\"v_\", labs)), iterator = target, names = c(\"age\", \"sex\", labs))\n",
    "head(data)"
   ]
  },
  {
   "cell_type": "markdown",
   "metadata": {},
   "source": [
    "#### Separate to train and test"
   ]
  },
  {
   "cell_type": "markdown",
   "metadata": {},
   "source": [
    "We will now separate our data to train and test, while maintaining age and sex:"
   ]
  },
  {
   "cell_type": "code",
   "execution_count": 54,
   "metadata": {},
   "outputs": [
    {
     "data": {
      "text/html": [
       "<table class=\"dataframe\">\n",
       "<caption>A tibble: 6 × 5</caption>\n",
       "<thead>\n",
       "\t<tr><th scope=col>id</th><th scope=col>age</th><th scope=col>sex</th><th scope=col>class</th><th scope=col>train</th></tr>\n",
       "\t<tr><th scope=col>&lt;int&gt;</th><th scope=col>&lt;fct&gt;</th><th scope=col>&lt;dbl&gt;</th><th scope=col>&lt;dbl&gt;</th><th scope=col>&lt;lgl&gt;</th></tr>\n",
       "</thead>\n",
       "<tbody>\n",
       "\t<tr><td> 1</td><td>[80,85)</td><td>1</td><td>1</td><td>FALSE</td></tr>\n",
       "\t<tr><td>22</td><td>[85,90]</td><td>1</td><td>1</td><td> TRUE</td></tr>\n",
       "\t<tr><td>40</td><td>[45,50)</td><td>2</td><td>1</td><td> TRUE</td></tr>\n",
       "\t<tr><td>44</td><td>[75,80)</td><td>1</td><td>1</td><td> TRUE</td></tr>\n",
       "\t<tr><td>45</td><td>[60,65)</td><td>2</td><td>1</td><td> TRUE</td></tr>\n",
       "\t<tr><td>48</td><td>[85,90]</td><td>2</td><td>1</td><td> TRUE</td></tr>\n",
       "</tbody>\n",
       "</table>\n"
      ],
      "text/latex": [
       "A tibble: 6 × 5\n",
       "\\begin{tabular}{lllll}\n",
       " id & age & sex & class & train\\\\\n",
       " <int> & <fct> & <dbl> & <dbl> & <lgl>\\\\\n",
       "\\hline\n",
       "\t  1 & {[}80,85) & 1 & 1 & FALSE\\\\\n",
       "\t 22 & {[}85,90{]} & 1 & 1 &  TRUE\\\\\n",
       "\t 40 & {[}45,50) & 2 & 1 &  TRUE\\\\\n",
       "\t 44 & {[}75,80) & 1 & 1 &  TRUE\\\\\n",
       "\t 45 & {[}60,65) & 2 & 1 &  TRUE\\\\\n",
       "\t 48 & {[}85,90{]} & 2 & 1 &  TRUE\\\\\n",
       "\\end{tabular}\n"
      ],
      "text/markdown": [
       "\n",
       "A tibble: 6 × 5\n",
       "\n",
       "| id &lt;int&gt; | age &lt;fct&gt; | sex &lt;dbl&gt; | class &lt;dbl&gt; | train &lt;lgl&gt; |\n",
       "|---|---|---|---|---|\n",
       "|  1 | [80,85) | 1 | 1 | FALSE |\n",
       "| 22 | [85,90] | 1 | 1 |  TRUE |\n",
       "| 40 | [45,50) | 2 | 1 |  TRUE |\n",
       "| 44 | [75,80) | 1 | 1 |  TRUE |\n",
       "| 45 | [60,65) | 2 | 1 |  TRUE |\n",
       "| 48 | [85,90] | 2 | 1 |  TRUE |\n",
       "\n"
      ],
      "text/plain": [
       "  id age     sex class train\n",
       "1  1 [80,85) 1   1     FALSE\n",
       "2 22 [85,90] 1   1      TRUE\n",
       "3 40 [45,50) 2   1      TRUE\n",
       "4 44 [75,80) 1   1      TRUE\n",
       "5 45 [60,65) 2   1      TRUE\n",
       "6 48 [85,90] 2   1      TRUE"
      ]
     },
     "metadata": {},
     "output_type": "display_data"
    }
   ],
   "source": [
    "train_test <- data %>%\n",
    "    select(id, age, sex) %>%\n",
    "    inner_join(target %>% select(id, class), by = \"id\") %>%\n",
    "    mutate(age = cut(age, seq(20, 90, by = 5), right = FALSE, include.lowest = TRUE)) %>%\n",
    "    group_by(age, sex, class) %>%\n",
    "    mutate(train = runif(n()) < 0.8) %>%\n",
    "    ungroup()\n",
    "head(train_test)"
   ]
  },
  {
   "cell_type": "markdown",
   "metadata": {},
   "source": [
    "#### Run a XGBoost predictor"
   ]
  },
  {
   "cell_type": "code",
   "execution_count": 55,
   "metadata": {},
   "outputs": [
    {
     "name": "stderr",
     "output_type": "stream",
     "text": [
      "\u001b[1m\u001b[22mJoining, by = \"id\"\n",
      "\n",
      "Attaching package: 'xgboost'\n",
      "\n",
      "\n",
      "The following object is masked from 'package:dplyr':\n",
      "\n",
      "    slice\n",
      "\n",
      "\n"
     ]
    },
    {
     "name": "stdout",
     "output_type": "stream",
     "text": [
      "[1]\ttrain-auc:0.612663\ttest-auc:0.596593 \n",
      "[2]\ttrain-auc:0.626648\ttest-auc:0.589582 \n",
      "[3]\ttrain-auc:0.639704\ttest-auc:0.606413 \n",
      "[4]\ttrain-auc:0.645340\ttest-auc:0.613366 \n",
      "[5]\ttrain-auc:0.651984\ttest-auc:0.615757 \n",
      "[6]\ttrain-auc:0.657413\ttest-auc:0.617871 \n",
      "[7]\ttrain-auc:0.661878\ttest-auc:0.618203 \n",
      "[8]\ttrain-auc:0.663027\ttest-auc:0.618981 \n",
      "[9]\ttrain-auc:0.663816\ttest-auc:0.619343 \n",
      "[10]\ttrain-auc:0.665409\ttest-auc:0.618070 \n",
      "[11]\ttrain-auc:0.668131\ttest-auc:0.616047 \n",
      "[12]\ttrain-auc:0.669319\ttest-auc:0.613970 \n",
      "[13]\ttrain-auc:0.671677\ttest-auc:0.616717 \n",
      "[14]\ttrain-auc:0.673911\ttest-auc:0.617515 \n",
      "[15]\ttrain-auc:0.677131\ttest-auc:0.618886 \n",
      "[16]\ttrain-auc:0.679338\ttest-auc:0.617803 \n",
      "[17]\ttrain-auc:0.680691\ttest-auc:0.618348 \n",
      "[18]\ttrain-auc:0.681704\ttest-auc:0.617566 \n",
      "[19]\ttrain-auc:0.683362\ttest-auc:0.616845 \n",
      "[20]\ttrain-auc:0.684162\ttest-auc:0.616689 \n",
      "[21]\ttrain-auc:0.685245\ttest-auc:0.617829 \n",
      "[22]\ttrain-auc:0.686011\ttest-auc:0.617706 \n",
      "[23]\ttrain-auc:0.687834\ttest-auc:0.619044 \n",
      "[24]\ttrain-auc:0.689460\ttest-auc:0.620443 \n",
      "[25]\ttrain-auc:0.690611\ttest-auc:0.619697 \n",
      "[26]\ttrain-auc:0.692750\ttest-auc:0.619645 \n",
      "[27]\ttrain-auc:0.693420\ttest-auc:0.621834 \n",
      "[28]\ttrain-auc:0.693885\ttest-auc:0.621744 \n",
      "[29]\ttrain-auc:0.695424\ttest-auc:0.619861 \n",
      "[30]\ttrain-auc:0.695994\ttest-auc:0.620541 \n",
      "[31]\ttrain-auc:0.696545\ttest-auc:0.621604 \n",
      "[32]\ttrain-auc:0.697139\ttest-auc:0.622160 \n",
      "[33]\ttrain-auc:0.697861\ttest-auc:0.623318 \n",
      "[34]\ttrain-auc:0.699898\ttest-auc:0.624397 \n",
      "[35]\ttrain-auc:0.700985\ttest-auc:0.624090 \n",
      "[36]\ttrain-auc:0.702226\ttest-auc:0.622796 \n",
      "[37]\ttrain-auc:0.703438\ttest-auc:0.623597 \n",
      "[38]\ttrain-auc:0.704580\ttest-auc:0.622850 \n",
      "[39]\ttrain-auc:0.705035\ttest-auc:0.624669 \n",
      "[40]\ttrain-auc:0.706370\ttest-auc:0.624755 \n",
      "[41]\ttrain-auc:0.707206\ttest-auc:0.624840 \n",
      "[42]\ttrain-auc:0.708197\ttest-auc:0.625044 \n",
      "[43]\ttrain-auc:0.708952\ttest-auc:0.625433 \n",
      "[44]\ttrain-auc:0.710057\ttest-auc:0.625494 \n",
      "[45]\ttrain-auc:0.711147\ttest-auc:0.624839 \n",
      "[46]\ttrain-auc:0.712604\ttest-auc:0.626242 \n",
      "[47]\ttrain-auc:0.713741\ttest-auc:0.625619 \n",
      "[48]\ttrain-auc:0.714039\ttest-auc:0.625550 \n",
      "[49]\ttrain-auc:0.715108\ttest-auc:0.625692 \n",
      "[50]\ttrain-auc:0.716590\ttest-auc:0.626071 \n",
      "[51]\ttrain-auc:0.717820\ttest-auc:0.625502 \n",
      "[52]\ttrain-auc:0.718820\ttest-auc:0.625166 \n",
      "[53]\ttrain-auc:0.720071\ttest-auc:0.625903 \n",
      "[54]\ttrain-auc:0.720694\ttest-auc:0.626289 \n",
      "[55]\ttrain-auc:0.722328\ttest-auc:0.626210 \n",
      "[56]\ttrain-auc:0.723249\ttest-auc:0.626353 \n",
      "[57]\ttrain-auc:0.724141\ttest-auc:0.625665 \n",
      "[58]\ttrain-auc:0.725479\ttest-auc:0.625515 \n",
      "[59]\ttrain-auc:0.726340\ttest-auc:0.625895 \n",
      "[60]\ttrain-auc:0.727748\ttest-auc:0.624324 \n",
      "[61]\ttrain-auc:0.728029\ttest-auc:0.624683 \n",
      "[62]\ttrain-auc:0.729485\ttest-auc:0.624064 \n",
      "[63]\ttrain-auc:0.730750\ttest-auc:0.623956 \n",
      "[64]\ttrain-auc:0.731554\ttest-auc:0.624433 \n",
      "[65]\ttrain-auc:0.732271\ttest-auc:0.624726 \n",
      "[66]\ttrain-auc:0.733283\ttest-auc:0.626480 \n",
      "[67]\ttrain-auc:0.733585\ttest-auc:0.625548 \n",
      "[68]\ttrain-auc:0.734192\ttest-auc:0.626206 \n",
      "[69]\ttrain-auc:0.734551\ttest-auc:0.627006 \n",
      "[70]\ttrain-auc:0.735440\ttest-auc:0.627376 \n",
      "[71]\ttrain-auc:0.736325\ttest-auc:0.627697 \n",
      "[72]\ttrain-auc:0.737021\ttest-auc:0.627631 \n",
      "[73]\ttrain-auc:0.737742\ttest-auc:0.626648 \n",
      "[74]\ttrain-auc:0.739359\ttest-auc:0.627653 \n",
      "[75]\ttrain-auc:0.739606\ttest-auc:0.627151 \n",
      "[76]\ttrain-auc:0.740715\ttest-auc:0.626094 \n",
      "[77]\ttrain-auc:0.741312\ttest-auc:0.626482 \n",
      "[78]\ttrain-auc:0.742130\ttest-auc:0.625897 \n",
      "[79]\ttrain-auc:0.743117\ttest-auc:0.625297 \n",
      "[80]\ttrain-auc:0.744112\ttest-auc:0.624336 \n",
      "[81]\ttrain-auc:0.744752\ttest-auc:0.624270 \n",
      "[82]\ttrain-auc:0.745355\ttest-auc:0.623551 \n",
      "[83]\ttrain-auc:0.746056\ttest-auc:0.622678 \n",
      "[84]\ttrain-auc:0.746753\ttest-auc:0.624085 \n",
      "[85]\ttrain-auc:0.747320\ttest-auc:0.623966 \n",
      "[86]\ttrain-auc:0.748135\ttest-auc:0.623740 \n",
      "[87]\ttrain-auc:0.748891\ttest-auc:0.623681 \n",
      "[88]\ttrain-auc:0.750208\ttest-auc:0.623718 \n",
      "[89]\ttrain-auc:0.750911\ttest-auc:0.622896 \n",
      "[90]\ttrain-auc:0.751387\ttest-auc:0.622763 \n",
      "[91]\ttrain-auc:0.751398\ttest-auc:0.622237 \n",
      "[92]\ttrain-auc:0.752370\ttest-auc:0.623629 \n",
      "[93]\ttrain-auc:0.753189\ttest-auc:0.624261 \n",
      "[94]\ttrain-auc:0.753588\ttest-auc:0.624642 \n",
      "[95]\ttrain-auc:0.754433\ttest-auc:0.624763 \n",
      "[96]\ttrain-auc:0.755046\ttest-auc:0.624035 \n",
      "[97]\ttrain-auc:0.755983\ttest-auc:0.623700 \n",
      "[98]\ttrain-auc:0.756445\ttest-auc:0.623840 \n",
      "[99]\ttrain-auc:0.757443\ttest-auc:0.623901 \n",
      "[100]\ttrain-auc:0.758237\ttest-auc:0.623979 \n"
     ]
    },
    {
     "data": {
      "text/plain": [
       "##### xgb.Booster\n",
       "raw: 116.9 Kb \n",
       "call:\n",
       "  xgb.train(data = xgb_train, nrounds = 100, watchlist = watchlist, \n",
       "    booster = \"gbtree\", objective = \"binary:logistic\", max.depth = 3, \n",
       "    subsample = 0.5, eta = 0.07, min_child_weight = 1, gamma = 0, \n",
       "    eval_metric = \"auc\")\n",
       "params (as set within xgb.train):\n",
       "  booster = \"gbtree\", objective = \"binary:logistic\", max_depth = \"3\", subsample = \"0.5\", eta = \"0.07\", min_child_weight = \"1\", gamma = \"0\", eval_metric = \"auc\", validate_parameters = \"TRUE\"\n",
       "xgb.attributes:\n",
       "  niter\n",
       "callbacks:\n",
       "  cb.print.evaluation(period = print_every_n)\n",
       "  cb.evaluation.log()\n",
       "# of features: 98 \n",
       "niter: 100\n",
       "nfeatures : 98 \n",
       "evaluation_log:\n",
       "    iter train_auc  test_auc\n",
       "       1 0.6126630 0.5965929\n",
       "       2 0.6266480 0.5895816\n",
       "---                         \n",
       "      99 0.7574427 0.6239012\n",
       "     100 0.7582369 0.6239789"
      ]
     },
     "metadata": {},
     "output_type": "display_data"
    }
   ],
   "source": [
    "target <- train_test\n",
    "features <- train_test %>%\n",
    "    select(id) %>%\n",
    "    left_join(data) %>%\n",
    "    select(-id, -time, -ref)\n",
    "\n",
    "library(xgboost)\n",
    "train_y <- target[target$train, ]\n",
    "test_y <- target[!target$train, ]\n",
    "\n",
    "train_x <- as.matrix(features[target$train, ])\n",
    "test_x <- as.matrix(features[!target$train, ])\n",
    "\n",
    "xgb_train <- xgb.DMatrix(data = train_x, label = train_y$class)\n",
    "xgb_test <- xgb.DMatrix(data = test_x, label = test_y$class)\n",
    "\n",
    "watchlist <- list(train = xgb_train, test = xgb_test)\n",
    "\n",
    "# fit XGBoost model and display training and testing data at each round\n",
    "model <- xgb.train(\n",
    "    data = xgb_train,\n",
    "    booster = \"gbtree\",\n",
    "    objective = \"binary:logistic\",\n",
    "    max.depth = 3,\n",
    "    subsample = 0.5,\n",
    "    eta = 0.07,\n",
    "    min_child_weight = 1,\n",
    "    gamma = 0,\n",
    "    eval_metric = \"auc\",\n",
    "    watchlist = watchlist,\n",
    "    nrounds = 100\n",
    ")\n",
    "model"
   ]
  },
  {
   "cell_type": "markdown",
   "metadata": {},
   "source": [
    "#### Evaluate the model"
   ]
  },
  {
   "cell_type": "markdown",
   "metadata": {},
   "source": [
    "Predict the test data:"
   ]
  },
  {
   "cell_type": "code",
   "execution_count": 56,
   "metadata": {},
   "outputs": [],
   "source": [
    "test <- test_y %>% mutate(pred_score = predict(model, test_x))"
   ]
  },
  {
   "cell_type": "markdown",
   "metadata": {},
   "source": [
    "Calculate ROC:"
   ]
  },
  {
   "cell_type": "code",
   "execution_count": 57,
   "metadata": {},
   "outputs": [
    {
     "name": "stderr",
     "output_type": "stream",
     "text": [
      "Setting levels: control = 0, case = 1\n",
      "\n",
      "Setting direction: controls < cases\n",
      "\n"
     ]
    },
    {
     "data": {
      "text/plain": [
       "\n",
       "Call:\n",
       "roc.default(response = test$class, predictor = test$pred_score,     ci = TRUE, plot = TRUE, smoothed = TRUE, ci.alpha = 0.9,     stratified = FALSE, auc.polygon = TRUE, max.auc.polygon = TRUE,     grid = TRUE, print.auc = TRUE, show.thres = TRUE)\n",
       "\n",
       "Data: test$pred_score in 861 controls (test$class 0) < 1210 cases (test$class 1).\n",
       "Area under the curve: 0.624\n",
       "95% CI: 0.5997-0.6482 (DeLong)"
      ]
     },
     "metadata": {},
     "output_type": "display_data"
    },
    {
     "data": {
      "image/png": "[encoded data removed]",
      "text/plain": [
       "plot without title"
      ]
     },
     "metadata": {
      "image/png": {
       "height": 420,
       "width": 420
      }
     },
     "output_type": "display_data"
    }
   ],
   "source": [
    "pROC_obj <- pROC::roc(test$class, test$pred_score,\n",
    "    smoothed = TRUE,\n",
    "    # arguments for ci\n",
    "    ci = TRUE, ci.alpha = 0.9, stratified = FALSE,\n",
    "    # arguments for plot\n",
    "    plot = TRUE, auc.polygon = TRUE, max.auc.polygon = TRUE, grid = TRUE,\n",
    "    print.auc = TRUE, show.thres = TRUE\n",
    ")\n",
    "pROC_obj"
   ]
  },
  {
   "cell_type": "markdown",
   "metadata": {},
   "source": [
    "Plot the score difference between the classes:"
   ]
  },
  {
   "cell_type": "code",
   "execution_count": 58,
   "metadata": {},
   "outputs": [
    {
     "data": {
      "image/png": "[encoded data removed]",
      "text/plain": [
       "plot without title"
      ]
     },
     "metadata": {
      "image/png": {
       "height": 420,
       "width": 420
      }
     },
     "output_type": "display_data"
    }
   ],
   "source": [
    "test %>%\n",
    "    mutate(score = cut(pred_score, c(0, 0.5, 1), right = FALSE, include.lowest = T)) %>%\n",
    "    count(class, score) %>%\n",
    "    ggplot(aes(x = score, y = n, fill = factor(class))) +\n",
    "    geom_bar(stat = \"identity\", position = \"dodge\")"
   ]
  },
  {
   "cell_type": "markdown",
   "metadata": {},
   "source": [
    "_**Exercise:** Build a predictor for diabetes (dx.250)_"
   ]
  },
  {
   "cell_type": "markdown",
   "metadata": {},
   "source": [
    "## Additional examples"
   ]
  },
  {
   "cell_type": "markdown",
   "metadata": {},
   "source": [
    "In the next few sections we will present a few additional examples of how to use `naryn` for analysis of EMR data. It is recommended to try and implement a solution to each example before looking at the code below it. "
   ]
  },
  {
   "cell_type": "markdown",
   "metadata": {},
   "source": [
    "### Extract survival time for patients with pancreatic cancer"
   ]
  },
  {
   "cell_type": "markdown",
   "metadata": {},
   "source": [
    "Extract the survival time (time until death) for patients with pancreatic cancer (ICD9 code 157.9):"
   ]
  },
  {
   "cell_type": "markdown",
   "metadata": {},
   "source": [
    "Define a filter for just Pancreatic cancer in the 157 icd9 code:"
   ]
  },
  {
   "cell_type": "code",
   "execution_count": 59,
   "metadata": {
    "vscode": {
     "languageId": "r"
    }
   },
   "outputs": [],
   "source": [
    "emr_filter.create(\"pancreatic_cancer\", \"dx.icd9_157\", val = 19)"
   ]
  },
  {
   "cell_type": "markdown",
   "metadata": {},
   "source": [
    "Define a filter for previous pancreatic cancer (sometime in the past):\n",
    "\n"
   ]
  },
  {
   "cell_type": "code",
   "execution_count": 60,
   "metadata": {
    "vscode": {
     "languageId": "r"
    }
   },
   "outputs": [],
   "source": [
    "emr_filter.create(\"pancreatic_cancer_in_past\", \"dx.icd9_157\", val = 19, time.shift = c(-years(120), -1))"
   ]
  },
  {
   "cell_type": "markdown",
   "metadata": {},
   "source": [
    "To find the first diagnosis of pancreatic cancer we will go over all 157 diagnosis, filter out those that are not pancreatic cancer and make sure there wasn't a prior diagnosis of pancreatic cancer:\n",
    "\n"
   ]
  },
  {
   "cell_type": "code",
   "execution_count": 61,
   "metadata": {
    "vscode": {
     "languageId": "r"
    }
   },
   "outputs": [
    {
     "data": {
      "text/html": [
       "25"
      ],
      "text/latex": [
       "25"
      ],
      "text/markdown": [
       "25"
      ],
      "text/plain": [
       "[1] 25"
      ]
     },
     "metadata": {},
     "output_type": "display_data"
    },
    {
     "data": {
      "text/html": [
       "<table class=\"dataframe\">\n",
       "<caption>A data.frame: 6 × 4</caption>\n",
       "<thead>\n",
       "\t<tr><th></th><th scope=col>id</th><th scope=col>time</th><th scope=col>ref</th><th scope=col>survival</th></tr>\n",
       "\t<tr><th></th><th scope=col>&lt;int&gt;</th><th scope=col>&lt;int&gt;</th><th scope=col>&lt;int&gt;</th><th scope=col>&lt;dbl&gt;</th></tr>\n",
       "</thead>\n",
       "<tbody>\n",
       "\t<tr><th scope=row>1</th><td>12192</td><td>1256866</td><td>-1</td><td>19910</td></tr>\n",
       "\t<tr><th scope=row>2</th><td>17022</td><td>1311645</td><td>-1</td><td>  NaN</td></tr>\n",
       "\t<tr><th scope=row>3</th><td>24217</td><td>1309964</td><td>-1</td><td>14332</td></tr>\n",
       "\t<tr><th scope=row>4</th><td>27971</td><td>1280769</td><td>-1</td><td> 3927</td></tr>\n",
       "\t<tr><th scope=row>5</th><td>28135</td><td>1263030</td><td>-1</td><td>23106</td></tr>\n",
       "\t<tr><th scope=row>6</th><td>34252</td><td>1341200</td><td>-1</td><td> 9016</td></tr>\n",
       "</tbody>\n",
       "</table>\n"
      ],
      "text/latex": [
       "A data.frame: 6 × 4\n",
       "\\begin{tabular}{r|llll}\n",
       "  & id & time & ref & survival\\\\\n",
       "  & <int> & <int> & <int> & <dbl>\\\\\n",
       "\\hline\n",
       "\t1 & 12192 & 1256866 & -1 & 19910\\\\\n",
       "\t2 & 17022 & 1311645 & -1 &   NaN\\\\\n",
       "\t3 & 24217 & 1309964 & -1 & 14332\\\\\n",
       "\t4 & 27971 & 1280769 & -1 &  3927\\\\\n",
       "\t5 & 28135 & 1263030 & -1 & 23106\\\\\n",
       "\t6 & 34252 & 1341200 & -1 &  9016\\\\\n",
       "\\end{tabular}\n"
      ],
      "text/markdown": [
       "\n",
       "A data.frame: 6 × 4\n",
       "\n",
       "| <!--/--> | id &lt;int&gt; | time &lt;int&gt; | ref &lt;int&gt; | survival &lt;dbl&gt; |\n",
       "|---|---|---|---|---|\n",
       "| 1 | 12192 | 1256866 | -1 | 19910 |\n",
       "| 2 | 17022 | 1311645 | -1 |   NaN |\n",
       "| 3 | 24217 | 1309964 | -1 | 14332 |\n",
       "| 4 | 27971 | 1280769 | -1 |  3927 |\n",
       "| 5 | 28135 | 1263030 | -1 | 23106 |\n",
       "| 6 | 34252 | 1341200 | -1 |  9016 |\n",
       "\n"
      ],
      "text/plain": [
       "  id    time    ref survival\n",
       "1 12192 1256866 -1  19910   \n",
       "2 17022 1311645 -1    NaN   \n",
       "3 24217 1309964 -1  14332   \n",
       "4 27971 1280769 -1   3927   \n",
       "5 28135 1263030 -1  23106   \n",
       "6 34252 1341200 -1   9016   "
      ]
     },
     "metadata": {},
     "output_type": "display_data"
    }
   ],
   "source": [
    "pancreatic_cancer_survival <- emr_extract(\"survival\", iterator = \"dx.icd9_157\", filter = \"pancreatic_cancer & !pancreatic_cancer_in_past\")\n",
    "nrow(pancreatic_cancer_survival)\n",
    "head(pancreatic_cancer_survival)"
   ]
  },
  {
   "cell_type": "markdown",
   "metadata": {},
   "source": [
    "Note that NA in survival means that the patient still has not died.\n",
    "\n",
    "We can now compute the Kaplan-Meier survival curve for pancreatic cancer patients. \n",
    "Censoring is applied to reflect latest update of database (Jan 6, 2022):\n"
   ]
  },
  {
   "cell_type": "code",
   "execution_count": 62,
   "metadata": {
    "vscode": {
     "languageId": "r"
    }
   },
   "outputs": [],
   "source": [
    "pancreatic_cancer_survival <- pancreatic_cancer_survival %>%\n",
    "    mutate(\n",
    "        follow_time = ifelse(!is.na(survival), survival, emr_date2time(6, 1, 2022) - time),\n",
    "        status = ifelse(is.na(survival), 0, 1)\n",
    "    ) %>%\n",
    "    mutate(follow_time = follow_time / month())"
   ]
  },
  {
   "cell_type": "markdown",
   "metadata": {},
   "source": [
    "Fit the survival curve: \n",
    "\n"
   ]
  },
  {
   "cell_type": "code",
   "execution_count": 63,
   "metadata": {
    "vscode": {
     "languageId": "r"
    }
   },
   "outputs": [
    {
     "name": "stderr",
     "output_type": "stream",
     "text": [
      "Loading required package: ggpubr\n",
      "\n",
      "\n",
      "Attaching package: 'survival'\n",
      "\n",
      "\n",
      "The following object is masked from 'package:survminer':\n",
      "\n",
      "    myeloma\n",
      "\n",
      "\n"
     ]
    },
    {
     "data": {
      "image/png": "[encoded data removed]",
      "text/plain": [
       "plot without title"
      ]
     },
     "metadata": {
      "image/png": {
       "height": 420,
       "width": 420
      }
     },
     "output_type": "display_data"
    }
   ],
   "source": [
    "library(survminer)\n",
    "library(survival)\n",
    "fit <- survminer::surv_fit(survival::Surv(follow_time, status) ~ 1, data = pancreatic_cancer_survival)\n",
    "survminer::ggsurvplot(fit, data = pancreatic_cancer_survival, xlab = \"Time (months)\")"
   ]
  },
  {
   "cell_type": "markdown",
   "metadata": {},
   "source": [
    "### Extract HGB and age for all patients between the ages 60 and 70"
   ]
  },
  {
   "cell_type": "markdown",
   "metadata": {},
   "source": [
    "Extract all Hemoglobin tests (HGB), age (in years) and sex for patients between the ages of 60 and 70:"
   ]
  },
  {
   "cell_type": "code",
   "execution_count": 64,
   "metadata": {
    "vscode": {
     "languageId": "r"
    }
   },
   "outputs": [],
   "source": [
    "emr_filter.create(\"age_60_70\", \"patients.dob\", time.shift = c(-years(70), -years(60)))\n",
    "hgb_60_70 <- emr_extract(c(\"age/year()\", \"lab.HGB\", \"sex\"), iterator = \"lab.HGB\", filter = \"age_60_70\", names = c(\"age\", \"HGB\", \"sex\"))"
   ]
  },
  {
   "cell_type": "markdown",
   "metadata": {},
   "source": [
    "We can now plot the distribution: \n",
    "\n"
   ]
  },
  {
   "cell_type": "code",
   "execution_count": 65,
   "metadata": {
    "vscode": {
     "languageId": "r"
    }
   },
   "outputs": [
    {
     "data": {
      "image/png": "[encoded data removed]",
      "text/plain": [
       "plot without title"
      ]
     },
     "metadata": {
      "image/png": {
       "height": 420,
       "width": 420
      }
     },
     "output_type": "display_data"
    }
   ],
   "source": [
    "hgb_60_70 %>%\n",
    "    mutate(sex = factor(c(\"male\", \"female\")[sex])) %>%\n",
    "    ggplot(aes(x = HGB, color = sex, group = sex)) +\n",
    "    geom_density()"
   ]
  },
  {
   "cell_type": "markdown",
   "metadata": {},
   "source": [
    "### Extract patients age at time of diagnosis of heart disease that did not have diabetes in the past"
   ]
  },
  {
   "cell_type": "markdown",
   "metadata": {},
   "source": [
    "Extract patients age at the time of their first diagnosis of heart disease (diagnosis.411) that did not have diabetes (diagnosis.250) in the past.\n",
    "\n",
    "This is very similar to the example above, in which we used a filter to exclude patients that had a previous diagnosis of heart disease. We are now going to use a slightly different approach that would first extract a the patient-time points of the heart disease onset and then use an additional query with these points as the iterator to filter out the patients that had diabetes in the past. This approach is useful in cases where we want to use the onset for other purposes, and it is convenient to have it in a separate table.\n",
    "\n",
    "What would be our iterator? We can iterate the heart disease diagnosis track, and in many cases this would be the right choice. However, sometimes this track can be quite large, for example if it is a very common lab test. In such cases we can iterate over the “patients.dob” track instead, while shifting the time forward by the maximum amount (e.g. 120 years):"
   ]
  },
  {
   "cell_type": "code",
   "execution_count": 66,
   "metadata": {
    "vscode": {
     "languageId": "r"
    }
   },
   "outputs": [
    {
     "data": {
      "text/html": [
       "<table class=\"dataframe\">\n",
       "<caption>A data.frame: 6 × 4</caption>\n",
       "<thead>\n",
       "\t<tr><th></th><th scope=col>id</th><th scope=col>time</th><th scope=col>ref</th><th scope=col>heart_onset</th></tr>\n",
       "\t<tr><th></th><th scope=col>&lt;int&gt;</th><th scope=col>&lt;int&gt;</th><th scope=col>&lt;int&gt;</th><th scope=col>&lt;dbl&gt;</th></tr>\n",
       "</thead>\n",
       "<tbody>\n",
       "\t<tr><th scope=row>1</th><td> 1</td><td>535998</td><td>-1</td><td>1220308</td></tr>\n",
       "\t<tr><th scope=row>2</th><td> 4</td><td>864871</td><td>-1</td><td>1280579</td></tr>\n",
       "\t<tr><th scope=row>3</th><td> 5</td><td>826123</td><td>-1</td><td>1306345</td></tr>\n",
       "\t<tr><th scope=row>4</th><td> 6</td><td>817547</td><td>-1</td><td>1259009</td></tr>\n",
       "\t<tr><th scope=row>5</th><td>19</td><td>734365</td><td>-1</td><td>1322741</td></tr>\n",
       "\t<tr><th scope=row>6</th><td>22</td><td>469544</td><td>-1</td><td>1227666</td></tr>\n",
       "</tbody>\n",
       "</table>\n"
      ],
      "text/latex": [
       "A data.frame: 6 × 4\n",
       "\\begin{tabular}{r|llll}\n",
       "  & id & time & ref & heart\\_onset\\\\\n",
       "  & <int> & <int> & <int> & <dbl>\\\\\n",
       "\\hline\n",
       "\t1 &  1 & 535998 & -1 & 1220308\\\\\n",
       "\t2 &  4 & 864871 & -1 & 1280579\\\\\n",
       "\t3 &  5 & 826123 & -1 & 1306345\\\\\n",
       "\t4 &  6 & 817547 & -1 & 1259009\\\\\n",
       "\t5 & 19 & 734365 & -1 & 1322741\\\\\n",
       "\t6 & 22 & 469544 & -1 & 1227666\\\\\n",
       "\\end{tabular}\n"
      ],
      "text/markdown": [
       "\n",
       "A data.frame: 6 × 4\n",
       "\n",
       "| <!--/--> | id &lt;int&gt; | time &lt;int&gt; | ref &lt;int&gt; | heart_onset &lt;dbl&gt; |\n",
       "|---|---|---|---|---|\n",
       "| 1 |  1 | 535998 | -1 | 1220308 |\n",
       "| 2 |  4 | 864871 | -1 | 1280579 |\n",
       "| 3 |  5 | 826123 | -1 | 1306345 |\n",
       "| 4 |  6 | 817547 | -1 | 1259009 |\n",
       "| 5 | 19 | 734365 | -1 | 1322741 |\n",
       "| 6 | 22 | 469544 | -1 | 1227666 |\n",
       "\n"
      ],
      "text/plain": [
       "  id time   ref heart_onset\n",
       "1  1 535998 -1  1220308    \n",
       "2  4 864871 -1  1280579    \n",
       "3  5 826123 -1  1306345    \n",
       "4  6 817547 -1  1259009    \n",
       "5 19 734365 -1  1322741    \n",
       "6 22 469544 -1  1227666    "
      ]
     },
     "metadata": {},
     "output_type": "display_data"
    }
   ],
   "source": [
    "# Find onset of heart disease\n",
    "emr_vtrack.create(\"heart_onset\", \"dx.icd9_411\", time.shift = c(0, years(120)), func = \"earliest.time\")\n",
    "emr_filter.create(\"has_heart_disease\", \"dx.icd9_411\", time.shift = c(0, years(120)))\n",
    "\n",
    "# Retreive the earliest time of heart disease for all patients in db that have a heart disease\n",
    "heart_onset <- emr_extract(\"heart_onset\", iterator = \"patients.dob\", filter = \"has_heart_disease\")\n",
    "head(heart_onset)"
   ]
  },
  {
   "cell_type": "markdown",
   "metadata": {},
   "source": [
    "Now we can use the data frame we created as an iterator:\n",
    "\n"
   ]
  },
  {
   "cell_type": "code",
   "execution_count": 67,
   "metadata": {
    "vscode": {
     "languageId": "r"
    }
   },
   "outputs": [
    {
     "data": {
      "text/html": [
       "25596"
      ],
      "text/latex": [
       "25596"
      ],
      "text/markdown": [
       "25596"
      ],
      "text/plain": [
       "[1] 25596"
      ]
     },
     "metadata": {},
     "output_type": "display_data"
    },
    {
     "data": {
      "text/html": [
       "23584"
      ],
      "text/latex": [
       "23584"
      ],
      "text/markdown": [
       "23584"
      ],
      "text/plain": [
       "[1] 23584"
      ]
     },
     "metadata": {},
     "output_type": "display_data"
    },
    {
     "data": {
      "text/html": [
       "<table class=\"dataframe\">\n",
       "<caption>A data.frame: 6 × 4</caption>\n",
       "<thead>\n",
       "\t<tr><th></th><th scope=col>id</th><th scope=col>time</th><th scope=col>ref</th><th scope=col>age</th></tr>\n",
       "\t<tr><th></th><th scope=col>&lt;int&gt;</th><th scope=col>&lt;int&gt;</th><th scope=col>&lt;int&gt;</th><th scope=col>&lt;dbl&gt;</th></tr>\n",
       "</thead>\n",
       "<tbody>\n",
       "\t<tr><th scope=row>1</th><td> 1</td><td>1220308</td><td>-1</td><td>78.11758</td></tr>\n",
       "\t<tr><th scope=row>2</th><td> 4</td><td>1280579</td><td>-1</td><td>47.45525</td></tr>\n",
       "\t<tr><th scope=row>3</th><td> 5</td><td>1306345</td><td>-1</td><td>54.81986</td></tr>\n",
       "\t<tr><th scope=row>4</th><td> 6</td><td>1259009</td><td>-1</td><td>50.39521</td></tr>\n",
       "\t<tr><th scope=row>5</th><td>19</td><td>1322741</td><td>-1</td><td>67.16621</td></tr>\n",
       "\t<tr><th scope=row>6</th><td>31</td><td>1229936</td><td>-1</td><td>69.97317</td></tr>\n",
       "</tbody>\n",
       "</table>\n"
      ],
      "text/latex": [
       "A data.frame: 6 × 4\n",
       "\\begin{tabular}{r|llll}\n",
       "  & id & time & ref & age\\\\\n",
       "  & <int> & <int> & <int> & <dbl>\\\\\n",
       "\\hline\n",
       "\t1 &  1 & 1220308 & -1 & 78.11758\\\\\n",
       "\t2 &  4 & 1280579 & -1 & 47.45525\\\\\n",
       "\t3 &  5 & 1306345 & -1 & 54.81986\\\\\n",
       "\t4 &  6 & 1259009 & -1 & 50.39521\\\\\n",
       "\t5 & 19 & 1322741 & -1 & 67.16621\\\\\n",
       "\t6 & 31 & 1229936 & -1 & 69.97317\\\\\n",
       "\\end{tabular}\n"
      ],
      "text/markdown": [
       "\n",
       "A data.frame: 6 × 4\n",
       "\n",
       "| <!--/--> | id &lt;int&gt; | time &lt;int&gt; | ref &lt;int&gt; | age &lt;dbl&gt; |\n",
       "|---|---|---|---|---|\n",
       "| 1 |  1 | 1220308 | -1 | 78.11758 |\n",
       "| 2 |  4 | 1280579 | -1 | 47.45525 |\n",
       "| 3 |  5 | 1306345 | -1 | 54.81986 |\n",
       "| 4 |  6 | 1259009 | -1 | 50.39521 |\n",
       "| 5 | 19 | 1322741 | -1 | 67.16621 |\n",
       "| 6 | 31 | 1229936 | -1 | 69.97317 |\n",
       "\n"
      ],
      "text/plain": [
       "  id time    ref age     \n",
       "1  1 1220308 -1  78.11758\n",
       "2  4 1280579 -1  47.45525\n",
       "3  5 1306345 -1  54.81986\n",
       "4  6 1259009 -1  50.39521\n",
       "5 19 1322741 -1  67.16621\n",
       "6 31 1229936 -1  69.97317"
      ]
     },
     "metadata": {},
     "output_type": "display_data"
    }
   ],
   "source": [
    "# filter patients that already have diabetes before heart disease\n",
    "emr_filter.create(\"has_diabetes\", \"dx.icd9_585\", time.shift = c(-years(120), 0))\n",
    "heart_onset_no_diabetes <- emr_extract(\"age/year()\", iterator = heart_onset %>% select(id, time = heart_onset), filter = \"!has_diabetes\", names = \"age\")\n",
    "\n",
    "nrow(heart_onset)\n",
    "nrow(heart_onset_no_diabetes)\n",
    "\n",
    "head(heart_onset_no_diabetes)"
   ]
  },
  {
   "cell_type": "markdown",
   "metadata": {},
   "source": [
    "### Extract median Hemoglobin for all males between ages 60 to 70"
   ]
  },
  {
   "cell_type": "markdown",
   "metadata": {},
   "source": [
    "Extract for each male patient the median Hemoglobin value between ages 60 and 70. \n",
    "\n",
    "Again we would use \"patients.dob\" as our iterator - this is very efficient as every patient would be examined only once, and define a virtual track with a time shift of 60 to 70 years with a function of median: "
   ]
  },
  {
   "cell_type": "code",
   "execution_count": 68,
   "metadata": {
    "vscode": {
     "languageId": "r"
    }
   },
   "outputs": [],
   "source": [
    "emr_vtrack.create(\"median_hgb\", \"lab.HGB\", time.shift = c(years(60), years(70)), func = \"quantile\", params = c(0.5))"
   ]
  },
  {
   "cell_type": "markdown",
   "metadata": {},
   "source": [
    "Define a filter for males only: \n",
    "\n"
   ]
  },
  {
   "cell_type": "code",
   "execution_count": 69,
   "metadata": {
    "vscode": {
     "languageId": "r"
    }
   },
   "outputs": [],
   "source": [
    "emr_filter.create(\"is_male\", \"patients.dob\", val = 1)"
   ]
  },
  {
   "cell_type": "markdown",
   "metadata": {},
   "source": [
    "Add another filter for having an HGB test in the relevant ages: \n",
    "\n"
   ]
  },
  {
   "cell_type": "code",
   "execution_count": 70,
   "metadata": {
    "vscode": {
     "languageId": "r"
    }
   },
   "outputs": [],
   "source": [
    "emr_filter.create(\"has_hgb\", \"lab.HGB\", time.shift = c(years(60), years(70)))"
   ]
  },
  {
   "cell_type": "markdown",
   "metadata": {},
   "source": [
    "Extract median_hgb for males only:\n",
    "\n"
   ]
  },
  {
   "cell_type": "code",
   "execution_count": 71,
   "metadata": {
    "vscode": {
     "languageId": "r"
    }
   },
   "outputs": [],
   "source": [
    "male_hgb_60_70_q50 <- emr_extract(\"median_hgb\", iterator = \"patients.dob\", filter = \"is_male & has_hgb\")"
   ]
  },
  {
   "cell_type": "markdown",
   "metadata": {},
   "source": [
    "Compare with female median hgb:\n",
    "\n"
   ]
  },
  {
   "cell_type": "code",
   "execution_count": 72,
   "metadata": {
    "vscode": {
     "languageId": "r"
    }
   },
   "outputs": [
    {
     "data": {
      "image/png": "[encoded data removed]",
      "text/plain": [
       "Plot with title \"median HGB in ages 60-70\""
      ]
     },
     "metadata": {
      "image/png": {
       "height": 420,
       "width": 420
      }
     },
     "output_type": "display_data"
    }
   ],
   "source": [
    "female_hgb_60_70_q50 <- emr_extract(\"median_hgb\", iterator = \"patients.dob\", filter = \"!is_male & has_hgb\")\n",
    "plot(density(male_hgb_60_70_q50$median_hgb, na.rm = TRUE), col = \"blue\", main = \"median HGB in ages 60-70\")\n",
    "lines(density(female_hgb_60_70_q50$median_hgb, na.rm = TRUE), col = \"red\")"
   ]
  },
  {
   "cell_type": "markdown",
   "metadata": {},
   "source": [
    "### Count number of patients by age that were in the system in January 2020"
   ]
  },
  {
   "cell_type": "markdown",
   "metadata": {},
   "source": [
    "What does it mean to be \"in the system\"? Every EHR system would have its own definition of this, but in general - we want the patients that have already been born, have not died yet, have registered with the EHR system and haven't left the system (for good) yet.\n",
    "\n",
    "We will start by creating a set of filters that will define the above conditions:"
   ]
  },
  {
   "cell_type": "code",
   "execution_count": 73,
   "metadata": {
    "vscode": {
     "languageId": "r"
    }
   },
   "outputs": [],
   "source": [
    "emr_filter.create(\"born\", \"patients.dob\", time.shift = c(-years(120), 0))\n",
    "emr_filter.create(\"dead\", \"patients.dod\", time.shift = c(-years(120), 0))\n",
    "emr_filter.create(\"registered\", \"patients.status.register\", time.shift = c(-years(120), 0))\n",
    "emr_filter.create(\"left_for_good\", \"patients.status.lfg\", time.shift = c(-years(120), 0))"
   ]
  },
  {
   "cell_type": "markdown",
   "metadata": {},
   "source": [
    "We can now use an iterator of a single point while applying all the filters to count the number of patients that were in the system in January 2020:\n",
    "\n"
   ]
  },
  {
   "cell_type": "code",
   "execution_count": 74,
   "metadata": {
    "vscode": {
     "languageId": "r"
    }
   },
   "outputs": [
    {
     "data": {
      "text/html": [
       "<table class=\"dataframe\">\n",
       "<caption>A data.frame: 6 × 3</caption>\n",
       "<thead>\n",
       "\t<tr><th></th><th scope=col>age</th><th scope=col>sex</th><th scope=col>n</th></tr>\n",
       "\t<tr><th></th><th scope=col>&lt;fct&gt;</th><th scope=col>&lt;fct&gt;</th><th scope=col>&lt;dbl&gt;</th></tr>\n",
       "</thead>\n",
       "<tbody>\n",
       "\t<tr><th scope=row>1</th><td>[19,20)</td><td>1</td><td> 38</td></tr>\n",
       "\t<tr><th scope=row>2</th><td>[20,21)</td><td>1</td><td>105</td></tr>\n",
       "\t<tr><th scope=row>3</th><td>[21,22)</td><td>1</td><td>176</td></tr>\n",
       "\t<tr><th scope=row>4</th><td>[22,23)</td><td>1</td><td>250</td></tr>\n",
       "\t<tr><th scope=row>5</th><td>[23,24)</td><td>1</td><td>370</td></tr>\n",
       "\t<tr><th scope=row>6</th><td>[24,25)</td><td>1</td><td>436</td></tr>\n",
       "</tbody>\n",
       "</table>\n"
      ],
      "text/latex": [
       "A data.frame: 6 × 3\n",
       "\\begin{tabular}{r|lll}\n",
       "  & age & sex & n\\\\\n",
       "  & <fct> & <fct> & <dbl>\\\\\n",
       "\\hline\n",
       "\t1 & {[}19,20) & 1 &  38\\\\\n",
       "\t2 & {[}20,21) & 1 & 105\\\\\n",
       "\t3 & {[}21,22) & 1 & 176\\\\\n",
       "\t4 & {[}22,23) & 1 & 250\\\\\n",
       "\t5 & {[}23,24) & 1 & 370\\\\\n",
       "\t6 & {[}24,25) & 1 & 436\\\\\n",
       "\\end{tabular}\n"
      ],
      "text/markdown": [
       "\n",
       "A data.frame: 6 × 3\n",
       "\n",
       "| <!--/--> | age &lt;fct&gt; | sex &lt;fct&gt; | n &lt;dbl&gt; |\n",
       "|---|---|---|---|\n",
       "| 1 | [19,20) | 1 |  38 |\n",
       "| 2 | [20,21) | 1 | 105 |\n",
       "| 3 | [21,22) | 1 | 176 |\n",
       "| 4 | [22,23) | 1 | 250 |\n",
       "| 5 | [23,24) | 1 | 370 |\n",
       "| 6 | [24,25) | 1 | 436 |\n",
       "\n"
      ],
      "text/plain": [
       "  age     sex n  \n",
       "1 [19,20) 1    38\n",
       "2 [20,21) 1   105\n",
       "3 [21,22) 1   176\n",
       "4 [22,23) 1   250\n",
       "5 [23,24) 1   370\n",
       "6 [24,25) 1   436"
      ]
     },
     "metadata": {},
     "output_type": "display_data"
    }
   ],
   "source": [
    "age_dist_2020 <- emr_dist(\"age/year()\", 0:120, \"sex\", NULL,\n",
    "    iterator = 1,\n",
    "    stime = emr_date2time(1, 1, 2020),\n",
    "    etime = emr_date2time(1, 1, 2020),\n",
    "    filter = \"born & !dead & registered & !left_for_good\",\n",
    "    names = c(\"age\", \"sex\"),\n",
    "    dataframe = TRUE,\n",
    "    right = FALSE\n",
    ")\n",
    "head(age_dist_2020 %>% filter(n > 0))"
   ]
  },
  {
   "cell_type": "markdown",
   "metadata": {},
   "source": [
    "We can plot the distribution:\n",
    "\n"
   ]
  },
  {
   "cell_type": "code",
   "execution_count": 75,
   "metadata": {
    "vscode": {
     "languageId": "r"
    }
   },
   "outputs": [
    {
     "data": {
      "image/png": "[encoded data removed]",
      "text/plain": [
       "plot without title"
      ]
     },
     "metadata": {
      "image/png": {
       "height": 420,
       "width": 420
      }
     },
     "output_type": "display_data"
    }
   ],
   "source": [
    "age_dist_2020 %>%\n",
    "    mutate(sex = factor(c(\"male\", \"female\")[sex])) %>%\n",
    "    mutate(age = as.numeric(age) - 1) %>%\n",
    "    ggplot(aes(x = age, y = n, colour = sex, fill = sex, group = sex)) +\n",
    "    geom_col() +\n",
    "    facet_wrap(~sex) +\n",
    "    theme(axis.text.x = element_text(angle = 90, vjust = 0.5, hjust = 1))"
   ]
  },
  {
   "cell_type": "code",
   "execution_count": null,
   "metadata": {},
   "outputs": [],
   "source": []
  }
 ],
 "metadata": {
  "anaconda-cloud": "",
  "jupytext": {
   "formats": "ipynb,Rmd,R:light"
  },
  "kernelspec": {
   "display_name": "R 4.2.1",
   "language": "R",
   "name": "r_4.2.1"
  },
  "language_info": {
   "codemirror_mode": "r",
   "file_extension": ".r",
   "mimetype": "text/x-r-source",
   "name": "R",
   "pygments_lexer": "r",
   "version": "4.2.1"
  }
 },
 "nbformat": 4,
 "nbformat_minor": 4
}
